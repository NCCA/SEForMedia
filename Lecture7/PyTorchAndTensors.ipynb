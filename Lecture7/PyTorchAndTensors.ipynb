{
 "cells": [
  {
   "cell_type": "markdown",
   "metadata": {},
   "source": [
    "# PyTorch and Tensors\n",
    "\n",
    "We can define tensors with different shapes. In general we have\n",
    "\n",
    "| Rank | Math Entity | Python Example |\n",
    "|------|-------------|----------------|\n",
    "| 0    | Scalar      | `torch.tensor(1)` |\n",
    "| 1    | Vector      | `torch.tensor([1, 2, 3])` |\n",
    "| 2    | Matrix      | `torch.tensor([[1, 2], [3, 4]])` |\n",
    "| 3    | 3-Tensor    | `torch.tensor([[[1, 2], [3, 4]], [[5, 6], [7, 8]]])` |\n",
    "| n    | n-Tensor    | `torch.randn(2, 3, 4, 5)` |\n",
    "\n",
    "The following code will generate a simple tensor. "
   ]
  },
  {
   "cell_type": "code",
   "execution_count": 71,
   "metadata": {},
   "outputs": [
    {
     "name": "stdout",
     "output_type": "stream",
     "text": [
      "tensor(5)\n",
      "torch.Size([])\n"
     ]
    }
   ],
   "source": [
    "import torch\n",
    "import matplotlib.pyplot as plt\n",
    "import numpy as np\n",
    "scalar = torch.tensor(5)\n",
    "print(scalar)  # tensor(5)\n",
    "print(scalar.shape)  # torch.Size([])"
   ]
  },
  {
   "cell_type": "markdown",
   "metadata": {},
   "source": [
    "# 1D Tensors\n",
    "\n",
    "A 1D tensor is basically a vector, we can produce one like this. "
   ]
  },
  {
   "cell_type": "code",
   "execution_count": 72,
   "metadata": {},
   "outputs": [
    {
     "name": "stdout",
     "output_type": "stream",
     "text": [
      "tensor([1, 2, 3])\n",
      "torch.Size([3])\n"
     ]
    }
   ],
   "source": [
    "vector = torch.tensor([1, 2, 3])\n",
    "print(vector) \n",
    "print(vector.shape) "
   ]
  },
  {
   "cell_type": "markdown",
   "metadata": {},
   "source": [
    "## 2D Tensors\n",
    "\n",
    "A 2d tensor is a matrix, we can produce one like this."
   ]
  },
  {
   "cell_type": "code",
   "execution_count": 73,
   "metadata": {},
   "outputs": [
    {
     "name": "stdout",
     "output_type": "stream",
     "text": [
      "tensor([[1, 2, 3],\n",
      "        [4, 5, 6]])\n",
      "torch.Size([2, 3])\n"
     ]
    }
   ],
   "source": [
    "matrix = torch.tensor([[1, 2, 3], [4, 5, 6]])\n",
    "print(matrix)\n",
    "# tensor([[1, 2, 3],\n",
    "#         [4, 5, 6]])\n",
    "print(matrix.shape)  # torch.Size([2, 3])"
   ]
  },
  {
   "cell_type": "markdown",
   "metadata": {},
   "source": [
    "## 3 Tensor\n",
    "\n",
    "This tensor has 3 dimensions, note how when printing the output is truncated.  "
   ]
  },
  {
   "cell_type": "code",
   "execution_count": 74,
   "metadata": {},
   "outputs": [
    {
     "name": "stdout",
     "output_type": "stream",
     "text": [
      "tensor([[[1, 2],\n",
      "         [3, 4]],\n",
      "\n",
      "        [[5, 6],\n",
      "         [7, 8]]])\n",
      "torch.Size([2, 2, 2])\n"
     ]
    }
   ],
   "source": [
    "tensor3d = torch.tensor([[[1, 2], [3, 4]], [[5, 6], [7, 8]]])\n",
    "print(tensor3d)\n",
    "print(tensor3d.shape)  "
   ]
  },
  {
   "cell_type": "markdown",
   "metadata": {},
   "source": [
    "## N Tensor\n",
    "\n",
    "An N tensor is a tensor with N dimensions. These are typically created for existing data or functions as it is quite complex to generate higher order ones easily. "
   ]
  },
  {
   "cell_type": "code",
   "execution_count": 75,
   "metadata": {},
   "outputs": [
    {
     "name": "stdout",
     "output_type": "stream",
     "text": [
      "tensor([[[[0.5457, 0.7152, 0.2881, 0.3441, 0.8018],\n",
      "          [0.6528, 0.0296, 0.3094, 0.1287, 0.3157],\n",
      "          [0.1999, 0.8526, 0.1666, 0.1930, 0.7466],\n",
      "          [0.2631, 0.2396, 0.2617, 0.1418, 0.3004]],\n",
      "\n",
      "         [[0.7106, 0.7221, 0.2115, 0.3734, 0.1173],\n",
      "          [0.1392, 0.0901, 0.5307, 0.4504, 0.7013],\n",
      "          [0.7314, 0.7550, 0.9585, 0.2564, 0.2528],\n",
      "          [0.0156, 0.9199, 0.8567, 0.8919, 0.4949]],\n",
      "\n",
      "         [[0.4699, 0.9946, 0.2743, 0.8350, 0.5859],\n",
      "          [0.4850, 0.8138, 0.5461, 0.7110, 0.9479],\n",
      "          [0.0282, 0.6125, 0.9303, 0.2782, 0.5786],\n",
      "          [0.2653, 0.4610, 0.2695, 0.7300, 0.0691]]],\n",
      "\n",
      "\n",
      "        [[[0.8336, 0.5587, 0.4343, 0.2873, 0.2221],\n",
      "          [0.6533, 0.8833, 0.6112, 0.4973, 0.4860],\n",
      "          [0.8751, 0.6489, 0.9771, 0.5994, 0.8038],\n",
      "          [0.3342, 0.1528, 0.1209, 0.5438, 0.1330]],\n",
      "\n",
      "         [[0.5756, 0.9839, 0.1773, 0.9553, 0.8954],\n",
      "          [0.6061, 0.4835, 0.6320, 0.6022, 0.1982],\n",
      "          [0.3433, 0.7467, 0.9080, 0.9846, 0.8006],\n",
      "          [0.3424, 0.0508, 0.9250, 0.8918, 0.2440]],\n",
      "\n",
      "         [[0.5777, 0.5660, 0.5120, 0.0511, 0.9865],\n",
      "          [0.5272, 0.6837, 0.9561, 0.5239, 0.2072],\n",
      "          [0.2319, 0.0549, 0.9586, 0.7132, 0.2416],\n",
      "          [0.0553, 0.9639, 0.9442, 0.8661, 0.7965]]]])\n",
      "torch.Size([2, 3, 4, 5])\n"
     ]
    }
   ],
   "source": [
    "tensor = torch.rand(2,3,4,5)\n",
    "print(tensor)\n",
    "print(tensor.shape)"
   ]
  },
  {
   "cell_type": "markdown",
   "metadata": {},
   "source": [
    "## Generating Tensors\n",
    "\n",
    "There are a number of ways to generate tensors and pytorch comes with a number of functions to help us generate them.\n",
    "\n",
    "### torch.tensor(data)\n",
    "\n",
    "This method will generate a tensor from data passed in which could be a standard python container (list,tuple) or numpy array as follows."
   ]
  },
  {
   "cell_type": "code",
   "execution_count": 76,
   "metadata": {},
   "outputs": [
    {
     "name": "stdout",
     "output_type": "stream",
     "text": [
      "tensor([[1, 2, 3],\n",
      "        [4, 5, 6]]) torch.Size([2, 3])\n",
      "tensor([[1, 2, 3],\n",
      "        [4, 5, 6]]) torch.Size([2, 3])\n",
      "tensor([[[0.9714, 0.0144, 0.9977],\n",
      "         [0.4515, 0.4053, 0.2531]],\n",
      "\n",
      "        [[0.1021, 0.0490, 0.7883],\n",
      "         [0.4358, 0.9770, 0.1805]]], dtype=torch.float64) torch.Size([2, 2, 3])\n"
     ]
    }
   ],
   "source": [
    "from_tuple=torch.tensor(((1,2,3),(4,5,6)))\n",
    "print(f\"{from_tuple} {from_tuple.shape}\")\n",
    "from_list=torch.tensor([[1,2,3],[4,5,6]])\n",
    "print(f\"{from_list} {from_list.shape}\")\n",
    "data=np.random.rand(2,2,3)\n",
    "from_array=torch.tensor(data)\n",
    "print(f\"{from_array} {from_array.shape}\")"
   ]
  },
  {
   "cell_type": "markdown",
   "metadata": {},
   "source": [
    "## from similar values\n",
    "\n",
    "As with numpy we can create arrays as zeros, ones of full values"
   ]
  },
  {
   "cell_type": "code",
   "execution_count": 77,
   "metadata": {},
   "outputs": [
    {
     "name": "stdout",
     "output_type": "stream",
     "text": [
      "tensor([[0., 0., 0.],\n",
      "        [0., 0., 0.],\n",
      "        [0., 0., 0.]]) torch.Size([3, 3])\n",
      "tensor([[1., 1., 1.],\n",
      "        [1., 1., 1.],\n",
      "        [1., 1., 1.]]) torch.Size([3, 3])\n",
      "tensor([[7, 7, 7],\n",
      "        [7, 7, 7],\n",
      "        [7, 7, 7]]) torch.Size([3, 3])\n",
      "tensor([[0., 0.],\n",
      "        [0., 0.]]) torch.Size([2, 2])\n"
     ]
    }
   ],
   "source": [
    "tensor = torch.zeros(3, 3)\n",
    "print(f\"{tensor} {tensor.shape}\")\n",
    "tensor = torch.ones(3, 3)\n",
    "print(f\"{tensor} {tensor.shape}\")\n",
    "tensor = torch.full((3, 3), 7)\n",
    "print(f\"{tensor} {tensor.shape}\")\n",
    "tensor = torch.empty(2, 2) # uninitialized but most will set to zero\n",
    "print(f\"{tensor} {tensor.shape}\")"
   ]
  },
  {
   "cell_type": "markdown",
   "metadata": {},
   "source": [
    "## ranges\n",
    "\n",
    "As with numpy there are a number of range based functions to generate tensors, most of them are of the format start,stop, step "
   ]
  },
  {
   "cell_type": "code",
   "execution_count": 78,
   "metadata": {},
   "outputs": [
    {
     "name": "stdout",
     "output_type": "stream",
     "text": [
      "tensor([0, 2, 4, 6, 8]) torch.Size([5])\n",
      "tensor([0.0000, 0.2500, 0.5000, 0.7500, 1.0000]) torch.Size([5])\n"
     ]
    }
   ],
   "source": [
    "tensor = torch.arange(0, 10, 2)\n",
    "print(f\"{tensor} {tensor.shape}\")\n",
    "# Initializes a tensor with linearly spaced values between a start and end values\n",
    "tensor = torch.linspace(0, 1, steps=5)\n",
    "print(f\"{tensor} {tensor.shape}\")\n"
   ]
  },
  {
   "cell_type": "markdown",
   "metadata": {},
   "source": [
    "## Identity and Diagonal\n",
    "\n",
    "We can generate identity and diagonal matrices as follows, not there are other methods to set diagonals as well."
   ]
  },
  {
   "cell_type": "code",
   "execution_count": 79,
   "metadata": {},
   "outputs": [
    {
     "name": "stdout",
     "output_type": "stream",
     "text": [
      "tensor([[1., 0., 0., 0.],\n",
      "        [0., 1., 0., 0.],\n",
      "        [0., 0., 1., 0.],\n",
      "        [0., 0., 0., 1.]]) torch.Size([4, 4])\n",
      "tensor([[1, 0, 0, 0],\n",
      "        [0, 2, 0, 0],\n",
      "        [0, 0, 3, 0],\n",
      "        [0, 0, 0, 4]]) torch.Size([4, 4])\n",
      "tensor([[8., 0., 0., 0.],\n",
      "        [0., 8., 0., 0.],\n",
      "        [0., 0., 8., 0.],\n",
      "        [0., 0., 0., 8.]]) torch.Size([4, 4])\n"
     ]
    }
   ],
   "source": [
    "tensor=torch.eye(4)\n",
    "print(f\"{tensor} {tensor.shape}\")\n",
    "tensor=torch.diag(torch.tensor([1,2,3,4]))\n",
    "print(f\"{tensor} {tensor.shape}\")\n",
    "# We can set diagonals to a set value using \n",
    "tensor = torch.zeros(4, 4)\n",
    "\n",
    "# Set all diagonal elements to 8\n",
    "tensor.fill_diagonal_(8)\n",
    "print(f\"{tensor} {tensor.shape}\")\n"
   ]
  },
  {
   "cell_type": "markdown",
   "metadata": {},
   "source": [
    "## Random Tensors\n",
    "\n",
    "We can generate random tensors as follows, note that the random number generation is based on the current random seed. The two core functions are the rand and randn functions which give us random values between 0 and 1 and random values from a normal distribution respectively.\n",
    "\n",
    "We also have integer functions as well as random permutations, which can be useful for shuffling data."
   ]
  },
  {
   "cell_type": "code",
   "execution_count": 80,
   "metadata": {},
   "outputs": [
    {
     "name": "stdout",
     "output_type": "stream",
     "text": [
      "tensor([[0.7381, 0.4924],\n",
      "        [0.7600, 0.0728],\n",
      "        [0.3582, 0.0426]]) torch.Size([3, 2])\n",
      "tensor([[-1.1191, -3.1625],\n",
      "        [ 0.2661,  0.1412],\n",
      "        [ 0.2495, -0.2327]]) torch.Size([3, 2])\n",
      "tensor([[7, 3, 5],\n",
      "        [4, 1, 1]]) torch.Size([2, 3])\n",
      "tensor([4, 2, 0, 3, 1]) torch.Size([5])\n"
     ]
    }
   ],
   "source": [
    "tensor = torch.rand(3, 2)\n",
    "print(f\"{tensor} {tensor.shape}\")\n",
    "tensor = torch.randn(3, 2)\n",
    "print(f\"{tensor} {tensor.shape}\")\n",
    "# Random integers use low, high and size \n",
    "tensor = torch.randint(0, 10, (2, 3))\n",
    "print(f\"{tensor} {tensor.shape}\")\n",
    "# Initializes a tensor with a random permutation of integers from 0 to n-1.\n",
    "tensor = torch.randperm(5)\n",
    "print(f\"{tensor} {tensor.shape}\")\n"
   ]
  },
  {
   "cell_type": "markdown",
   "metadata": {},
   "source": [
    "We can generate normal distributions based around a mean and standard deviation as follows."
   ]
  },
  {
   "cell_type": "code",
   "execution_count": 81,
   "metadata": {},
   "outputs": [
    {
     "name": "stdout",
     "output_type": "stream",
     "text": [
      "tensor([[-0.5492,  0.0482],\n",
      "        [ 0.1651, -1.9721]]) torch.Size([2, 2])\n"
     ]
    }
   ],
   "source": [
    "tensor = torch.normal(mean=0, std=1, size=(2, 2))\n",
    "print(f\"{tensor} {tensor.shape}\")"
   ]
  },
  {
   "cell_type": "markdown",
   "metadata": {},
   "source": [
    "There are more functions available in the documentation which can be found [here](https://pytorch.org/docs/stable/torch.html#creation-ops)"
   ]
  },
  {
   "cell_type": "markdown",
   "metadata": {},
   "source": [
    "## Device\n",
    "\n",
    "The following function will determine which device we have available. If we have properly installed PyTorch and setup for CUDA it should show ```cuda``` as the device. On mac you may get mps for the metal device (note not all things work with this), else we will get CPU, which is slower but should work fine. "
   ]
  },
  {
   "cell_type": "code",
   "execution_count": 82,
   "metadata": {},
   "outputs": [
    {
     "name": "stdout",
     "output_type": "stream",
     "text": [
      "mps\n"
     ]
    }
   ],
   "source": [
    "def get_device() -> torch.device:\n",
    "    \"\"\"\n",
    "    Returns the appropriate device for the current environment.\n",
    "    \"\"\"\n",
    "    if torch.cuda.is_available():\n",
    "        return torch.device('cuda')\n",
    "    elif torch.backends.mps.is_available(): # mac metal backend\n",
    "        return torch.device('mps')\n",
    "    else:\n",
    "        return torch.device('cpu')\n",
    "\n",
    "device = get_device()\n",
    "print(device)  "
   ]
  },
  {
   "cell_type": "markdown",
   "metadata": {},
   "source": [
    "When we create tensors we can specify the device we want to use, this is useful for training on GPUs.\n",
    "\n"
   ]
  },
  {
   "cell_type": "code",
   "execution_count": 83,
   "metadata": {},
   "outputs": [
    {
     "name": "stdout",
     "output_type": "stream",
     "text": [
      "tensor([[0.0146, 0.2730, 0.5912],\n",
      "        [0.3477, 0.4966, 0.1329],\n",
      "        [0.8471, 0.1715, 0.3513]], device='mps:0') torch.Size([3, 3]) mps:0\n"
     ]
    }
   ],
   "source": [
    "tensor = torch.rand(3, 3, device=device)\n",
    "print(f\"{tensor} {tensor.shape} {tensor.device}\")"
   ]
  },
  {
   "cell_type": "markdown",
   "metadata": {},
   "source": [
    "If we want to move a tensor to a different device we can use the to function as follows."
   ]
  },
  {
   "cell_type": "code",
   "execution_count": 84,
   "metadata": {},
   "outputs": [
    {
     "name": "stdout",
     "output_type": "stream",
     "text": [
      "tensor([[0.0146, 0.2730, 0.5912],\n",
      "        [0.3477, 0.4966, 0.1329],\n",
      "        [0.8471, 0.1715, 0.3513]]) torch.Size([3, 3]) cpu\n"
     ]
    }
   ],
   "source": [
    "cpu_tensor = tensor.to('cpu')\n",
    "print(f\"{cpu_tensor} {cpu_tensor.shape} {cpu_tensor.device}\")"
   ]
  },
  {
   "cell_type": "markdown",
   "metadata": {},
   "source": [
    "It is our job to manage the device we are using, if we try to use a tensor on a device that is not available we will get an error. Typically we will generate data on the CPU side (i.e. loading / processing it) and then move it to the GPU for training.\n",
    "\n",
    "Later on when we have a trained model we can move it back to the CPU for inference."
   ]
  },
  {
   "cell_type": "markdown",
   "metadata": {},
   "source": [
    "## Saving and Loading Tensors\n",
    "\n",
    "We can save and load tensors and groups of tensors to a file using the .save and .load functions. This will save data in a binary format by default."
   ]
  },
  {
   "cell_type": "code",
   "execution_count": 85,
   "metadata": {},
   "outputs": [
    {
     "name": "stdout",
     "output_type": "stream",
     "text": [
      "tensor([[1., 2.],\n",
      "        [3., 4.]]) torch.Size([2, 2])\n"
     ]
    }
   ],
   "source": [
    "# Create a tensor\n",
    "tensor = torch.tensor([[1.0, 2.0], [3.0, 4.0]])\n",
    "\n",
    "# Save the tensor to a file (e.g., \"tensor.pt\")\n",
    "torch.save(tensor, 'tensor.pt')\n",
    "new_tensor = torch.load('tensor.pt')\n",
    "print(f\"{new_tensor} {new_tensor.shape}\")"
   ]
  },
  {
   "cell_type": "markdown",
   "metadata": {},
   "source": [
    "You can also save multiple tensors or other objects by placing them in a dictionary and then saving the dictionary as follows."
   ]
  },
  {
   "cell_type": "code",
   "execution_count": 86,
   "metadata": {},
   "outputs": [
    {
     "name": "stdout",
     "output_type": "stream",
     "text": [
      "tensor([1., 2., 3.]) torch.Size([3])\n",
      "tensor([[4., 5.],\n",
      "        [6., 7.]]) torch.Size([2, 2])\n"
     ]
    }
   ],
   "source": [
    "# Create multiple tensors\n",
    "tensor1 = torch.tensor([1.0, 2.0, 3.0])\n",
    "tensor2 = torch.tensor([[4.0, 5.0], [6.0, 7.0]])\n",
    "\n",
    "# Save the tensors in a dictionary\n",
    "torch.save({'tensor1': tensor1, 'tensor2': tensor2}, 'tensors.pt')\n",
    "\n",
    "loaded_data = torch.load('tensors.pt')\n",
    "\n",
    "t1 = loaded_data['tensor1']\n",
    "t2 = loaded_data['tensor2']\n",
    "\n",
    "print(f\"{t1} {t1.shape}\")\n",
    "print(f\"{t2} {t2.shape}\")"
   ]
  },
  {
   "cell_type": "markdown",
   "metadata": {},
   "source": [
    "## Loading Images\n",
    "\n",
    "We can load images as tensors using the PIL library and then convert them to tensors. As this is quite a common operation PyTorch provides a function to do this for us in the torchvision library."
   ]
  },
  {
   "cell_type": "code",
   "execution_count": 87,
   "metadata": {},
   "outputs": [
    {
     "name": "stdout",
     "output_type": "stream",
     "text": [
      "torch.Size([4, 340, 586])\n"
     ]
    }
   ],
   "source": [
    "from PIL import Image\n",
    "import torchvision.transforms as transforms\n",
    "\n",
    "# Load the image from a file\n",
    "image = Image.open(\"banana.png\")\n",
    "\n",
    "# Define a transform to convert the image to a tensor\n",
    "transform = transforms.ToTensor()\n",
    "\n",
    "# Apply the transform to the image\n",
    "tensor_image = transform(image)\n",
    "\n",
    "print(f\"{tensor_image.shape}\")\n",
    "\n"
   ]
  },
  {
   "cell_type": "markdown",
   "metadata": {},
   "source": [
    "We can now convert this back to an image and display it as follows."
   ]
  },
  {
   "cell_type": "code",
   "execution_count": 88,
   "metadata": {},
   "outputs": [
    {
     "data": {
      "image/png": "[encoded data removed]",
      "text/plain": [
       "<Figure size 640x480 with 1 Axes>"
      ]
     },
     "metadata": {},
     "output_type": "display_data"
    }
   ],
   "source": [
    "from PIL import Image\n",
    "numpy_image = np.array(image)\n",
    "plt.imshow(numpy_image)\n",
    "plt.axis('off')\n",
    "plt.show()"
   ]
  },
  {
   "cell_type": "markdown",
   "metadata": {},
   "source": [
    "It is quite common to convert an image into a tensor and then process it (such as normalizing it) before passing it to a model for training or inference."
   ]
  },
  {
   "cell_type": "markdown",
   "metadata": {},
   "source": []
  },
  {
   "cell_type": "code",
   "execution_count": 89,
   "metadata": {},
   "outputs": [
    {
     "name": "stderr",
     "output_type": "stream",
     "text": [
      "Clipping input data to the valid range for imshow with RGB data ([0..1] for floats or [0..255] for integers).\n"
     ]
    },
    {
     "data": {
      "image/png": "[encoded data removed]",
      "text/plain": [
       "<Figure size 640x480 with 1 Axes>"
      ]
     },
     "metadata": {},
     "output_type": "display_data"
    }
   ],
   "source": [
    "# Load an image and apply transformations\n",
    "image = Image.open(\"banana.png\")\n",
    "image=image.convert(\"RGB\")\n",
    "# Normalize the image (simulating a normalized tensor from a model)\n",
    "# Going to exaggerate the  channels for illustration\n",
    "normalize = transforms.Compose([\n",
    "    transforms.ToTensor(),\n",
    "    transforms.Normalize(mean=[0.5, 0.5, 0.5], std=[0.3, 0.3, 0.3])\n",
    "])\n",
    "tensor_image = normalize(image)\n",
    "\n",
    "\n",
    "numpy_image = tensor_image.permute(1, 2, 0).numpy()\n",
    "\n",
    "plt.imshow(numpy_image)\n",
    "plt.axis('off')\n",
    "plt.show()"
   ]
  },
  {
   "cell_type": "markdown",
   "metadata": {},
   "source": [
    "We will look at more advanced image processing options in a later lectures / lab."
   ]
  },
  {
   "cell_type": "markdown",
   "metadata": {},
   "source": [
    "## Other Tensor Data Formats\n",
    "\n",
    "We can load tensors from other formats including numpy, pandas and csv files, as well as things like audio and video. These are typically done using the appropriate libraries and then converting the data to tensors such as torch.audio or torch.video\n",
    "\n",
    "In a future lecture we will look at how we can load batches of data for training using the DataLoader class."
   ]
  },
  {
   "cell_type": "markdown",
   "metadata": {},
   "source": []
  }
 ],
 "metadata": {
  "kernelspec": {
   "display_name": "base",
   "language": "python",
   "name": "python3"
  },
  "language_info": {
   "codemirror_mode": {
    "name": "ipython",
    "version": 3
   },
   "file_extension": ".py",
   "mimetype": "text/x-python",
   "name": "python",
   "nbconvert_exporter": "python",
   "pygments_lexer": "ipython3",
   "version": "3.11.7"
  }
 },
 "nbformat": 4,
 "nbformat_minor": 2
}
