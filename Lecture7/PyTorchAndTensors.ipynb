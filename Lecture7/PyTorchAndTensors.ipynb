{
 "cells": [
  {
   "cell_type": "markdown",
   "metadata": {},
   "source": [
    "# PyTorch and Tensors\n",
    "\n",
    "We can define tensors with different shapes. In general we have\n",
    "\n",
    "| Rank | Math Entity | Python Example |\n",
    "|------|-------------|----------------|\n",
    "| 0    | Scalar      | `torch.tensor(1)` |\n",
    "| 1    | Vector      | `torch.tensor([1, 2, 3])` |\n",
    "| 2    | Matrix      | `torch.tensor([[1, 2], [3, 4]])` |\n",
    "| 3    | 3-Tensor    | `torch.tensor([[[1, 2], [3, 4]], [[5, 6], [7, 8]]])` |\n",
    "| n    | n-Tensor    | `torch.randn(2, 3, 4, 5)` |\n",
    "\n",
    "The following code will generate a simple tensor. "
   ]
  },
  {
   "cell_type": "code",
   "execution_count": 13,
   "metadata": {},
   "outputs": [
    {
     "name": "stdout",
     "output_type": "stream",
     "text": [
      "tensor(5)\n",
      "torch.Size([])\n"
     ]
    }
   ],
   "source": [
    "import torch\n",
    "import matplotlib.pyplot as plt\n",
    "import numpy as np\n",
    "scalar = torch.tensor(5)\n",
    "print(scalar)  # tensor(5)\n",
    "print(scalar.shape)  # torch.Size([])"
   ]
  },
  {
   "cell_type": "markdown",
   "metadata": {},
   "source": [
    "# 1D Tensors\n",
    "\n",
    "A 1D tensor is basically a vector, we can produce one like this. "
   ]
  },
  {
   "cell_type": "code",
   "execution_count": 7,
   "metadata": {},
   "outputs": [
    {
     "name": "stdout",
     "output_type": "stream",
     "text": [
      "tensor([1, 2, 3])\n",
      "torch.Size([3])\n"
     ]
    }
   ],
   "source": [
    "vector = torch.tensor([1, 2, 3])\n",
    "print(vector) \n",
    "print(vector.shape) "
   ]
  },
  {
   "cell_type": "markdown",
   "metadata": {},
   "source": [
    "## 2D Tensors\n",
    "\n",
    "A 2d tensor is a matrix, we can produce one like this."
   ]
  },
  {
   "cell_type": "code",
   "execution_count": 8,
   "metadata": {},
   "outputs": [
    {
     "name": "stdout",
     "output_type": "stream",
     "text": [
      "tensor([[1, 2, 3],\n",
      "        [4, 5, 6]])\n",
      "torch.Size([2, 3])\n"
     ]
    }
   ],
   "source": [
    "matrix = torch.tensor([[1, 2, 3], [4, 5, 6]])\n",
    "print(matrix)\n",
    "# tensor([[1, 2, 3],\n",
    "#         [4, 5, 6]])\n",
    "print(matrix.shape)  # torch.Size([2, 3])"
   ]
  },
  {
   "cell_type": "markdown",
   "metadata": {},
   "source": [
    "## 3 Tensor\n",
    "\n",
    "This tensor has 3 dimensions, note how when printing the output is truncated.  "
   ]
  },
  {
   "cell_type": "code",
   "execution_count": 9,
   "metadata": {},
   "outputs": [
    {
     "name": "stdout",
     "output_type": "stream",
     "text": [
      "tensor([[[1, 2],\n",
      "         [3, 4]],\n",
      "\n",
      "        [[5, 6],\n",
      "         [7, 8]]])\n",
      "torch.Size([2, 2, 2])\n"
     ]
    }
   ],
   "source": [
    "tensor3d = torch.tensor([[[1, 2], [3, 4]], [[5, 6], [7, 8]]])\n",
    "print(tensor3d)\n",
    "print(tensor3d.shape)  "
   ]
  },
  {
   "cell_type": "markdown",
   "metadata": {},
   "source": [
    "## N Tensor\n",
    "\n",
    "An N tensor is a tensor with N dimensions. These are typically created for existing data or functions as it is quite complex to generate higher order ones easily. "
   ]
  },
  {
   "cell_type": "code",
   "execution_count": 10,
   "metadata": {},
   "outputs": [
    {
     "name": "stdout",
     "output_type": "stream",
     "text": [
      "tensor([[[[0.2427, 0.4552, 0.4872, 0.7850, 0.5079],\n",
      "          [0.0618, 0.4205, 0.8676, 0.9544, 0.8629],\n",
      "          [0.3455, 0.9419, 0.9714, 0.7753, 0.1489],\n",
      "          [0.7451, 0.3483, 0.4283, 0.1448, 0.4689]],\n",
      "\n",
      "         [[0.7161, 0.1850, 0.3478, 0.6003, 0.1614],\n",
      "          [0.3213, 0.8152, 0.7646, 0.2333, 0.4037],\n",
      "          [0.9694, 0.2593, 0.1044, 0.1079, 0.5982],\n",
      "          [0.0035, 0.6947, 0.4354, 0.9020, 0.2718]],\n",
      "\n",
      "         [[0.0353, 0.7808, 0.3296, 0.2135, 0.3135],\n",
      "          [0.0178, 0.4738, 0.5902, 0.8079, 0.1110],\n",
      "          [0.2938, 0.4709, 0.2908, 0.2135, 0.8880],\n",
      "          [0.2065, 0.8248, 0.1540, 0.8519, 0.0066]]],\n",
      "\n",
      "\n",
      "        [[[0.1294, 0.3065, 0.7871, 0.8884, 0.7127],\n",
      "          [0.2749, 0.4011, 0.1187, 0.1497, 0.7466],\n",
      "          [0.9658, 0.1696, 0.7159, 0.2847, 0.4593],\n",
      "          [0.7343, 0.8411, 0.8159, 0.9385, 0.5838]],\n",
      "\n",
      "         [[0.5666, 0.4600, 0.8450, 0.8331, 0.4919],\n",
      "          [0.1534, 0.9571, 0.1984, 0.2035, 0.2634],\n",
      "          [0.4726, 0.3310, 0.5302, 0.9580, 0.5476],\n",
      "          [0.3097, 0.5137, 0.5032, 0.9445, 0.8444]],\n",
      "\n",
      "         [[0.6419, 0.0890, 0.1169, 0.6247, 0.3387],\n",
      "          [0.7862, 0.9580, 0.7442, 0.7191, 0.7548],\n",
      "          [0.9402, 0.5578, 0.3843, 0.0268, 0.6171],\n",
      "          [0.2245, 0.0642, 0.2004, 0.6130, 0.4086]]]])\n",
      "torch.Size([2, 3, 4, 5])\n"
     ]
    }
   ],
   "source": [
    "tensor = torch.rand(2,3,4,5)\n",
    "print(tensor)\n",
    "print(tensor.shape)"
   ]
  },
  {
   "cell_type": "markdown",
   "metadata": {},
   "source": [
    "## Generating Tensors\n",
    "\n",
    "There are a number of ways to generate tensors and pytorch comes with a number of functions to help us generate them.\n",
    "\n",
    "### torch.tensor(data)\n",
    "\n",
    "This method will generate a tensor from data passed in which could be a standard python container (list,tuple) or numpy array as follows."
   ]
  },
  {
   "cell_type": "code",
   "execution_count": 22,
   "metadata": {},
   "outputs": [
    {
     "name": "stdout",
     "output_type": "stream",
     "text": [
      "tensor([[1, 2, 3],\n",
      "        [4, 5, 6]]) torch.Size([2, 3])\n",
      "tensor([[1, 2, 3],\n",
      "        [4, 5, 6]]) torch.Size([2, 3])\n",
      "tensor([[[0.4075, 0.8264, 0.3441],\n",
      "         [0.4767, 0.6325, 0.7700]],\n",
      "\n",
      "        [[0.3629, 0.5287, 0.8966],\n",
      "         [0.2555, 0.9697, 0.4742]]], dtype=torch.float64) torch.Size([2, 2, 3])\n"
     ]
    }
   ],
   "source": [
    "from_tuple=torch.tensor(((1,2,3),(4,5,6)))\n",
    "print(f\"{from_tuple} {from_tuple.shape}\")\n",
    "from_list=torch.tensor([[1,2,3],[4,5,6]])\n",
    "print(f\"{from_list} {from_list.shape}\")\n",
    "data=np.random.rand(2,2,3)\n",
    "from_array=torch.tensor(data)\n",
    "print(f\"{from_array} {from_array.shape}\")"
   ]
  },
  {
   "cell_type": "markdown",
   "metadata": {},
   "source": [
    "## from similar values\n",
    "\n",
    "As with numpy we can create arrays as zeros, ones of full values"
   ]
  },
  {
   "cell_type": "code",
   "execution_count": 36,
   "metadata": {},
   "outputs": [
    {
     "name": "stdout",
     "output_type": "stream",
     "text": [
      "tensor([[0., 0., 0.],\n",
      "        [0., 0., 0.],\n",
      "        [0., 0., 0.]]) torch.Size([3, 3])\n",
      "tensor([[1., 1., 1.],\n",
      "        [1., 1., 1.],\n",
      "        [1., 1., 1.]]) torch.Size([3, 3])\n",
      "tensor([[7, 7, 7],\n",
      "        [7, 7, 7],\n",
      "        [7, 7, 7]]) torch.Size([3, 3])\n",
      "tensor([[0., 0.],\n",
      "        [0., 0.]]) torch.Size([2, 2])\n"
     ]
    }
   ],
   "source": [
    "tensor = torch.zeros(3, 3)\n",
    "print(f\"{tensor} {tensor.shape}\")\n",
    "tensor = torch.ones(3, 3)\n",
    "print(f\"{tensor} {tensor.shape}\")\n",
    "tensor = torch.full((3, 3), 7)\n",
    "print(f\"{tensor} {tensor.shape}\")\n",
    "tensor = torch.empty(2, 2) # uninitialized but most will set to zero\n",
    "print(f\"{tensor} {tensor.shape}\")"
   ]
  },
  {
   "cell_type": "markdown",
   "metadata": {},
   "source": [
    "## ranges\n",
    "\n",
    "As with numpy there are a number of range based functions to generate tensors, most of them are of the format start,stop, step "
   ]
  },
  {
   "cell_type": "code",
   "execution_count": 25,
   "metadata": {},
   "outputs": [
    {
     "name": "stdout",
     "output_type": "stream",
     "text": [
      "tensor([0, 2, 4, 6, 8]) torch.Size([5])\n",
      "tensor([0.0000, 0.2500, 0.5000, 0.7500, 1.0000]) torch.Size([5])\n"
     ]
    }
   ],
   "source": [
    "tensor = torch.arange(0, 10, 2)\n",
    "print(f\"{tensor} {tensor.shape}\")\n",
    "# Initializes a tensor with linearly spaced values between a start and end values\n",
    "tensor = torch.linspace(0, 1, steps=5)\n",
    "print(f\"{tensor} {tensor.shape}\")\n"
   ]
  },
  {
   "cell_type": "markdown",
   "metadata": {},
   "source": [
    "## Identity and Diagonal\n",
    "\n",
    "We can generate identity and diagonal matrices as follows, not there are other methods to set diagonals as well."
   ]
  },
  {
   "cell_type": "code",
   "execution_count": 30,
   "metadata": {},
   "outputs": [
    {
     "name": "stdout",
     "output_type": "stream",
     "text": [
      "tensor([[1., 0., 0., 0.],\n",
      "        [0., 1., 0., 0.],\n",
      "        [0., 0., 1., 0.],\n",
      "        [0., 0., 0., 1.]]) torch.Size([4, 4])\n",
      "tensor([[1, 0, 0, 0],\n",
      "        [0, 2, 0, 0],\n",
      "        [0, 0, 3, 0],\n",
      "        [0, 0, 0, 4]]) torch.Size([4, 4])\n",
      "tensor([[8., 0., 0., 0.],\n",
      "        [0., 8., 0., 0.],\n",
      "        [0., 0., 8., 0.],\n",
      "        [0., 0., 0., 8.]]) torch.Size([4, 4])\n"
     ]
    }
   ],
   "source": [
    "tensor=torch.eye(4)\n",
    "print(f\"{tensor} {tensor.shape}\")\n",
    "tensor=torch.diag(torch.tensor([1,2,3,4]))\n",
    "print(f\"{tensor} {tensor.shape}\")\n",
    "# We can set diagonals to a set value using \n",
    "tensor = torch.zeros(4, 4)\n",
    "\n",
    "# Set all diagonal elements to 8\n",
    "tensor.fill_diagonal_(8)\n",
    "print(f\"{tensor} {tensor.shape}\")\n"
   ]
  },
  {
   "cell_type": "markdown",
   "metadata": {},
   "source": [
    "## Random Tensors\n",
    "\n",
    "We can generate random tensors as follows, note that the random number generation is based on the current random seed. The two core functions are the rand and randn functions which give us random values between 0 and 1 and random values from a normal distribution respectively.\n",
    "\n",
    "We also have integer functions as well as random permutations, which can be useful for shuffling data."
   ]
  },
  {
   "cell_type": "code",
   "execution_count": 33,
   "metadata": {},
   "outputs": [
    {
     "name": "stdout",
     "output_type": "stream",
     "text": [
      "tensor([[0.1953, 0.5633],\n",
      "        [0.6772, 0.2545],\n",
      "        [0.0901, 0.2841]]) torch.Size([3, 2])\n",
      "tensor([[-0.7728, -2.1594],\n",
      "        [ 0.0672, -2.5894],\n",
      "        [-2.7932,  0.5322]]) torch.Size([3, 2])\n",
      "tensor([[9, 1, 4],\n",
      "        [4, 9, 3]]) torch.Size([2, 3])\n",
      "tensor([0, 3, 2, 4, 1]) torch.Size([5])\n"
     ]
    }
   ],
   "source": [
    "tensor = torch.rand(3, 2)\n",
    "print(f\"{tensor} {tensor.shape}\")\n",
    "tensor = torch.randn(3, 2)\n",
    "print(f\"{tensor} {tensor.shape}\")\n",
    "# Random integers use low, high and size \n",
    "tensor = torch.randint(0, 10, (2, 3))\n",
    "print(f\"{tensor} {tensor.shape}\")\n",
    "# Initializes a tensor with a random permutation of integers from 0 to n-1.\n",
    "tensor = torch.randperm(5)\n",
    "print(f\"{tensor} {tensor.shape}\")\n"
   ]
  },
  {
   "cell_type": "markdown",
   "metadata": {},
   "source": [
    "We can generate normal distributions based around a mean and standard deviation as follows."
   ]
  },
  {
   "cell_type": "code",
   "execution_count": 42,
   "metadata": {},
   "outputs": [
    {
     "name": "stdout",
     "output_type": "stream",
     "text": [
      "tensor([[-0.5969, -0.3649],\n",
      "        [ 1.0527, -0.1846]]) torch.Size([2, 2])\n"
     ]
    }
   ],
   "source": [
    "tensor = torch.normal(mean=0, std=1, size=(2, 2))\n",
    "print(f\"{tensor} {tensor.shape}\")"
   ]
  },
  {
   "cell_type": "markdown",
   "metadata": {},
   "source": [
    "There are more functions available in the documentation which can be found [here](https://pytorch.org/docs/stable/torch.html#creation-ops)"
   ]
  },
  {
   "cell_type": "markdown",
   "metadata": {},
   "source": [
    "## Device\n",
    "\n",
    "The following function will determine which device we have available. If we have properly installed PyTorch and setup for CUDA it should show ```cuda``` as the device. On mac you may get mps for the metal device (note not all things work with this), else we will get CPU, which is slower but should work fine. "
   ]
  },
  {
   "cell_type": "code",
   "execution_count": 12,
   "metadata": {},
   "outputs": [
    {
     "name": "stdout",
     "output_type": "stream",
     "text": [
      "mps\n"
     ]
    }
   ],
   "source": [
    "def get_device() -> torch.device:\n",
    "    \"\"\"\n",
    "    Returns the appropriate device for the current environment.\n",
    "    \"\"\"\n",
    "    if torch.cuda.is_available():\n",
    "        return torch.device('cuda')\n",
    "    elif torch.backends.mps.is_available(): # mac metal backend\n",
    "        return torch.device('mps')\n",
    "    else:\n",
    "        return torch.device('cpu')\n",
    "\n",
    "device = get_device()\n",
    "print(device)  "
   ]
  },
  {
   "cell_type": "code",
   "execution_count": null,
   "metadata": {},
   "outputs": [],
   "source": []
  }
 ],
 "metadata": {
  "kernelspec": {
   "display_name": "base",
   "language": "python",
   "name": "python3"
  },
  "language_info": {
   "codemirror_mode": {
    "name": "ipython",
    "version": 3
   },
   "file_extension": ".py",
   "mimetype": "text/x-python",
   "name": "python",
   "nbconvert_exporter": "python",
   "pygments_lexer": "ipython3",
   "version": "3.11.7"
  }
 },
 "nbformat": 4,
 "nbformat_minor": 2
}
