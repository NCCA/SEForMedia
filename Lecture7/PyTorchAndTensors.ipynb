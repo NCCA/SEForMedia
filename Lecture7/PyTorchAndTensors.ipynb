{
 "cells": [
  {
   "cell_type": "markdown",
   "metadata": {},
   "source": [
    "# PyTorch and Tensors\n",
    "\n",
    "\n",
    "| Rank | Math Entity | Python Example |\n",
    "|------|-------------|----------------|\n",
    "| 0    | Scalar      | `torch.tensor(1)` |\n",
    "| 1    | Vector      | `torch.tensor([1, 2, 3])` |\n",
    "| 2    | Matrix      | `torch.tensor([[1, 2], [3, 4]])` |\n",
    "| 3    | 3-Tensor    | `torch.tensor([[[1, 2], [3, 4]], [[5, 6], [7, 8]]])` |\n",
    "| n    | n-Tensor    | `torch.randn(2, 3, 4, 5)` |\n"
   ]
  },
  {
   "cell_type": "code",
   "execution_count": 1,
   "metadata": {},
   "outputs": [
    {
     "name": "stdout",
     "output_type": "stream",
     "text": [
      "tensor(5)\n",
      "torch.Size([])\n"
     ]
    }
   ],
   "source": [
    "import torch\n",
    "scalar = torch.tensor(5)\n",
    "print(scalar)  # tensor(5)\n",
    "print(scalar.shape)  # torch.Size([])"
   ]
  },
  {
   "cell_type": "markdown",
   "metadata": {},
   "source": [
    "# 1D Tensors\n",
    "\n",
    "This will produce a vector"
   ]
  },
  {
   "cell_type": "code",
   "execution_count": 4,
   "metadata": {},
   "outputs": [
    {
     "name": "stdout",
     "output_type": "stream",
     "text": [
      "tensor([1, 2, 3])\n",
      "torch.Size([3])\n"
     ]
    }
   ],
   "source": [
    "vector = torch.tensor([1, 2, 3])\n",
    "print(vector)  # tensor([1, 2, 3])\n",
    "print(vector.shape)  # torch.Size([3])"
   ]
  },
  {
   "cell_type": "code",
   "execution_count": 5,
   "metadata": {},
   "outputs": [
    {
     "name": "stdout",
     "output_type": "stream",
     "text": [
      "tensor([[1, 2, 3],\n",
      "        [4, 5, 6]])\n",
      "torch.Size([2, 3])\n"
     ]
    }
   ],
   "source": [
    "matrix = torch.tensor([[1, 2, 3], [4, 5, 6]])\n",
    "print(matrix)\n",
    "# tensor([[1, 2, 3],\n",
    "#         [4, 5, 6]])\n",
    "print(matrix.shape)  # torch.Size([2, 3])"
   ]
  },
  {
   "cell_type": "code",
   "execution_count": 6,
   "metadata": {},
   "outputs": [
    {
     "name": "stdout",
     "output_type": "stream",
     "text": [
      "tensor([[[1, 2],\n",
      "         [3, 4]],\n",
      "\n",
      "        [[5, 6],\n",
      "         [7, 8]]])\n",
      "torch.Size([2, 2, 2])\n"
     ]
    }
   ],
   "source": [
    "tensor3d = torch.tensor([[[1, 2], [3, 4]], [[5, 6], [7, 8]]])\n",
    "print(tensor3d)\n",
    "# tensor([[[1, 2],\n",
    "#          [3, 4]],\n",
    "#         [[5, 6],\n",
    "#          [7, 8]]])\n",
    "print(tensor3d.shape)  # torch.Size([2, 2, 2])"
   ]
  },
  {
   "cell_type": "code",
   "execution_count": null,
   "metadata": {},
   "outputs": [],
   "source": []
  }
 ],
 "metadata": {
  "kernelspec": {
   "display_name": "base",
   "language": "python",
   "name": "python3"
  },
  "language_info": {
   "codemirror_mode": {
    "name": "ipython",
    "version": 3
   },
   "file_extension": ".py",
   "mimetype": "text/x-python",
   "name": "python",
   "nbconvert_exporter": "python",
   "pygments_lexer": "ipython3",
   "version": "3.11.7"
  }
 },
 "nbformat": 4,
 "nbformat_minor": 2
}
