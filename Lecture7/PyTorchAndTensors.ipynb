{
 "cells": [
  {
   "cell_type": "markdown",
   "metadata": {},
   "source": [
    "# PyTorch and Tensors\n",
    "\n",
    "We can define tensors with different shapes. In general we have\n",
    "\n",
    "| Rank | Math Entity | Python Example |\n",
    "|------|-------------|----------------|\n",
    "| 0    | Scalar      | `torch.tensor(1)` |\n",
    "| 1    | Vector      | `torch.tensor([1, 2, 3])` |\n",
    "| 2    | Matrix      | `torch.tensor([[1, 2], [3, 4]])` |\n",
    "| 3    | 3-Tensor    | `torch.tensor([[[1, 2], [3, 4]], [[5, 6], [7, 8]]])` |\n",
    "| n    | n-Tensor    | `torch.randn(2, 3, 4, 5)` |\n",
    "\n",
    "The following code will generate a simple tensor. "
   ]
  },
  {
   "cell_type": "code",
   "execution_count": 2,
   "metadata": {},
   "outputs": [
    {
     "name": "stdout",
     "output_type": "stream",
     "text": [
      "tensor(5)\n",
      "torch.Size([])\n"
     ]
    }
   ],
   "source": [
    "import torch\n",
    "scalar = torch.tensor(5)\n",
    "print(scalar)  # tensor(5)\n",
    "print(scalar.shape)  # torch.Size([])"
   ]
  },
  {
   "cell_type": "markdown",
   "metadata": {},
   "source": [
    "# 1D Tensors\n",
    "\n",
    "A 1D tensor is basically a vector, we can produce one like this. "
   ]
  },
  {
   "cell_type": "code",
   "execution_count": 7,
   "metadata": {},
   "outputs": [
    {
     "name": "stdout",
     "output_type": "stream",
     "text": [
      "tensor([1, 2, 3])\n",
      "torch.Size([3])\n"
     ]
    }
   ],
   "source": [
    "vector = torch.tensor([1, 2, 3])\n",
    "print(vector) \n",
    "print(vector.shape) "
   ]
  },
  {
   "cell_type": "markdown",
   "metadata": {},
   "source": [
    "## 2D Tensors\n",
    "\n",
    "A 2d tensor is a matrix, we can produce one like this."
   ]
  },
  {
   "cell_type": "code",
   "execution_count": 8,
   "metadata": {},
   "outputs": [
    {
     "name": "stdout",
     "output_type": "stream",
     "text": [
      "tensor([[1, 2, 3],\n",
      "        [4, 5, 6]])\n",
      "torch.Size([2, 3])\n"
     ]
    }
   ],
   "source": [
    "matrix = torch.tensor([[1, 2, 3], [4, 5, 6]])\n",
    "print(matrix)\n",
    "# tensor([[1, 2, 3],\n",
    "#         [4, 5, 6]])\n",
    "print(matrix.shape)  # torch.Size([2, 3])"
   ]
  },
  {
   "cell_type": "markdown",
   "metadata": {},
   "source": [
    "## 3 Tensor\n",
    "\n",
    "This tensor has 3 dimensions, note how when printing the output is truncated.  "
   ]
  },
  {
   "cell_type": "code",
   "execution_count": 9,
   "metadata": {},
   "outputs": [
    {
     "name": "stdout",
     "output_type": "stream",
     "text": [
      "tensor([[[1, 2],\n",
      "         [3, 4]],\n",
      "\n",
      "        [[5, 6],\n",
      "         [7, 8]]])\n",
      "torch.Size([2, 2, 2])\n"
     ]
    }
   ],
   "source": [
    "tensor3d = torch.tensor([[[1, 2], [3, 4]], [[5, 6], [7, 8]]])\n",
    "print(tensor3d)\n",
    "print(tensor3d.shape)  "
   ]
  },
  {
   "cell_type": "markdown",
   "metadata": {},
   "source": [
    "## N Tensor\n",
    "\n",
    "An N tensor is a tensor with N dimensions. These are typically created for existing data or functions as it is quite complex to generate higher order ones easily. "
   ]
  },
  {
   "cell_type": "code",
   "execution_count": 10,
   "metadata": {},
   "outputs": [
    {
     "name": "stdout",
     "output_type": "stream",
     "text": [
      "tensor([[[[0.2427, 0.4552, 0.4872, 0.7850, 0.5079],\n",
      "          [0.0618, 0.4205, 0.8676, 0.9544, 0.8629],\n",
      "          [0.3455, 0.9419, 0.9714, 0.7753, 0.1489],\n",
      "          [0.7451, 0.3483, 0.4283, 0.1448, 0.4689]],\n",
      "\n",
      "         [[0.7161, 0.1850, 0.3478, 0.6003, 0.1614],\n",
      "          [0.3213, 0.8152, 0.7646, 0.2333, 0.4037],\n",
      "          [0.9694, 0.2593, 0.1044, 0.1079, 0.5982],\n",
      "          [0.0035, 0.6947, 0.4354, 0.9020, 0.2718]],\n",
      "\n",
      "         [[0.0353, 0.7808, 0.3296, 0.2135, 0.3135],\n",
      "          [0.0178, 0.4738, 0.5902, 0.8079, 0.1110],\n",
      "          [0.2938, 0.4709, 0.2908, 0.2135, 0.8880],\n",
      "          [0.2065, 0.8248, 0.1540, 0.8519, 0.0066]]],\n",
      "\n",
      "\n",
      "        [[[0.1294, 0.3065, 0.7871, 0.8884, 0.7127],\n",
      "          [0.2749, 0.4011, 0.1187, 0.1497, 0.7466],\n",
      "          [0.9658, 0.1696, 0.7159, 0.2847, 0.4593],\n",
      "          [0.7343, 0.8411, 0.8159, 0.9385, 0.5838]],\n",
      "\n",
      "         [[0.5666, 0.4600, 0.8450, 0.8331, 0.4919],\n",
      "          [0.1534, 0.9571, 0.1984, 0.2035, 0.2634],\n",
      "          [0.4726, 0.3310, 0.5302, 0.9580, 0.5476],\n",
      "          [0.3097, 0.5137, 0.5032, 0.9445, 0.8444]],\n",
      "\n",
      "         [[0.6419, 0.0890, 0.1169, 0.6247, 0.3387],\n",
      "          [0.7862, 0.9580, 0.7442, 0.7191, 0.7548],\n",
      "          [0.9402, 0.5578, 0.3843, 0.0268, 0.6171],\n",
      "          [0.2245, 0.0642, 0.2004, 0.6130, 0.4086]]]])\n",
      "torch.Size([2, 3, 4, 5])\n"
     ]
    }
   ],
   "source": [
    "tensor = torch.rand(2,3,4,5)\n",
    "print(tensor)\n",
    "print(tensor.shape)"
   ]
  },
  {
   "cell_type": "code",
   "execution_count": null,
   "metadata": {},
   "outputs": [],
   "source": []
  }
 ],
 "metadata": {
  "kernelspec": {
   "display_name": "base",
   "language": "python",
   "name": "python3"
  },
  "language_info": {
   "codemirror_mode": {
    "name": "ipython",
    "version": 3
   },
   "file_extension": ".py",
   "mimetype": "text/x-python",
   "name": "python",
   "nbconvert_exporter": "python",
   "pygments_lexer": "ipython3",
   "version": "3.11.7"
  }
 },
 "nbformat": 4,
 "nbformat_minor": 2
}
