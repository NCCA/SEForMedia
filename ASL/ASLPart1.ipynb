{
 "cells": [
  {
   "cell_type": "markdown",
   "metadata": {},
   "source": [
    "# Introduction\n",
    "\n",
    "In this notebook we are going to download training data for the American Sign Language from Kaggle. This data will be processed and used to train a Convolutional Neural Network (CNN) to classify the images. \n",
    "\n",
    "The [American Sign Language alphabet](http://www.asl.gs/) contains 26 letters. Two of those letters (j and z) require movement, so they are not included in the training dataset.  The data set is unusual as it is contained in a CSV file so we will need to do some processing of the data. \n",
    "\n",
    "## Kaggle\n",
    "\n",
    "We will download the data set from [Kaggle](http://www.kaggle.com) which contains a number of different data sets and examples we can look at. \n",
    "\n",
    "As usual we will test to see if we are in the lab and download the data set to the /transfer else locally. "
   ]
  },
  {
   "cell_type": "code",
   "execution_count": 1,
   "metadata": {},
   "outputs": [
    {
     "name": "stdout",
     "output_type": "stream",
     "text": [
      "Dataset location: ./mnist_asl/\n"
     ]
    }
   ],
   "source": [
    "import matplotlib.pyplot as plt\n",
    "import numpy as np\n",
    "import pathlib\n",
    "import struct\n",
    "import sys\n",
    "import torch\n",
    "import torch.nn as nn\n",
    "from torch.optim import Adam\n",
    "from torch.utils.data import Dataset, DataLoader\n",
    "import zipfile\n",
    "import string\n",
    "\n",
    "# Visualization tools\n",
    "import torchvision\n",
    "import torchvision.transforms.v2 as transforms\n",
    "import torchvision.transforms.functional as F\n",
    "import pandas as pd\n",
    "\n",
    "sys.path.append(\"../\")\n",
    "import Utils\n",
    "\n",
    "device = Utils.get_device()\n",
    "\n",
    "DATASET_LOCATION = \"\"\n",
    "if Utils.in_lab():\n",
    "    DATASET_LOCATION = \"/transfer/mnist_asl/\"\n",
    "else:\n",
    "    DATASET_LOCATION = \"./mnist_asl/\"\n",
    "\n",
    "print(f\"Dataset location: {DATASET_LOCATION}\")\n",
    "pathlib.Path(DATASET_LOCATION).mkdir(parents=True, exist_ok=True)"
   ]
  },
  {
   "cell_type": "markdown",
   "metadata": {},
   "source": [
    "We can use the Utils class to download the data set then unzip it."
   ]
  },
  {
   "cell_type": "code",
   "execution_count": 2,
   "metadata": {},
   "outputs": [],
   "source": [
    "URL = \"https://www.kaggle.com/api/v1/datasets/download/nadaemad2002/asl-mnist\"\n",
    "desitnation = DATASET_LOCATION + \"/asl-mnist.zip\"\n",
    "if not pathlib.Path(desitnation).exists():\n",
    "    Utils.download(URL, desitnation)\n",
    "    # now we need to unzip the file\n",
    "    with zipfile.ZipFile(desitnation, \"r\") as zip_ref:\n",
    "        zip_ref.extractall(DATASET_LOCATION)"
   ]
  },
  {
   "cell_type": "markdown",
   "metadata": {},
   "source": [
    "## Data\n",
    "\n",
    "Lets have a look at what we have downloaded, we can get a list of the files we have downloaded by using pathlib as follows."
   ]
  },
  {
   "cell_type": "code",
   "execution_count": 3,
   "metadata": {},
   "outputs": [
    {
     "name": "stdout",
     "output_type": "stream",
     "text": [
      "mnist_asl/asl-mnist.zip\n",
      "mnist_asl/american_sign_language.PNG\n",
      "mnist_asl/sign_mnist_test.csv\n",
      "mnist_asl/sign_mnist_train\n",
      "mnist_asl/sign_mnist_train.csv\n",
      "mnist_asl/sign_mnist_test\n",
      "mnist_asl/amer_sign3.png\n",
      "mnist_asl/amer_sign2.png\n"
     ]
    }
   ],
   "source": [
    "for file in pathlib.Path(DATASET_LOCATION).glob(\"*\"):\n",
    "    print(file)"
   ]
  },
  {
   "cell_type": "markdown",
   "metadata": {},
   "source": [
    "There are two image files showing the the signs and two CSV files for the actual test and train data. \n",
    "![](./mnist_asl/american_sign_language.PNG)\n",
    "![](./mnist_asl/amer_sign3.png)"
   ]
  },
  {
   "cell_type": "markdown",
   "metadata": {},
   "source": [
    "## Processing the data with pandas\n",
    "\n",
    "As the data is in csv format the easiest approach to processing it is to use the pandas library. We can read the csv file into a pandas dataframe and then process the data as required.\n"
   ]
  },
  {
   "cell_type": "code",
   "execution_count": 4,
   "metadata": {},
   "outputs": [],
   "source": [
    "train_df = pd.read_csv(f\"{DATASET_LOCATION}sign_mnist_train.csv\")\n",
    "valid_df = pd.read_csv(f\"{DATASET_LOCATION}sign_mnist_test.csv\")"
   ]
  },
  {
   "cell_type": "markdown",
   "metadata": {},
   "source": [
    "We can now look at the data format and begin to process it into a more useful format for training the CNN."
   ]
  },
  {
   "cell_type": "code",
   "execution_count": 5,
   "metadata": {},
   "outputs": [
    {
     "data": {
      "text/html": [
       "<div>\n",
       "<style scoped>\n",
       "    .dataframe tbody tr th:only-of-type {\n",
       "        vertical-align: middle;\n",
       "    }\n",
       "\n",
       "    .dataframe tbody tr th {\n",
       "        vertical-align: top;\n",
       "    }\n",
       "\n",
       "    .dataframe thead th {\n",
       "        text-align: right;\n",
       "    }\n",
       "</style>\n",
       "<table border=\"1\" class=\"dataframe\">\n",
       "  <thead>\n",
       "    <tr style=\"text-align: right;\">\n",
       "      <th></th>\n",
       "      <th>label</th>\n",
       "      <th>pixel1</th>\n",
       "      <th>pixel2</th>\n",
       "      <th>pixel3</th>\n",
       "      <th>pixel4</th>\n",
       "      <th>pixel5</th>\n",
       "      <th>pixel6</th>\n",
       "      <th>pixel7</th>\n",
       "      <th>pixel8</th>\n",
       "      <th>pixel9</th>\n",
       "      <th>...</th>\n",
       "      <th>pixel775</th>\n",
       "      <th>pixel776</th>\n",
       "      <th>pixel777</th>\n",
       "      <th>pixel778</th>\n",
       "      <th>pixel779</th>\n",
       "      <th>pixel780</th>\n",
       "      <th>pixel781</th>\n",
       "      <th>pixel782</th>\n",
       "      <th>pixel783</th>\n",
       "      <th>pixel784</th>\n",
       "    </tr>\n",
       "  </thead>\n",
       "  <tbody>\n",
       "    <tr>\n",
       "      <th>0</th>\n",
       "      <td>3</td>\n",
       "      <td>107</td>\n",
       "      <td>118</td>\n",
       "      <td>127</td>\n",
       "      <td>134</td>\n",
       "      <td>139</td>\n",
       "      <td>143</td>\n",
       "      <td>146</td>\n",
       "      <td>150</td>\n",
       "      <td>153</td>\n",
       "      <td>...</td>\n",
       "      <td>207</td>\n",
       "      <td>207</td>\n",
       "      <td>207</td>\n",
       "      <td>207</td>\n",
       "      <td>206</td>\n",
       "      <td>206</td>\n",
       "      <td>206</td>\n",
       "      <td>204</td>\n",
       "      <td>203</td>\n",
       "      <td>202</td>\n",
       "    </tr>\n",
       "    <tr>\n",
       "      <th>1</th>\n",
       "      <td>6</td>\n",
       "      <td>155</td>\n",
       "      <td>157</td>\n",
       "      <td>156</td>\n",
       "      <td>156</td>\n",
       "      <td>156</td>\n",
       "      <td>157</td>\n",
       "      <td>156</td>\n",
       "      <td>158</td>\n",
       "      <td>158</td>\n",
       "      <td>...</td>\n",
       "      <td>69</td>\n",
       "      <td>149</td>\n",
       "      <td>128</td>\n",
       "      <td>87</td>\n",
       "      <td>94</td>\n",
       "      <td>163</td>\n",
       "      <td>175</td>\n",
       "      <td>103</td>\n",
       "      <td>135</td>\n",
       "      <td>149</td>\n",
       "    </tr>\n",
       "    <tr>\n",
       "      <th>2</th>\n",
       "      <td>2</td>\n",
       "      <td>187</td>\n",
       "      <td>188</td>\n",
       "      <td>188</td>\n",
       "      <td>187</td>\n",
       "      <td>187</td>\n",
       "      <td>186</td>\n",
       "      <td>187</td>\n",
       "      <td>188</td>\n",
       "      <td>187</td>\n",
       "      <td>...</td>\n",
       "      <td>202</td>\n",
       "      <td>201</td>\n",
       "      <td>200</td>\n",
       "      <td>199</td>\n",
       "      <td>198</td>\n",
       "      <td>199</td>\n",
       "      <td>198</td>\n",
       "      <td>195</td>\n",
       "      <td>194</td>\n",
       "      <td>195</td>\n",
       "    </tr>\n",
       "    <tr>\n",
       "      <th>3</th>\n",
       "      <td>2</td>\n",
       "      <td>211</td>\n",
       "      <td>211</td>\n",
       "      <td>212</td>\n",
       "      <td>212</td>\n",
       "      <td>211</td>\n",
       "      <td>210</td>\n",
       "      <td>211</td>\n",
       "      <td>210</td>\n",
       "      <td>210</td>\n",
       "      <td>...</td>\n",
       "      <td>235</td>\n",
       "      <td>234</td>\n",
       "      <td>233</td>\n",
       "      <td>231</td>\n",
       "      <td>230</td>\n",
       "      <td>226</td>\n",
       "      <td>225</td>\n",
       "      <td>222</td>\n",
       "      <td>229</td>\n",
       "      <td>163</td>\n",
       "    </tr>\n",
       "    <tr>\n",
       "      <th>4</th>\n",
       "      <td>13</td>\n",
       "      <td>164</td>\n",
       "      <td>167</td>\n",
       "      <td>170</td>\n",
       "      <td>172</td>\n",
       "      <td>176</td>\n",
       "      <td>179</td>\n",
       "      <td>180</td>\n",
       "      <td>184</td>\n",
       "      <td>185</td>\n",
       "      <td>...</td>\n",
       "      <td>92</td>\n",
       "      <td>105</td>\n",
       "      <td>105</td>\n",
       "      <td>108</td>\n",
       "      <td>133</td>\n",
       "      <td>163</td>\n",
       "      <td>157</td>\n",
       "      <td>163</td>\n",
       "      <td>164</td>\n",
       "      <td>179</td>\n",
       "    </tr>\n",
       "  </tbody>\n",
       "</table>\n",
       "<p>5 rows × 785 columns</p>\n",
       "</div>"
      ],
      "text/plain": [
       "   label  pixel1  pixel2  pixel3  pixel4  pixel5  pixel6  pixel7  pixel8  \\\n",
       "0      3     107     118     127     134     139     143     146     150   \n",
       "1      6     155     157     156     156     156     157     156     158   \n",
       "2      2     187     188     188     187     187     186     187     188   \n",
       "3      2     211     211     212     212     211     210     211     210   \n",
       "4     13     164     167     170     172     176     179     180     184   \n",
       "\n",
       "   pixel9  ...  pixel775  pixel776  pixel777  pixel778  pixel779  pixel780  \\\n",
       "0     153  ...       207       207       207       207       206       206   \n",
       "1     158  ...        69       149       128        87        94       163   \n",
       "2     187  ...       202       201       200       199       198       199   \n",
       "3     210  ...       235       234       233       231       230       226   \n",
       "4     185  ...        92       105       105       108       133       163   \n",
       "\n",
       "   pixel781  pixel782  pixel783  pixel784  \n",
       "0       206       204       203       202  \n",
       "1       175       103       135       149  \n",
       "2       198       195       194       195  \n",
       "3       225       222       229       163  \n",
       "4       157       163       164       179  \n",
       "\n",
       "[5 rows x 785 columns]"
      ]
     },
     "execution_count": 5,
     "metadata": {},
     "output_type": "execute_result"
    }
   ],
   "source": [
    "train_df.head()"
   ]
  },
  {
   "cell_type": "markdown",
   "metadata": {},
   "source": [
    " Each row is an image which has a `label` column followed by the pixel data (28 * 28 = 784 columns). The pixel data is in the range 0 to 255. We need to extract the label and pixel data and reshape the pixel data into a 28 x 28 image. We can get the labels by using the pandas pop method and the pixel data by using the pandas iloc method."
   ]
  },
  {
   "cell_type": "code",
   "execution_count": 6,
   "metadata": {},
   "outputs": [
    {
     "name": "stdout",
     "output_type": "stream",
     "text": [
      "label\n",
      "0     1126\n",
      "1     1010\n",
      "2     1144\n",
      "3     1196\n",
      "4      957\n",
      "5     1204\n",
      "6     1090\n",
      "7     1013\n",
      "8     1162\n",
      "10    1114\n",
      "11    1241\n",
      "12    1055\n",
      "13    1151\n",
      "14    1196\n",
      "15    1088\n",
      "16    1279\n",
      "17    1294\n",
      "18    1199\n",
      "19    1186\n",
      "20    1161\n",
      "21    1082\n",
      "22    1225\n",
      "23    1164\n",
      "24    1118\n",
      "Name: count, dtype: int64\n",
      "min     0\n",
      "max    24\n",
      "Name: label, dtype: int64\n"
     ]
    }
   ],
   "source": [
    "y_train = train_df.pop(\"label\")\n",
    "y_valid = valid_df.pop(\"label\")\n",
    "# look at the data\n",
    "print(y_train.value_counts(sort=True,ascending=True).sort_index())\n",
    "print(y_train.agg([\"min\",\"max\"]))\n"
   ]
  },
  {
   "cell_type": "code",
   "execution_count": 7,
   "metadata": {},
   "outputs": [
    {
     "name": "stdout",
     "output_type": "stream",
     "text": [
      "(27455, 784) (7172, 784)\n",
      "<class 'numpy.ndarray'> <class 'numpy.ndarray'>\n"
     ]
    }
   ],
   "source": [
    "x_train = train_df.values\n",
    "x_valid = valid_df.values\n",
    "print(x_train.shape, x_valid.shape)\n",
    "print(type(x_train), type(x_valid))"
   ]
  },
  {
   "cell_type": "markdown",
   "metadata": {},
   "source": [
    "If we look at the data we can see what it contains. We can use some of the pandas functions to find the min() and max() as well as sort and tabulate the data."
   ]
  },
  {
   "cell_type": "code",
   "execution_count": 8,
   "metadata": {},
   "outputs": [
    {
     "name": "stdout",
     "output_type": "stream",
     "text": [
      "min     0\n",
      "max    24\n",
      "Name: label, dtype: int64\n",
      "min     0\n",
      "max    24\n",
      "Name: label, dtype: int64\n",
      "label\n",
      "0     1126\n",
      "1     1010\n",
      "2     1144\n",
      "3     1196\n",
      "4      957\n",
      "5     1204\n",
      "6     1090\n",
      "7     1013\n",
      "8     1162\n",
      "10    1114\n",
      "11    1241\n",
      "12    1055\n",
      "13    1151\n",
      "14    1196\n",
      "15    1088\n",
      "16    1279\n",
      "17    1294\n",
      "18    1199\n",
      "19    1186\n",
      "20    1161\n",
      "21    1082\n",
      "22    1225\n",
      "23    1164\n",
      "24    1118\n",
      "Name: count, dtype: int64\n",
      "label\n",
      "0     331\n",
      "1     432\n",
      "2     310\n",
      "3     245\n",
      "4     498\n",
      "5     247\n",
      "6     348\n",
      "7     436\n",
      "8     288\n",
      "10    331\n",
      "11    209\n",
      "12    394\n",
      "13    291\n",
      "14    246\n",
      "15    347\n",
      "16    164\n",
      "17    144\n",
      "18    246\n",
      "19    248\n",
      "20    266\n",
      "21    346\n",
      "22    206\n",
      "23    267\n",
      "24    332\n",
      "Name: count, dtype: int64\n"
     ]
    }
   ],
   "source": [
    "print(y_train.agg([\"min\",\"max\"]))\n",
    "print(y_valid.agg([\"min\",\"max\"]))\n",
    "\n",
    "print(y_train.value_counts(sort=True,ascending=True).sort_index())\n",
    "print(y_valid.value_counts(sort=True,ascending=True).sort_index())\n",
    "\n"
   ]
  },
  {
   "cell_type": "markdown",
   "metadata": {},
   "source": [
    "As you can see the data ranges from 0-24 so whilst the J and the Z are missing the J value index (9) is still in the dataset, so we need to specify for 25 classes not 24.\n",
    "\n",
    "## Visualizing the data\n",
    "\n",
    "We can take a look at the data by writing a simple function to turn the nparrays into a 28 x 28 image and then display the image. Note that the labels are the numbers 0 to 24 and the letters are the alphabet minus j and z. We need to convert the labels to the letters for display purposes."
   ]
  },
  {
   "cell_type": "code",
   "execution_count": 9,
   "metadata": {},
   "outputs": [
    {
     "data": {
      "image/png": "[encoded data removed]",
      "text/plain": [
       "<Figure size 1000x1000 with 12 Axes>"
      ]
     },
     "metadata": {},
     "output_type": "display_data"
    }
   ],
   "source": [
    "def plot_image(images, labels, num_images, image_index):\n",
    "    image = images.reshape(28, 28)\n",
    "    label = labels\n",
    "    plt.subplot(1, num_images, image_index + 1)\n",
    "    plt.title(label, fontdict={\"fontsize\": 30})\n",
    "    plt.axis(\"off\")\n",
    "    plt.imshow(image, cmap=\"gray\")\n",
    "\n",
    "\n",
    "alphabet = string.ascii_letters[:25]\n",
    "\n",
    "num_images = 12\n",
    "plt.figure(figsize=(10, 10))\n",
    "for x in range(num_images):\n",
    "    row = x_train[x]\n",
    "    label = y_train[x]\n",
    "    plot_image(row, alphabet[label], num_images, x)"
   ]
  },
  {
   "cell_type": "markdown",
   "metadata": {},
   "source": [
    "We can now normalize our image data so it is in the range 0 to 1. We can do this by dividing the pixel data by 255 (as they are nparrays this will be element wise division)."
   ]
  },
  {
   "cell_type": "code",
   "execution_count": 10,
   "metadata": {},
   "outputs": [],
   "source": [
    "x_train = train_df.values / 255\n",
    "x_valid = valid_df.values / 255"
   ]
  },
  {
   "cell_type": "markdown",
   "metadata": {},
   "source": [
    "## Generating a Dataset\n",
    "\n",
    "As we did in the previous example we can create a dataset class to represent our data. Again this will be a simple image / label dataset."
   ]
  },
  {
   "cell_type": "code",
   "execution_count": 11,
   "metadata": {},
   "outputs": [],
   "source": [
    "class ASLDataSet(Dataset):\n",
    "    def __init__(self, x_df, y_df):\n",
    "        print(device)\n",
    "        self.xs = torch.tensor(x_df).float().to(device)\n",
    "        self.ys = torch.tensor(y_df).to(device)\n",
    "\n",
    "    def __getitem__(self, idx):\n",
    "        x = self.xs[idx]\n",
    "        y = self.ys[idx]\n",
    "        return x, y\n",
    "\n",
    "    def __len__(self):\n",
    "        return len(self.xs)"
   ]
  },
  {
   "cell_type": "code",
   "execution_count": 12,
   "metadata": {},
   "outputs": [
    {
     "name": "stdout",
     "output_type": "stream",
     "text": [
      "mps\n",
      "mps\n",
      "Train size: 27455, Valid size: 7172\n"
     ]
    }
   ],
   "source": [
    "BATCH_SIZE = 32\n",
    "\n",
    "train_data = ASLDataSet(x_train, y_train)\n",
    "train_loader = DataLoader(train_data, batch_size=BATCH_SIZE, shuffle=True)\n",
    "train_N = len(train_loader.dataset)\n",
    "\n",
    "valid_data = ASLDataSet(x_valid, y_valid)\n",
    "valid_loader = DataLoader(valid_data, batch_size=BATCH_SIZE)\n",
    "valid_N = len(valid_loader.dataset)\n",
    "\n",
    "print(f\"Train size: {train_N}, Valid size: {valid_N}\")"
   ]
  },
  {
   "cell_type": "markdown",
   "metadata": {},
   "source": [
    "## Building a Model\n",
    "\n",
    "In this example we will use a similar approach to the Digits example Where we used a Linear model. \n",
    "\n",
    "\n",
    "* Has a flatten layer.\n",
    "* Has a dense input layer. This layer should contain 512 neurons amd use the `relu` activation function\n",
    "* Has a second dense layer with 512 neurons which uses the `relu` activation function\n",
    "* Has a dense output layer with neurons equal to the number of classes\n",
    "\n",
    "We will define a few variables to get started: \n",
    "\n",
    "The size of the images is 28 x 28 and there are 24 classes (the alphabet minus j and z)."
   ]
  },
  {
   "cell_type": "code",
   "execution_count": 13,
   "metadata": {},
   "outputs": [],
   "source": [
    "input_size = 28 * 28\n",
    "n_classes = 25"
   ]
  },
  {
   "cell_type": "markdown",
   "metadata": {},
   "source": [
    "We can add the layers to the model using the nn.Sequential class. See if you can think of what we should do next.\n",
    "\n",
    "<details>\n",
    "\n",
    "<summary>Solution</summary>\n",
    "\n",
    "```python\n",
    "model = nn.Sequential(\n",
    "    nn.Flatten(),\n",
    "    nn.Linear(input_size, 512),  # Input\n",
    "    nn.ReLU(),  # Activation for input\n",
    "    nn.Linear(512, 512),  # Hidden\n",
    "    nn.ReLU(),  # Activation for hidden\n",
    "    nn.Linear(512, n_classes)  # Output\n",
    ")\n",
    "```\n",
    "\n",
    "</details>\n",
    "\n"
   ]
  },
  {
   "cell_type": "code",
   "execution_count": 14,
   "metadata": {},
   "outputs": [],
   "source": [
    "model = nn.Sequential(\n",
    "    nn.Flatten(),\n",
    "    nn.Linear(input_size, 512),  # Input\n",
    "    nn.ReLU(),  # Activation for input\n",
    "    nn.Linear(512, 512),  # Hidden\n",
    "    nn.ReLU(),  # Activation for hidden\n",
    "    nn.Linear(512, n_classes),  # Output\n",
    ")"
   ]
  },
  {
   "cell_type": "markdown",
   "metadata": {},
   "source": [
    "We can compile and send the model to the device."
   ]
  },
  {
   "cell_type": "code",
   "execution_count": 15,
   "metadata": {},
   "outputs": [
    {
     "data": {
      "text/plain": [
       "Sequential(\n",
       "  (0): Flatten(start_dim=1, end_dim=-1)\n",
       "  (1): Linear(in_features=784, out_features=512, bias=True)\n",
       "  (2): ReLU()\n",
       "  (3): Linear(in_features=512, out_features=512, bias=True)\n",
       "  (4): ReLU()\n",
       "  (5): Linear(in_features=512, out_features=25, bias=True)\n",
       ")"
      ]
     },
     "execution_count": 15,
     "metadata": {},
     "output_type": "execute_result"
    }
   ],
   "source": [
    "if device == \"cuda\":\n",
    "    model = torch.compile(model.to(device))\n",
    "model.to(device)"
   ]
  },
  {
   "cell_type": "markdown",
   "metadata": {},
   "source": [
    "Since categorizing these ASL images is similar to categorizing MNIST's handwritten digits, we will use the same `loss_function` ([Categorical CrossEntropy](https://pytorch.org/docs/stable/generated/torch.nn.CrossEntropyLoss.html)) and `optimizer` ([Adam](https://pytorch.org/docs/stable/generated/torch.optim.Adam.html)) as we used in the last example."
   ]
  },
  {
   "cell_type": "code",
   "execution_count": 16,
   "metadata": {},
   "outputs": [],
   "source": [
    "loss_function = nn.CrossEntropyLoss()\n",
    "optimizer = Adam(model.parameters())"
   ]
  },
  {
   "cell_type": "markdown",
   "metadata": {},
   "source": [
    "## Training\n",
    "\n",
    "The data in the DataLoader is already on the GPU so we can now just process it in the same way as we did in the previous example.\n",
    "\n",
    "The steps are the same as before. \n",
    "\n",
    "\n",
    "1. Get an `output` prediction from the model\n",
    "2. Set the gradient to zero with the `optimizer`'s [zero_grad](https://pytorch.org/docs/stable/generated/torch.optim.Optimizer.zero_grad.html) function\n",
    "3. Calculate the loss with our `loss_function`\n",
    "4. Compute the gradient with [backward](https://pytorch.org/docs/stable/generated/torch.Tensor.backward.html)\n",
    "5. Update our model parameters with the `optimizer`'s [step](https://pytorch.org/docs/stable/generated/torch.optim.Optimizer.step.html) function.\n",
    "6. Update the `loss` and `accuracy` totals"
   ]
  },
  {
   "cell_type": "code",
   "execution_count": 17,
   "metadata": {},
   "outputs": [],
   "source": [
    "def get_batch_accuracy(output, y, N):\n",
    "    pred = output.argmax(dim=1, keepdim=True)\n",
    "    correct = pred.eq(y.view_as(pred)).sum().item()\n",
    "    return correct / N\n",
    "\n",
    "\n",
    "#  we are going to store the accuracy and loss for each epoch\n",
    "train_accuracy = []\n",
    "train_loss = []\n",
    "\n",
    "\n",
    "def train():\n",
    "    loss = 0\n",
    "    accuracy = 0\n",
    "\n",
    "    model.train()\n",
    "    for x, y in train_loader:\n",
    "        output = model(x)\n",
    "        optimizer.zero_grad()\n",
    "        batch_loss = loss_function(output, y)\n",
    "        batch_loss.backward()\n",
    "        optimizer.step()\n",
    "\n",
    "        loss += batch_loss.item()\n",
    "        accuracy += get_batch_accuracy(output, y, train_N)\n",
    "    train_accuracy.append(accuracy)\n",
    "    train_loss.append(loss)\n",
    "    print(\"Train - Loss: {:.4f} Accuracy: {:.4f}\".format(loss, accuracy))"
   ]
  },
  {
   "cell_type": "markdown",
   "metadata": {},
   "source": [
    "## Validate Function\n",
    "\n",
    "The core part of the validate process is to set the model to evaluation mode with the `model.eval()` function. This will turn off dropout and batch normalization. We then loop through the validation data and calculate the loss and accuracy in the same way as we did for the training data.\n",
    "\n",
    "More details of [model.evaluate](https://pytorch.org/docs/stable/generated/torch.nn.Module.html#torch.nn.Module.eval) can be found here."
   ]
  },
  {
   "cell_type": "code",
   "execution_count": 18,
   "metadata": {},
   "outputs": [],
   "source": [
    "valid_accuracy = []\n",
    "valid_loss = []\n",
    "\n",
    "\n",
    "def validate():\n",
    "    loss = 0\n",
    "    accuracy = 0\n",
    "\n",
    "    model.eval()\n",
    "    with torch.no_grad():\n",
    "        for x, y in valid_loader:\n",
    "            output = model(x)\n",
    "            loss += loss_function(output, y).item()\n",
    "            accuracy += get_batch_accuracy(output, y, valid_N)\n",
    "    valid_accuracy.append(accuracy)\n",
    "    valid_loss.append(loss)\n",
    "    print(\"Valid - Loss: {:.4f} Accuracy: {:.4f}\".format(loss, accuracy))"
   ]
  },
  {
   "cell_type": "markdown",
   "metadata": {},
   "source": [
    "## Training\n",
    "\n",
    "Finally we can train the model as before."
   ]
  },
  {
   "cell_type": "code",
   "execution_count": 19,
   "metadata": {},
   "outputs": [
    {
     "name": "stdout",
     "output_type": "stream",
     "text": [
      "Epoch: 0\n",
      "Train - Loss: 1523.4354 Accuracy: 0.4206\n",
      "Valid - Loss: 321.7106 Accuracy: 0.5074\n",
      "Epoch: 1\n",
      "Train - Loss: 669.0983 Accuracy: 0.7346\n",
      "Valid - Loss: 245.6804 Accuracy: 0.6439\n",
      "Epoch: 2\n",
      "Train - Loss: 360.7312 Accuracy: 0.8594\n",
      "Valid - Loss: 192.0698 Accuracy: 0.7434\n",
      "Epoch: 3\n",
      "Train - Loss: 211.5362 Accuracy: 0.9206\n",
      "Valid - Loss: 205.6071 Accuracy: 0.7637\n",
      "Epoch: 4\n",
      "Train - Loss: 110.6672 Accuracy: 0.9626\n",
      "Valid - Loss: 328.3943 Accuracy: 0.6852\n",
      "Epoch: 5\n",
      "Train - Loss: 84.7136 Accuracy: 0.9705\n",
      "Valid - Loss: 245.3298 Accuracy: 0.7482\n",
      "Epoch: 6\n",
      "Train - Loss: 80.9651 Accuracy: 0.9693\n",
      "Valid - Loss: 223.5041 Accuracy: 0.7687\n",
      "Epoch: 7\n",
      "Train - Loss: 41.8436 Accuracy: 0.9860\n",
      "Valid - Loss: 263.8761 Accuracy: 0.7531\n",
      "Epoch: 8\n",
      "Train - Loss: 33.7373 Accuracy: 0.9892\n",
      "Valid - Loss: 228.4666 Accuracy: 0.8016\n",
      "Epoch: 9\n",
      "Train - Loss: 79.6686 Accuracy: 0.9725\n",
      "Valid - Loss: 214.0620 Accuracy: 0.8081\n"
     ]
    }
   ],
   "source": [
    "epochs = 10\n",
    "\n",
    "for epoch in range(epochs):\n",
    "    print(\"Epoch: {}\".format(epoch))\n",
    "    train()\n",
    "    validate()"
   ]
  },
  {
   "cell_type": "markdown",
   "metadata": {},
   "source": [
    "## Discussion\n",
    "\n",
    "Our models doesn't seem to be getting very good results. We can see that the training accuracy seems to a fairly high level, but the validation accuracy was not as high. This is a sign of overfitting, which means that is it guessing against a learnt data set and never generalizing to new data.\n",
    "\n",
    "As we have accumulated the data when training, we can plot this out to see how things went. \n"
   ]
  },
  {
   "cell_type": "code",
   "execution_count": 20,
   "metadata": {},
   "outputs": [
    {
     "data": {
      "image/png": "[encoded data removed]",
      "text/plain": [
       "<Figure size 500x200 with 1 Axes>"
      ]
     },
     "metadata": {},
     "output_type": "display_data"
    },
    {
     "data": {
      "image/png": "[encoded data removed]",
      "text/plain": [
       "<Figure size 500x200 with 1 Axes>"
      ]
     },
     "metadata": {},
     "output_type": "display_data"
    }
   ],
   "source": [
    "# Lets plot the data\n",
    "plt.figure(figsize=(5, 2))\n",
    "plt.plot(train_accuracy, label=\"Train\")\n",
    "plt.plot(valid_accuracy, label=\"Valid\")\n",
    "plt.xlabel(\"Epoch\")\n",
    "plt.title(\"Accuracy\")\n",
    "plt.legend()\n",
    "plt.show()\n",
    "\n",
    "plt.figure(figsize=(5, 2))\n",
    "plt.plot(train_loss, label=\"Train\")\n",
    "plt.plot(valid_loss, label=\"Valid\")\n",
    "plt.xlabel(\"Epoch\")\n",
    "plt.title(\"Loss\")\n",
    "plt.legend()\n",
    "plt.show()"
   ]
  },
  {
   "cell_type": "markdown",
   "metadata": {},
   "source": [
    "We should see that the lines are diverging, which is a sign of overfitting. We need to look at a different model to make this work better. In particular we are going to build a CNN model to see if this can improve the accuracy."
   ]
  },
  {
   "cell_type": "markdown",
   "metadata": {},
   "source": []
  }
 ],
 "metadata": {
  "kernelspec": {
   "display_name": "Python 3 (ipykernel)",
   "language": "python",
   "name": "python3"
  },
  "language_info": {
   "codemirror_mode": {
    "name": "ipython",
    "version": 3
   },
   "file_extension": ".py",
   "mimetype": "text/x-python",
   "name": "python",
   "nbconvert_exporter": "python",
   "pygments_lexer": "ipython3",
   "version": "3.13.2"
  }
 },
 "nbformat": 4,
 "nbformat_minor": 4
}
