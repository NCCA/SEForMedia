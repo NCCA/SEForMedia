{
 "cells": [
  {
   "cell_type": "markdown",
   "metadata": {},
   "source": [
    "# ASL Processing Part 2\n",
    "\n",
    "In the [previous notebook](./ASLPart1.ipynb), we have seen how to preprocess the data and train a model, the model began to overfit after 10 epochs. In this notebook, we will see how to use data augmentation to improve the model's performance.\n",
    "\n",
    "We will use the same data set as before, if the data set is not present run the first notebook to download the data set."
   ]
  },
  {
   "cell_type": "code",
   "execution_count": 2,
   "metadata": {},
   "outputs": [
    {
     "name": "stdout",
     "output_type": "stream",
     "text": [
      "Dataset location: ./mnist_asl/\n"
     ]
    }
   ],
   "source": [
    "import matplotlib.pyplot as plt\n",
    "import numpy as np\n",
    "import pathlib\n",
    "import struct\n",
    "import sys\n",
    "import torch\n",
    "import torch.nn as nn\n",
    "from torch.optim import Adam\n",
    "from torch.utils.data import Dataset, DataLoader\n",
    "import zipfile\n",
    "import string\n",
    "\n",
    "# Visualization tools\n",
    "import torchvision\n",
    "import torchvision.transforms.v2 as transforms\n",
    "import torchvision.transforms.functional as F\n",
    "import pandas as pd\n",
    "\n",
    "sys.path.append(\"../\")\n",
    "import Utils\n",
    "\n",
    "device = Utils.get_device()\n",
    "\n",
    "DATASET_LOCATION = \"\"\n",
    "if Utils.in_lab():\n",
    "    DATASET_LOCATION = \"/transfer/mnist_asl/\"\n",
    "else:\n",
    "    DATASET_LOCATION = \"./mnist_asl/\"\n",
    "\n",
    "print(f\"Dataset location: {DATASET_LOCATION}\")\n",
    "pathlib.Path(DATASET_LOCATION).mkdir(parents=True, exist_ok=True)"
   ]
  },
  {
   "cell_type": "markdown",
   "metadata": {},
   "source": [
    "We can load our data set  using pandas as before, however this time we will want to format it into a different shape (28x28 pixels) so we can run image processing on it. This is because most image processing algorithms are designed to work with images, and not flattened arrays.\n"
   ]
  },
  {
   "cell_type": "code",
   "execution_count": 4,
   "metadata": {},
   "outputs": [],
   "source": [
    "train_df = pd.read_csv(f\"{DATASET_LOCATION}sign_mnist_train.csv\")\n",
    "valid_df = pd.read_csv(f\"{DATASET_LOCATION}sign_mnist_test.csv\")"
   ]
  },
  {
   "cell_type": "markdown",
   "metadata": {},
   "source": [
    "## Data processing\n",
    "\n",
    "To demonstrate the data processing, we will use the first image in the data set as a sample and re-shape it to 28x28 pixels."
   ]
  },
  {
   "cell_type": "code",
   "execution_count": 6,
   "metadata": {},
   "outputs": [
    {
     "name": "stdout",
     "output_type": "stream",
     "text": [
      "(5, 784)\n"
     ]
    }
   ],
   "source": [
    "sample_df = train_df.head().copy()  # Grab the top 5 rows\n",
    "sample_df.pop(\"label\")\n",
    "sample_x = sample_df.values\n",
    "print(sample_x.shape)"
   ]
  },
  {
   "cell_type": "markdown",
   "metadata": {},
   "source": [
    "In this format we don't have pixel proximity locations which convulational neural networks use to learn patterns. We will use the `reshape` function from NumPy to convert the image to 28x28 pixels.\n",
    "\n",
    "\n",
    "Note that for the first convolution layer of our model, we need to have not only the height and width of the image, but also the number of color channels (1 in our case as greyscale images).\n",
    "\n",
    "That means that we need to convert the current shape `(5, 784)` to `(5, 1, 28, 28)`. With [NumPy](https://numpy.org/doc/stable/index.html) arrays, we can pass a `-1` for any dimension we wish to remain the same.\n",
    "\n",
    "Which is 5 image of 1 channel   with 28x28 pixels."
   ]
  },
  {
   "cell_type": "code",
   "execution_count": 10,
   "metadata": {},
   "outputs": [
    {
     "name": "stdout",
     "output_type": "stream",
     "text": [
      "(5, 1, 28, 28)\n"
     ]
    },
    {
     "data": {
      "image/png": "[encoded data removed]",
      "text/plain": [
       "<Figure size 1000x1000 with 5 Axes>"
      ]
     },
     "metadata": {},
     "output_type": "display_data"
    }
   ],
   "source": [
    "IMAGE_HEIGHT = 28\n",
    "IMAGE_WIDTH = 28\n",
    "IMAGE_CHANNELS = 1\n",
    "\n",
    "sample_x = sample_x.reshape(-1, IMAGE_CHANNELS, IMAGE_HEIGHT, IMAGE_WIDTH)\n",
    "print(sample_x.shape)\n",
    "\n",
    "\n",
    "def plot_image(images, labels, num_images):\n",
    "    image = images.reshape(28, 28)\n",
    "    label = labels\n",
    "    plt.subplot(1, num_images, i + 1)\n",
    "    plt.title(label, fontdict={\"fontsize\": 30})\n",
    "    plt.axis(\"off\")\n",
    "    plt.imshow(image, cmap=\"gray\")\n",
    "\n",
    "\n",
    "plt.figure(figsize=(10, 10))\n",
    "alphabet = string.ascii_letters[:25]\n",
    "for i in range(len(sample_x)):\n",
    "    plot_image(sample_x[i], alphabet[train_df[\"label\"][i]], 5)"
   ]
  },
  {
   "cell_type": "markdown",
   "metadata": {},
   "source": [
    "## Creating a Dataset\n",
    "\n",
    "We can create our own data set class using the same method as outlined above, we will now generate the class to do this, and then use the DataLoader class to load the data in batches.\n",
    "\n",
    "As the data is in a dataframe we can set the df.copy method to copy the data into a new dataframe, this will allow us to manipulate the data without changing the original data."
   ]
  },
  {
   "cell_type": "code",
   "execution_count": 12,
   "metadata": {},
   "outputs": [],
   "source": [
    "class ASLImages(Dataset):\n",
    "    def __init__(self, base_df):\n",
    "        x_df = base_df.copy()\n",
    "        y_df = x_df.pop(\"label\")\n",
    "        x_df = x_df.values / 255  # Normalize values from 0 to 1\n",
    "        x_df = x_df.reshape(-1, IMAGE_CHANNELS, IMAGE_WIDTH, IMAGE_HEIGHT)\n",
    "        # send to device for processing\n",
    "        self.xs = torch.tensor(x_df).float().to(device)\n",
    "        self.ys = torch.tensor(y_df).to(device)\n",
    "\n",
    "    def __getitem__(self, idx):\n",
    "        x = self.xs[idx]\n",
    "        y = self.ys[idx]\n",
    "        return x, y\n",
    "\n",
    "    def __len__(self):\n",
    "        return len(self.xs)"
   ]
  },
  {
   "cell_type": "markdown",
   "metadata": {},
   "source": [
    "We can now build our Dataloaders using the DataLoader class from PyTorch. Remember to set the train data to shuffle so the model does not learn the order of the data. We don't need to do this for the validation data as we are not training on it."
   ]
  },
  {
   "cell_type": "code",
   "execution_count": 14,
   "metadata": {},
   "outputs": [],
   "source": [
    "BATCH_SIZE = 32\n",
    "\n",
    "train_data = ASLImages(train_df)\n",
    "train_loader = DataLoader(train_data, batch_size=BATCH_SIZE, shuffle=True)\n",
    "train_N = len(train_loader.dataset)\n",
    "\n",
    "valid_data = ASLImages(valid_df)\n",
    "valid_loader = DataLoader(valid_data, batch_size=BATCH_SIZE)\n",
    "valid_N = len(valid_loader.dataset)"
   ]
  },
  {
   "cell_type": "markdown",
   "metadata": {},
   "source": [
    "## Creating a Convolution model\n",
    "\n",
    "A Convolutional Neural Network (CNN) is a type of deep learning model specifically designed to process and analyze visual data, like images and videos. CNNs are highly effective at tasks like image classification, object detection, and facial recognition because they can learn spatial hierarchies and patterns in visual data.\n",
    "\n",
    "They are made up of many layers but in general follow this pattern:\n",
    "\n",
    "1. Convolutional Layers:\n",
    "\t- These layers use filters (small matrices) that slide over the input image to detect patterns or features, such as edges, textures, or shapes.\n",
    "\t- Each filter detects a specific feature in a local region of the image, producing a “feature map” that highlights the presence and position of that feature.\n",
    "\n",
    "2.\tActivation Function (e.g., ReLU):\n",
    "\t- After each convolution, an activation function like ReLU (Rectified Linear Unit) is applied, which introduces non-linearity to help the network learn complex patterns.\n",
    "\n",
    "3.\tPooling Layers:\n",
    "\t- Pooling layers reduce the spatial size (width and height) of feature maps, which helps lower computation and reduces the risk of overfitting.\n",
    "\t- Max pooling is the most common type of pooling, which selects the highest value in a region, making the feature map smaller while keeping key information.\n",
    "4.\tFully Connected Layers:\n",
    "\t- Near the end of the CNN, fully connected (FC) layers combine all learned features from previous layers to make a final prediction.\n",
    "\t- These layers “flatten” the output of the final convolutional layers and pass them to a typical neural network layer to classify the image or detect objects.\n",
    "5.\tOutput Layer:\n",
    "\t- The final layer generates the prediction, often using a softmax function for classification tasks, which provides probabilities for each class.\n",
    "\n",
    "The overall structure of our CNN is going to be as follows :\n",
    "\n",
    "1. input layer\n",
    "2. convolutional layer\n",
    "3. Max pooling layer (with ReLU activation)\n",
    "4. Convolutional layer\n",
    "5. Dropout layer\n",
    "6. max pooling layer\n",
    "7. convolutional layer\n",
    "8. max pooling layer\n",
    "9. Flatten to Dense layer\n",
    "10. Dense layer reduction\n",
    "11. output. Linear layer\n",
    "\n",
    "We can build this as follows with our Sequential model:\n"
   ]
  },
  {
   "cell_type": "code",
   "execution_count": 16,
   "metadata": {},
   "outputs": [],
   "source": [
    "n_classes = 25\n",
    "kernel_size = 3\n",
    "flattened_img_size = 75 * 3 * 3\n",
    "\n",
    "model = nn.Sequential(\n",
    "    # First convolution\n",
    "    nn.Conv2d(IMAGE_CHANNELS, 25, kernel_size, stride=1, padding=1),  # 25 x 28 x 28\n",
    "    nn.BatchNorm2d(25),\n",
    "    nn.ReLU(),\n",
    "    nn.MaxPool2d(2, stride=2),  # 25 x 14 x 14\n",
    "    # Second convolution\n",
    "    nn.Conv2d(25, 50, kernel_size, stride=1, padding=1),  # 50 x 14 x 14\n",
    "    nn.BatchNorm2d(50),\n",
    "    nn.ReLU(),\n",
    "    nn.Dropout(0.2),\n",
    "    nn.MaxPool2d(2, stride=2),  # 50 x 7 x 7\n",
    "    # Third convolution\n",
    "    nn.Conv2d(50, 75, kernel_size, stride=1, padding=1),  # 75 x 7 x 7\n",
    "    nn.BatchNorm2d(75),\n",
    "    nn.ReLU(),\n",
    "    nn.MaxPool2d(2, stride=2),  # 75 x 3 x 3\n",
    "    # Flatten to Dense\n",
    "    nn.Flatten(),\n",
    "    nn.Linear(flattened_img_size, 512),\n",
    "    nn.Dropout(0.3),\n",
    "    nn.ReLU(),\n",
    "    nn.Linear(512, n_classes),\n",
    ")"
   ]
  },
  {
   "cell_type": "markdown",
   "metadata": {},
   "source": [
    "## Conv2D\n",
    "\n",
    "These are our 2D convolutional layers. Small kernels will go over the input image and detect features that are important for classification. Earlier convolutions in the model will detect simple features such as lines. Later convolutions will detect more complex features. \n",
    "\n",
    "In this first example\n",
    "\n",
    "```Python\n",
    "nn.Conv2d(IMG_CHS, 25, kernel_size, stride=1, padding=1)\n",
    "```\n",
    "\n",
    "25 refers to the number of filters that will be learned. Even though `kernel_size = 3`, PyTorch will assume we want 3 x 3 filters. Stride refer to the step size that the filter will take as it passes over the image. Padding refers to whether the output image that's created from the filter will match the size of the input image.\n",
    "\n",
    "## Batch Normalization\n",
    "\n",
    "Batch normalization scales the values in the hidden layers to improve training. It can also help with the [vanishing gradient problem](https://en.wikipedia.org/wiki/Vanishing_gradient_problem).\n",
    "\n",
    "## MaxPool2D\n",
    "\n",
    "Max pooling takes an image and essentially shrinks it to a lower resolution. It does this to help the model be robust to translation (objects moving side to side), and also makes our model faster as it has less data to process as it goes through the network.\n",
    "\n",
    "## Dropout\n",
    "\n",
    "As we saw in our last example we had overfitting of our data, Dropout is a technique for preventing overfitting. \n",
    " \n",
    "It will randomly turn on and off neurons in the network. This will help the network to learn more robust features and not rely on a single neuron to make a decision leading to less overfitting.\n",
    "\n",
    "## Flatten\n",
    "\n",
    "This layer will take the output of the last convolutional layer and flatten it into a 1D tensor. This will allow us to pass it to a fully connected layer. The output is called a feature vector and will be connected to the final classification layer.\n",
    "\n",
    "## Linear\n",
    "\n",
    "This is our final classification layer. It will take the feature vector and output a prediction for each class. We will use the softmax activation function to convert the output to a probability.\n",
    "\n",
    "We have seen dense linear layers before in our earlier models. Our first dense layer (512 units) takes the feature vector as input and learns which features will contribute to a particular classification. The second dense layer (24 units) is the final classification layer that outputs our prediction.\n",
    "\n",
    "## The final model\n",
    "\n",
    "We can print out the different layers of the model t\n",
    "o see the structure of the model."
   ]
  },
  {
   "cell_type": "code",
   "execution_count": 18,
   "metadata": {},
   "outputs": [
    {
     "data": {
      "text/plain": [
       "Sequential(\n",
       "  (0): Conv2d(1, 25, kernel_size=(3, 3), stride=(1, 1), padding=(1, 1))\n",
       "  (1): BatchNorm2d(25, eps=1e-05, momentum=0.1, affine=True, track_running_stats=True)\n",
       "  (2): ReLU()\n",
       "  (3): MaxPool2d(kernel_size=2, stride=2, padding=0, dilation=1, ceil_mode=False)\n",
       "  (4): Conv2d(25, 50, kernel_size=(3, 3), stride=(1, 1), padding=(1, 1))\n",
       "  (5): BatchNorm2d(50, eps=1e-05, momentum=0.1, affine=True, track_running_stats=True)\n",
       "  (6): ReLU()\n",
       "  (7): Dropout(p=0.2, inplace=False)\n",
       "  (8): MaxPool2d(kernel_size=2, stride=2, padding=0, dilation=1, ceil_mode=False)\n",
       "  (9): Conv2d(50, 75, kernel_size=(3, 3), stride=(1, 1), padding=(1, 1))\n",
       "  (10): BatchNorm2d(75, eps=1e-05, momentum=0.1, affine=True, track_running_stats=True)\n",
       "  (11): ReLU()\n",
       "  (12): MaxPool2d(kernel_size=2, stride=2, padding=0, dilation=1, ceil_mode=False)\n",
       "  (13): Flatten(start_dim=1, end_dim=-1)\n",
       "  (14): Linear(in_features=675, out_features=512, bias=True)\n",
       "  (15): Dropout(p=0.3, inplace=False)\n",
       "  (16): ReLU()\n",
       "  (17): Linear(in_features=512, out_features=25, bias=True)\n",
       ")"
      ]
     },
     "execution_count": 18,
     "metadata": {},
     "output_type": "execute_result"
    }
   ],
   "source": [
    "if device == \"cuda\":\n",
    "    model = torch.compile(model.to(device))\n",
    "model.to(device)"
   ]
  },
  {
   "cell_type": "markdown",
   "metadata": {},
   "source": [
    "You will notice as we traverse the next layers the size of the image is reduced, this is due to the max pooling layers reducing the size of the image. It is important that the size of the input and the prevous layer output match, otherwise the model will not work."
   ]
  },
  {
   "cell_type": "markdown",
   "metadata": {},
   "source": [
    "## Training the model\n",
    "\n",
    "Whilst the model is very different the overall processes we are going to use for everything else are the same as before. \n",
    "\n",
    "First we need to define the loss and optimazation functions. "
   ]
  },
  {
   "cell_type": "code",
   "execution_count": 20,
   "metadata": {},
   "outputs": [],
   "source": [
    "loss_function = nn.CrossEntropyLoss()\n",
    "optimizer = Adam(model.parameters())"
   ]
  },
  {
   "cell_type": "code",
   "execution_count": 22,
   "metadata": {},
   "outputs": [],
   "source": [
    "def get_batch_accuracy(output, y, N):\n",
    "    pred = output.argmax(dim=1, keepdim=True)\n",
    "    correct = pred.eq(y.view_as(pred)).sum().item()\n",
    "    return correct / N\n",
    "\n",
    "\n",
    "#  we are going to store the accuracy and loss for each epoch\n",
    "train_accuracy = []\n",
    "train_loss = []\n",
    "\n",
    "\n",
    "def train():\n",
    "    loss = 0\n",
    "    accuracy = 0\n",
    "\n",
    "    model.train()\n",
    "    for x, y in train_loader:\n",
    "        output = model(x)\n",
    "        optimizer.zero_grad()\n",
    "        batch_loss = loss_function(output, y)\n",
    "        batch_loss.backward()\n",
    "        optimizer.step()\n",
    "\n",
    "        loss += batch_loss.item()\n",
    "        accuracy += get_batch_accuracy(output, y, train_N)\n",
    "    train_accuracy.append(accuracy)\n",
    "    train_loss.append(loss)\n",
    "    print(\"Train - Loss: {:.4f} Accuracy: {:.4f}\".format(loss, accuracy))"
   ]
  },
  {
   "cell_type": "code",
   "execution_count": 24,
   "metadata": {},
   "outputs": [],
   "source": [
    "valid_accuracy = []\n",
    "valid_loss = []\n",
    "\n",
    "\n",
    "def validate():\n",
    "    loss = 0\n",
    "    accuracy = 0\n",
    "\n",
    "    model.eval()\n",
    "    with torch.no_grad():\n",
    "        for x, y in valid_loader:\n",
    "            output = model(x)\n",
    "            loss += loss_function(output, y).item()\n",
    "            accuracy += get_batch_accuracy(output, y, valid_N)\n",
    "    valid_accuracy.append(accuracy)\n",
    "    valid_loss.append(loss)\n",
    "    print(\"Valid - Loss: {:.4f} Accuracy: {:.4f}\".format(loss, accuracy))"
   ]
  },
  {
   "cell_type": "code",
   "execution_count": 26,
   "metadata": {},
   "outputs": [
    {
     "name": "stdout",
     "output_type": "stream",
     "text": [
      "Epoch: 0\n",
      "Train - Loss: 275.5378 Accuracy: 0.9046\n",
      "Valid - Loss: 54.8356 Accuracy: 0.9251\n",
      "Epoch: 1\n",
      "Train - Loss: 20.0034 Accuracy: 0.9935\n",
      "Valid - Loss: 32.8684 Accuracy: 0.9586\n",
      "Epoch: 2\n",
      "Train - Loss: 4.0585 Accuracy: 0.9989\n",
      "Valid - Loss: 16.8376 Accuracy: 0.9728\n",
      "Epoch: 3\n",
      "Train - Loss: 15.9201 Accuracy: 0.9947\n",
      "Valid - Loss: 24.7744 Accuracy: 0.9654\n",
      "Epoch: 4\n",
      "Train - Loss: 12.5329 Accuracy: 0.9961\n",
      "Valid - Loss: 15.8507 Accuracy: 0.9764\n",
      "Epoch: 5\n",
      "Train - Loss: 3.8898 Accuracy: 0.9989\n",
      "Valid - Loss: 14.2740 Accuracy: 0.9780\n",
      "Epoch: 6\n",
      "Train - Loss: 9.7819 Accuracy: 0.9970\n",
      "Valid - Loss: 19.9458 Accuracy: 0.9736\n",
      "Epoch: 7\n",
      "Train - Loss: 3.4688 Accuracy: 0.9989\n",
      "Valid - Loss: 9.0727 Accuracy: 0.9886\n",
      "Epoch: 8\n",
      "Train - Loss: 5.3669 Accuracy: 0.9982\n",
      "Valid - Loss: 11.7181 Accuracy: 0.9859\n",
      "Epoch: 9\n",
      "Train - Loss: 0.2831 Accuracy: 1.0000\n",
      "Valid - Loss: 14.0174 Accuracy: 0.9852\n"
     ]
    },
    {
     "data": {
      "image/png": "[encoded data removed]",
      "text/plain": [
       "<Figure size 500x200 with 1 Axes>"
      ]
     },
     "metadata": {},
     "output_type": "display_data"
    },
    {
     "data": {
      "image/png": "[encoded data removed]",
      "text/plain": [
       "<Figure size 500x200 with 1 Axes>"
      ]
     },
     "metadata": {},
     "output_type": "display_data"
    }
   ],
   "source": [
    "epochs = 10\n",
    "\n",
    "for epoch in range(epochs):\n",
    "    print(\"Epoch: {}\".format(epoch))\n",
    "    train()\n",
    "    validate()\n",
    "\n",
    "# Lets plot the data\n",
    "plt.figure(figsize=(5, 2))\n",
    "plt.plot(train_accuracy, label=\"Train\")\n",
    "plt.plot(valid_accuracy, label=\"Valid\")\n",
    "plt.xlabel(\"Epoch\")\n",
    "plt.title(\"Accuracy\")\n",
    "plt.legend()\n",
    "plt.show()\n",
    "\n",
    "plt.figure(figsize=(5, 2))\n",
    "plt.plot(train_loss, label=\"Train\")\n",
    "plt.plot(valid_loss, label=\"Valid\")\n",
    "plt.xlabel(\"Epoch\")\n",
    "plt.title(\"Loss\")\n",
    "plt.legend()\n",
    "plt.show()"
   ]
  },
  {
   "cell_type": "markdown",
   "metadata": {},
   "source": [
    "You will notice that this is much improved from before, however there are some jumps in the validation accuracy. Let's see how well it performs on the test data."
   ]
  },
  {
   "cell_type": "code",
   "execution_count": 32,
   "metadata": {},
   "outputs": [
    {
     "data": {
      "image/png": "[encoded data removed]",
      "text/plain": [
       "<Figure size 2000x2000 with 10 Axes>"
      ]
     },
     "metadata": {},
     "output_type": "display_data"
    }
   ],
   "source": [
    "model.eval()\n",
    "with torch.no_grad():\n",
    "    # Get a batch of validation data\n",
    "    # plot the image and the label\n",
    "    x, y = next(iter(valid_loader))\n",
    "    output = model(x)\n",
    "    pred = output.argmax(dim=1, keepdim=True)\n",
    "    num_images = 10\n",
    "\n",
    "    plt.figure(figsize=(20, 20))\n",
    "    for i in range(num_images):\n",
    "        plt.subplot(1, num_images, i + 1)\n",
    "        plt.title(f\" {alphabet[y[i].item()]} {alphabet[pred[i].item()]}\", fontdict={\"fontsize\": 30})\n",
    "        plt.axis(\"off\")\n",
    "        plt.imshow(x[i].cpu().numpy().reshape(28, 28), cmap=\"gray\")"
   ]
  },
  {
   "cell_type": "markdown",
   "metadata": {},
   "source": [
    "![](./mnist_asl/american_sign_language.PNG)\n"
   ]
  },
  {
   "cell_type": "markdown",
   "metadata": {},
   "source": [
    "As you can see from visual inspection it is close but not 100% accurate.  We will improve on this model in the next notebook.\n"
   ]
  },
  {
   "cell_type": "code",
   "execution_count": 34,
   "metadata": {},
   "outputs": [
    {
     "name": "stdout",
     "output_type": "stream",
     "text": [
      "Accuracy: 1.0\n"
     ]
    }
   ],
   "source": [
    "# Lets check the whole data set and see how well we did\n",
    "\n",
    "model.eval()\n",
    "with torch.no_grad():\n",
    "    # loop through all of the test data and see if the prediction is correct\n",
    "    correct = 0\n",
    "    total = 0\n",
    "    for x, y in train_loader:\n",
    "        output = model(x)\n",
    "        pred = output.argmax(dim=1, keepdim=True)\n",
    "        correct += pred.eq(y.view_as(pred)).sum().item()\n",
    "        total += y.size(0)\n",
    "print(f\"Accuracy: {correct / total}\")"
   ]
  },
  {
   "cell_type": "code",
   "execution_count": null,
   "metadata": {},
   "outputs": [],
   "source": []
  }
 ],
 "metadata": {
  "kernelspec": {
   "display_name": "Python 3 (ipykernel)",
   "language": "python",
   "name": "python3"
  },
  "language_info": {
   "codemirror_mode": {
    "name": "ipython",
    "version": 3
   },
   "file_extension": ".py",
   "mimetype": "text/x-python",
   "name": "python",
   "nbconvert_exporter": "python",
   "pygments_lexer": "ipython3",
   "version": "3.11.8"
  }
 },
 "nbformat": 4,
 "nbformat_minor": 4
}
