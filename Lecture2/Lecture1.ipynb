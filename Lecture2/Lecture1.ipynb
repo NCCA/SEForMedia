{
 "cells": [
  {
   "cell_type": "markdown",
   "metadata": {},
   "source": [
    "# Lecture 1 Introduction to Python\n",
    "\n",
    "This notebook contains the code for the Lecture 1 Introduction to Python. These demos are to be used in conjunction with the lecture slides to explore the concepts of Python programming language.\n",
    "\n",
    "## Keywords\n",
    "\n",
    "Run the following example to see the keywords this version of python uses.\n",
    "\n",
    "    "
   ]
  },
  {
   "cell_type": "code",
   "execution_count": 6,
   "metadata": {},
   "outputs": [
    {
     "name": "stdout",
     "output_type": "stream",
     "text": [
      "['False', 'None', 'True', 'and', 'as', 'assert', 'async',\n",
      " 'await', 'break', 'class', 'continue', 'def', 'del',\n",
      " 'elif', 'else', 'except', 'finally', 'for', 'from',\n",
      " 'global', 'if', 'import', 'in', 'is', 'lambda', 'nonlocal',\n",
      " 'not', 'or', 'pass', 'raise', 'return', 'try', 'while',\n",
      " 'with', 'yield']\n"
     ]
    }
   ],
   "source": [
    "import keyword\n",
    "import pprint\n",
    "# here I am using the pprint module to print the list of keywords in a more readable format than print would do\n",
    "pprint.pprint(keyword.kwlist, width=60, compact=True)"
   ]
  },
  {
   "cell_type": "markdown",
   "metadata": {},
   "source": [
    "## Idetifiers\n",
    "\n",
    "Identifiers are the names given to entities like classes, functions, variables etc. in Python. It helps differentiating one entity from another. It is important to note that Python is case sensitive.\n",
    ">Programs are meant to be read by humans and only incidentally for computers to execute.\n",
    "    Donald Knuth\n",
    "\n",
    "We should try to make our names easy to read an understand, this may be specific to a problem domain or using the \"traditional\" or \"accepted\" names for things (more on this when we talk about machine learning etc). Try to be clear and concise with your names. "
   ]
  },
  {
   "cell_type": "code",
   "execution_count": 1,
   "metadata": {},
   "outputs": [
    {
     "name": "stdout",
     "output_type": "stream",
     "text": [
      "The Zen of Python, by Tim Peters\n",
      "\n",
      "Beautiful is better than ugly.\n",
      "Explicit is better than implicit.\n",
      "Simple is better than complex.\n",
      "Complex is better than complicated.\n",
      "Flat is better than nested.\n",
      "Sparse is better than dense.\n",
      "Readability counts.\n",
      "Special cases aren't special enough to break the rules.\n",
      "Although practicality beats purity.\n",
      "Errors should never pass silently.\n",
      "Unless explicitly silenced.\n",
      "In the face of ambiguity, refuse the temptation to guess.\n",
      "There should be one-- and preferably only one --obvious way to do it.\n",
      "Although that way may not be obvious at first unless you're Dutch.\n",
      "Now is better than never.\n",
      "Although never is often better than *right* now.\n",
      "If the implementation is hard to explain, it's a bad idea.\n",
      "If the implementation is easy to explain, it may be a good idea.\n",
      "Namespaces are one honking great idea -- let's do more of those!\n"
     ]
    }
   ],
   "source": [
    "import this"
   ]
  },
  {
   "cell_type": "markdown",
   "metadata": {},
   "source": []
  },
  {
   "cell_type": "markdown",
   "metadata": {},
   "source": [
    "# Identifier rules\n",
    "- Must Begin with a Letter or an Underscore (****): Identifiers cannot start with a number. They must start with a letter (A-Z or a-z) or an underscore ().\n",
    "- - Can Contain Letters, Digits, and Underscores: After the first character, identifiers can include letters, digits (0-9), and underscores.\n",
    "    Case Sensitive: Identifiers are case-sensitive, meaning var, Var, and VAR would be treated as different identifiers.\n",
    "    No Reserved Keywords: Identifiers cannot be the same as Python’s reserved keywords\n",
    "\n"
   ]
  },
  {
   "cell_type": "code",
   "execution_count": 2,
   "metadata": {},
   "outputs": [
    {
     "name": "stdout",
     "output_type": "stream",
     "text": [
      "hello\n"
     ]
    }
   ],
   "source": [
    "a=\"hello\" # not the best variable name\n",
    "prompt=\"hello\" # better variable name\n",
    "print(prompt)"
   ]
  },
  {
   "cell_type": "code",
   "execution_count": 4,
   "metadata": {},
   "outputs": [
    {
     "name": "stdout",
     "output_type": "stream",
     "text": [
      "3 is a magic number\n"
     ]
    }
   ],
   "source": [
    "# Other examples\n",
    "magic_number = 3\n",
    "print(f\"{magic_number} is a magic number\")\n"
   ]
  },
  {
   "cell_type": "markdown",
   "metadata": {},
   "source": [
    "We will discuss more examples of naming and identifiers as we progress through the course. \n",
    "\n",
    "## Data Types\n",
    "\n",
    "Python is a dynamically typed language, this means that variable values are checked at run-time (sometimes known as “lazy binding”). All variables in Python hold references to objects, and these references are passed to functions by value.\n",
    "\n",
    "Python has 5 standard data types\n",
    "  - numbers\n",
    "  -  string \n",
    "  -  list \n",
    "  -  tuple\n",
    "  -  dictionary\n",
    "\n",
    "\n",
    "## Numbers\n",
    "\n",
    "Python supports 3 different numerical types:\n",
    "- int (signed integers)\n",
    "- float (floating point real values)\n",
    "- complex (complex numbers)"
   ]
  },
  {
   "cell_type": "code",
   "execution_count": 5,
   "metadata": {},
   "outputs": [
    {
     "name": "stdout",
     "output_type": "stream",
     "text": [
      "1 is of type <class 'int'>\n",
      "1.2 is of type <class 'float'>\n",
      "(4+5j) is of type <class 'complex'>\n"
     ]
    }
   ],
   "source": [
    "integer_variable=1 # note the names are not reserved words \n",
    "float_variable=1.2\n",
    "complex_variable=4+5j\n",
    "\n",
    "print(f\"{integer_variable} is of type {type(integer_variable)}\")\n",
    "print(f\"{float_variable} is of type {type(float_variable)}\")\n",
    "print(f\"{complex_variable} is of type {type(complex_variable)}\")\n",
    "\n"
   ]
  },
  {
   "cell_type": "markdown",
   "metadata": {},
   "source": []
  }
 ],
 "metadata": {
  "kernelspec": {
   "display_name": "base",
   "language": "python",
   "name": "python3"
  },
  "language_info": {
   "codemirror_mode": {
    "name": "ipython",
    "version": 3
   },
   "file_extension": ".py",
   "mimetype": "text/x-python",
   "name": "python",
   "nbconvert_exporter": "python",
   "pygments_lexer": "ipython3",
   "version": "3.11.7"
  }
 },
 "nbformat": 4,
 "nbformat_minor": 2
}
