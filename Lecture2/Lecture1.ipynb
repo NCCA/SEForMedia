{
 "cells": [
  {
   "cell_type": "markdown",
   "metadata": {},
   "source": [
    "# Lecture 1 Introduction to Python\n",
    "\n",
    "This notebook contains the code for the Lecture 1 Introduction to Python. These demos are to be used in conjunction with the lecture slides to explore the concepts of Python programming language.\n",
    "\n",
    "## Keywords\n",
    "\n",
    "Run the following example to see the keywords this version of python uses.\n",
    "\n",
    "    "
   ]
  },
  {
   "cell_type": "code",
   "execution_count": 6,
   "metadata": {},
   "outputs": [
    {
     "name": "stdout",
     "output_type": "stream",
     "text": [
      "['False', 'None', 'True', 'and', 'as', 'assert', 'async',\n",
      " 'await', 'break', 'class', 'continue', 'def', 'del',\n",
      " 'elif', 'else', 'except', 'finally', 'for', 'from',\n",
      " 'global', 'if', 'import', 'in', 'is', 'lambda', 'nonlocal',\n",
      " 'not', 'or', 'pass', 'raise', 'return', 'try', 'while',\n",
      " 'with', 'yield']\n"
     ]
    }
   ],
   "source": [
    "import keyword\n",
    "import pprint\n",
    "\n",
    "# here I am using the pprint module to print the list of keywords in a more readable format than print would do\n",
    "pprint.pprint(keyword.kwlist, width=60, compact=True)"
   ]
  },
  {
   "cell_type": "markdown",
   "metadata": {},
   "source": [
    "## Idetifiers\n",
    "\n",
    "Identifiers are the names given to entities like classes, functions, variables etc. in Python. It helps differentiating one entity from another. It is important to note that Python is case sensitive.\n",
    ">Programs are meant to be read by humans and only incidentally for computers to execute.\n",
    "    Donald Knuth\n",
    "\n",
    "We should try to make our names easy to read an understand, this may be specific to a problem domain or using the \"traditional\" or \"accepted\" names for things (more on this when we talk about machine learning etc). Try to be clear and concise with your names. "
   ]
  },
  {
   "cell_type": "code",
   "execution_count": 1,
   "metadata": {},
   "outputs": [
    {
     "name": "stdout",
     "output_type": "stream",
     "text": [
      "The Zen of Python, by Tim Peters\n",
      "\n",
      "Beautiful is better than ugly.\n",
      "Explicit is better than implicit.\n",
      "Simple is better than complex.\n",
      "Complex is better than complicated.\n",
      "Flat is better than nested.\n",
      "Sparse is better than dense.\n",
      "Readability counts.\n",
      "Special cases aren't special enough to break the rules.\n",
      "Although practicality beats purity.\n",
      "Errors should never pass silently.\n",
      "Unless explicitly silenced.\n",
      "In the face of ambiguity, refuse the temptation to guess.\n",
      "There should be one-- and preferably only one --obvious way to do it.\n",
      "Although that way may not be obvious at first unless you're Dutch.\n",
      "Now is better than never.\n",
      "Although never is often better than *right* now.\n",
      "If the implementation is hard to explain, it's a bad idea.\n",
      "If the implementation is easy to explain, it may be a good idea.\n",
      "Namespaces are one honking great idea -- let's do more of those!\n"
     ]
    }
   ],
   "source": [
    "import this"
   ]
  },
  {
   "cell_type": "markdown",
   "metadata": {},
   "source": []
  },
  {
   "cell_type": "markdown",
   "metadata": {},
   "source": [
    "# Identifier rules\n",
    "- Must Begin with a Letter or an Underscore (****): Identifiers cannot start with a number. They must start with a letter (A-Z or a-z) or an underscore ().\n",
    "- - Can Contain Letters, Digits, and Underscores: After the first character, identifiers can include letters, digits (0-9), and underscores.\n",
    "    Case Sensitive: Identifiers are case-sensitive, meaning var, Var, and VAR would be treated as different identifiers.\n",
    "    No Reserved Keywords: Identifiers cannot be the same as Python’s reserved keywords\n",
    "\n"
   ]
  },
  {
   "cell_type": "code",
   "execution_count": 2,
   "metadata": {},
   "outputs": [
    {
     "name": "stdout",
     "output_type": "stream",
     "text": [
      "hello\n"
     ]
    }
   ],
   "source": [
    "a = \"hello\"  # not the best variable name\n",
    "prompt = \"hello\"  # better variable name\n",
    "print(prompt)"
   ]
  },
  {
   "cell_type": "code",
   "execution_count": 4,
   "metadata": {},
   "outputs": [
    {
     "name": "stdout",
     "output_type": "stream",
     "text": [
      "3 is a magic number\n"
     ]
    }
   ],
   "source": [
    "# Other examples\n",
    "magic_number = 3\n",
    "print(f\"{magic_number} is a magic number\")"
   ]
  },
  {
   "cell_type": "markdown",
   "metadata": {},
   "source": [
    "We will discuss more examples of naming and identifiers as we progress through the course. \n",
    "\n",
    "## Data Types\n",
    "\n",
    "Python is a dynamically typed language, this means that variable values are checked at run-time (sometimes known as “lazy binding”). All variables in Python hold references to objects, and these references are passed to functions by value.\n",
    "\n",
    "Python has 5 standard data types\n",
    "  - numbers\n",
    "  -  string \n",
    "  -  list \n",
    "  -  tuple\n",
    "  -  dictionary\n",
    "\n",
    "\n",
    "## Numbers\n",
    "\n",
    "Python supports 3 different numerical types:\n",
    "- int (signed integers)\n",
    "- float (floating point real values)\n",
    "- complex (complex numbers)"
   ]
  },
  {
   "cell_type": "code",
   "execution_count": 5,
   "metadata": {},
   "outputs": [
    {
     "name": "stdout",
     "output_type": "stream",
     "text": [
      "1 is of type <class 'int'>\n",
      "1.2 is of type <class 'float'>\n",
      "(4+5j) is of type <class 'complex'>\n"
     ]
    }
   ],
   "source": [
    "integer_variable = 1  # note the names are not reserved words\n",
    "float_variable = 1.2\n",
    "complex_variable = 4 + 5j\n",
    "\n",
    "print(f\"{integer_variable} is of type {type(integer_variable)}\")\n",
    "print(f\"{float_variable} is of type {type(float_variable)}\")\n",
    "print(f\"{complex_variable} is of type {type(complex_variable)}\")"
   ]
  },
  {
   "cell_type": "markdown",
   "metadata": {},
   "source": [
    "\n",
    "## [operations on numbers](https://docs.python.org/3/library/stdtypes.html#typesnumeric)\n",
    "\n",
    "We can use the typical arithmetic operators to perform operations on these numbers (and most python number types). The simple operations are shown below (and there are more complex operations available in the python documentation).\n",
    "\n",
    "\n",
    "| operation | Result |\n",
    "|--------|-------|\n",
    "| ``` x+y``` | sum of x and y |\n",
    "| ``` x-y``` | difference of x and y |\n",
    "| ``` x*y``` | product of x and y |\n",
    "| ``` x/y``` | quotient of x and y |\n",
    "| ``` x//y``` | floored quotient of x and y |\n",
    "| ``` -x``` | x negated |\n",
    "| ``` +x``` | x unchanged |\n",
    "| ``` x**y``` | x to the power y |"
   ]
  },
  {
   "cell_type": "code",
   "execution_count": 6,
   "metadata": {},
   "outputs": [
    {
     "name": "stdout",
     "output_type": "stream",
     "text": [
      "x+y=7\n",
      "x-y=-3\n",
      "x*y=10\n",
      "x/y=0.4\n",
      "x//y=0\n",
      "-x=-2\n",
      "+x=2\n",
      "x**y=32\n"
     ]
    }
   ],
   "source": [
    "# modify x and y for different numeric types\n",
    "x = 2\n",
    "y = 5\n",
    "print(f\"{x+y=}\")\n",
    "print(f\"{x-y=}\")\n",
    "print(f\"{x*y=}\")\n",
    "print(f\"{x/y=}\")\n",
    "print(f\"{x//y=}\")\n",
    "print(f\"{-x=}\")\n",
    "print(f\"{+x=}\")\n",
    "print(f\"{x**y=}\")"
   ]
  },
  {
   "cell_type": "markdown",
   "metadata": {},
   "source": [
    "In python integers are of unlimited size, so you can perform operations on very large numbers without worrying about overflow (unlike python 2 or other programming languages).\n",
    "\n",
    "Python 3 division will result in a float, to get the integer division you can use the // operator."
   ]
  },
  {
   "cell_type": "code",
   "execution_count": 13,
   "metadata": {},
   "outputs": [
    {
     "name": "stdout",
     "output_type": "stream",
     "text": [
      "type(3/3)= <class 'float'>\n",
      "type(3//3)= <class 'int'>\n",
      "1.0\n",
      "1\n"
     ]
    }
   ],
   "source": [
    "print(f\"type(3/3)= {type(3 / 3)}\")\n",
    "print(f\"type(3//3)= {type(3 // 3)}\")\n",
    "print(3 / 3)\n",
    "print(3 // 3)"
   ]
  },
  {
   "cell_type": "markdown",
   "metadata": {},
   "source": [
    "## Floating Point (Real) numbers\n",
    "\n",
    "To represent fractions we use floating point numbers we need to be explicit as to the type of the number. We can use the float() function to convert integers to floats if required.\n"
   ]
  },
  {
   "cell_type": "code",
   "execution_count": 14,
   "metadata": {},
   "outputs": [
    {
     "name": "stdout",
     "output_type": "stream",
     "text": [
      "a=1 b=1.0 c=1.0\n",
      "type(a)=<class 'int'>\n",
      "type(b)=<class 'float'>\n",
      "type(c)=<class 'float'>\n"
     ]
    }
   ],
   "source": [
    "a = 1\n",
    "b = 1.0\n",
    "c = float(1)\n",
    "print(f\"{a=} {b=} {c=}\")\n",
    "print(f\"{type(a)=}\")\n",
    "print(f\"{type(b)=}\")\n",
    "print(f\"{type(c)=}\")"
   ]
  },
  {
   "cell_type": "markdown",
   "metadata": {},
   "source": []
  },
  {
   "cell_type": "markdown",
   "metadata": {},
   "source": [
    "Floats can be problematic, as they are actually approximations (following the IEEE 754 standard). This can lead to some strange behavior when comparing floats. \n"
   ]
  },
  {
   "cell_type": "code",
   "execution_count": 15,
   "metadata": {},
   "outputs": [
    {
     "name": "stdout",
     "output_type": "stream",
     "text": [
      "True\n",
      "False\n",
      "0.2+0.2=0.4\n",
      "0.1+0.2=0.30000000000000004\n",
      "(0.1+0.2).hex()='0x1.3333333333334p-2'\n",
      "(0.3).hex()='0x1.3333333333333p-2'\n"
     ]
    }
   ],
   "source": [
    "#!/usr/bin/env python\n",
    "\n",
    "print(0.2 + 0.2 == 0.4)\n",
    "print(0.1 + 0.2 == 0.3)\n",
    "\n",
    "print(f\"{0.2+0.2=}\")\n",
    "print(f\"{0.1+0.2=}\")\n",
    "\n",
    "print(f\"{(0.1+0.2).hex()=}\")\n",
    "print(f\"{(0.3).hex()=}\")"
   ]
  },
  {
   "cell_type": "markdown",
   "metadata": {},
   "source": [
    "If we really need to check floating point numbers for equality we can use the math.isclose() function. This function takes two numbers and an optional relative tolerance and an optional absolute tolerance. The function returns True if the two numbers are close enough to be considered equal."
   ]
  },
  {
   "cell_type": "code",
   "execution_count": 17,
   "metadata": {},
   "outputs": [
    {
     "name": "stdout",
     "output_type": "stream",
     "text": [
      "math.isclose(0.1+0.2, 0.3)=True\n",
      "math.isclose(0.1+0.2, 0.3, rel_tol=1e-9)=True\n",
      "math.isclose(0.1+0.2, 0.3, rel_tol=1e-15)=True\n"
     ]
    }
   ],
   "source": [
    "import math\n",
    "\n",
    "print(f\"{math.isclose(0.1+0.2, 0.3)=}\")\n",
    "print(f\"{math.isclose(0.1+0.2, 0.3, rel_tol=1e-9)=}\")\n",
    "print(f\"{math.isclose(0.1+0.2, 0.3, rel_tol=1e-15)=}\")"
   ]
  },
  {
   "cell_type": "markdown",
   "metadata": {},
   "source": [
    "This website has a good explanation of the issues with floating point numbers in python: https://docs.python.org/3/tutorial/floatingpoint.html you can also play with this interactive demo to see how floating point numbers are represented in python: https://evanw.github.io/float-toy/\n",
    "\n",
    "<div class=\"stretch\">\n",
    "<iframe src=\"https://evanw.github.io/float-toy/\" width=1000 height=600></iframe>\n",
    "</div>"
   ]
  },
  {
   "cell_type": "markdown",
   "metadata": {},
   "source": [
    "## Strings\n",
    "\n",
    "Strings are sequences of characters, using the str type. Strings are immutable, meaning that once they are created they cannot be changed. Strings can be created using single quotes, double quotes, or triple quotes. Triple quotes are used for multi-line strings.\n"
   ]
  },
  {
   "cell_type": "code",
   "execution_count": 18,
   "metadata": {},
   "outputs": [
    {
     "name": "stdout",
     "output_type": "stream",
     "text": [
      "hello world\n",
      "We can use single \"quotes\"\n",
      "Triple single or double quotes\n",
      "can be used for longer strings. These will\n",
      "Be\n",
      "printed\n",
      "verbatum\n",
      "Unicode strings start with u but not all terminals can print these chars 𝛑 \n",
      "Omega:  Ω\n"
     ]
    }
   ],
   "source": [
    "hello = \"hello world\"\n",
    "print(hello)\n",
    "\n",
    "text = 'We can use single \"quotes\"'\n",
    "\n",
    "print(text)\n",
    "\n",
    "text = \"\"\"Triple single or double quotes\n",
    "can be used for longer strings. These will\n",
    "Be\n",
    "printed\n",
    "verbatim\"\"\"\n",
    "\n",
    "print(text)\n",
    "\n",
    "print(\n",
    "    \"Unicode strings start with u but not all terminals can print these chars \\U0001d6d1 \"\n",
    ")\n",
    "print(\"Omega:  Ω\")"
   ]
  },
  {
   "cell_type": "markdown",
   "metadata": {},
   "source": [
    "Subsets of strings can be taken using the slice operator  (```[ ]``` and ```[ : ]``` ) with indexes starting at 0 in the beginning of the string and working their way from -1 at the end\n",
    "\n",
    "The plus ( ```+``` ) sign is the string concatenation operator, and the asterisk ( ```*``` ) is the repetition operator."
   ]
  },
  {
   "cell_type": "code",
   "execution_count": 19,
   "metadata": {},
   "outputs": [
    {
     "name": "stdout",
     "output_type": "stream",
     "text": [
      "str='Hello python'\n",
      "str[0]='H'\n",
      "str[2:5]='llo'\n",
      "str[2:]='llo python'\n",
      "str * 2='Hello pythonHello python'\n",
      "Hello python with added text\n"
     ]
    }
   ],
   "source": [
    "str = \"Hello python\"\n",
    "\n",
    "# Prints complete string\n",
    "print(f\"{str=}\")\n",
    "# Prints first character of the string\n",
    "print(f\"{str[0]=}\")\n",
    "# Prints characters starting from 3rd to 6th\n",
    "print(f\"{str[2:5]=}\")\n",
    "# Prints string starting from 3rd character\n",
    "print(f\"{str[2:]=}\")\n",
    "# Prints string two times\n",
    "print(f\"{str * 2=}\")\n",
    "# Prints concatenated string\n",
    "print(str + \" with added text\")"
   ]
  },
  {
   "cell_type": "markdown",
   "metadata": {},
   "source": [
    "## Lists\n",
    "A list is the most common of the Python data containers / types. It can hold mixed data, include lists of lists. A list is contained within the [] brackets and is analogous to C arrays\n",
    "\n",
    "Like a string data is accessed using the slice operator ( ```[ ]``` and ```[ : ]``` ) with indexes starting at 0 in the beginning of the list and working their way to end-1. The + operator concatenates and the * duplicates\n"
   ]
  },
  {
   "cell_type": "code",
   "execution_count": 20,
   "metadata": {},
   "outputs": [
    {
     "name": "stdout",
     "output_type": "stream",
     "text": [
      "list_1=[123, 'hello', 2.45, (3+2j)]\n",
      "list_1[1]='hello'\n",
      "list_1[2:]=[2.45, (3+2j)]\n",
      "hello='hello world'\n",
      "list_1[i]=123\n",
      "list_1[i]='hello'\n",
      "list_1[i]=2.45\n",
      "list_1[i]=(3+2j)\n",
      "ch=123\n",
      "ch='hello'\n",
      "ch=2.45\n",
      "ch=(3+2j)\n",
      "Using enumerate which gives us the index and value\n",
      "0 123\n",
      "1 hello\n",
      "2 2.45\n",
      "3 (3+2j)\n"
     ]
    }
   ],
   "source": [
    "list_1 = [123, \"hello\", 2.45, 3 + 2j]\n",
    "list_2 = [\" \", \"world\"]\n",
    "\n",
    "print(f\"{list_1=}\")\n",
    "print(f\"{list_1[1]=}\")\n",
    "print(f\"{list_1[2:]=}\")\n",
    "\n",
    "hello = list_1[1] + list_2[0] + list_2[1]\n",
    "print(f\"{hello=}\")\n",
    "\n",
    "# this is very much python2 but still common in python3\n",
    "for i in range(0, len(list_1)):\n",
    "    print(f\"{list_1[i]=}\")\n",
    "# lists are iterable so we can do this which is preferred in python3\n",
    "for ch in list_1:\n",
    "    print(f\"{ch=}\")\n",
    "\n",
    "print(\"Using enumerate which gives us the index and value\")\n",
    "for num, ch in enumerate(list_1):\n",
    "    print(f\"{num} {ch}\")"
   ]
  },
  {
   "cell_type": "markdown",
   "metadata": {},
   "source": []
  },
  {
   "cell_type": "markdown",
   "metadata": {},
   "source": [
    "## Tuples\n",
    "\n",
    "A tuple is a sequence of immutable Python objects. Tuples are sequences, just like lists. The differences between tuples and lists are, the tuples cannot be changed unlike lists and tuples use parentheses, whereas lists use square brackets."
   ]
  },
  {
   "cell_type": "code",
   "execution_count": 21,
   "metadata": {},
   "outputs": [
    {
     "name": "stdout",
     "output_type": "stream",
     "text": [
      "tuple_1=(123, 'hello', 2.45, (3+2j))\n",
      "tuple_1[1]='hello'\n",
      "tuple_1[2:]=(2.45, (3+2j))\n",
      "hello='hello world'\n"
     ]
    },
    {
     "ename": "TypeError",
     "evalue": "'tuple' object does not support item assignment",
     "output_type": "error",
     "traceback": [
      "\u001b[0;31m---------------------------------------------------------------------------\u001b[0m",
      "\u001b[0;31mTypeError\u001b[0m                                 Traceback (most recent call last)",
      "Cell \u001b[0;32mIn[21], line 12\u001b[0m\n\u001b[1;32m     10\u001b[0m hello\u001b[38;5;241m=\u001b[39mtuple_1[\u001b[38;5;241m1\u001b[39m]\u001b[38;5;241m+\u001b[39mtuple_2[\u001b[38;5;241m0\u001b[39m]\u001b[38;5;241m+\u001b[39mtuple_2[\u001b[38;5;241m1\u001b[39m]\n\u001b[1;32m     11\u001b[0m \u001b[38;5;28mprint\u001b[39m(\u001b[38;5;124mf\u001b[39m\u001b[38;5;124m\"\u001b[39m\u001b[38;5;132;01m{\u001b[39;00mhello\u001b[38;5;132;01m=}\u001b[39;00m\u001b[38;5;124m\"\u001b[39m)\n\u001b[0;32m---> 12\u001b[0m tuple_1[\u001b[38;5;241m0\u001b[39m]\u001b[38;5;241m=\u001b[39m\u001b[38;5;241m3\u001b[39m\n",
      "\u001b[0;31mTypeError\u001b[0m: 'tuple' object does not support item assignment"
     ]
    }
   ],
   "source": [
    "#!/usr/bin/env python\n",
    "\n",
    "tuple_1 = (123, \"hello\", 2.45, 3 + 2j)\n",
    "tuple_2 = (\" \", \"world\")\n",
    "\n",
    "print(f\"{tuple_1=}\")\n",
    "print(f\"{tuple_1[1]=}\")\n",
    "print(f\"{tuple_1[2:]=}\")\n",
    "\n",
    "hello = tuple_1[1] + tuple_2[0] + tuple_2[1]\n",
    "print(f\"{hello=}\")\n",
    "tuple_1[0] = 3"
   ]
  },
  {
   "cell_type": "markdown",
   "metadata": {},
   "source": [
    "## Slice operations\n",
    "\n",
    " In Python, slice operators are used to extract parts of sequences like strings, lists, tuples, and other iterable objects. Slicing allows you to access a subset of the elements in these sequences using a specific syntax.\n",
    "\n",
    "The basic syntax for slicing is:\n",
    "\n",
    "```sequence[start:stop:step]```\n",
    "\n",
    "- start: The index where the slice starts (inclusive). If omitted, it defaults to the beginning of the sequence (0).\n",
    "- stop: The index where the slice ends (exclusive). If omitted, it defaults to the end of the sequence.\n",
    "- step: The interval between elements in the slice. If omitted, it defaults to 1."
   ]
  },
  {
   "cell_type": "code",
   "execution_count": 23,
   "metadata": {},
   "outputs": [
    {
     "name": "stdout",
     "output_type": "stream",
     "text": [
      "a[::1]=[0, 1, 2, 3, 4, 5, 6, 7, 8, 9]\n",
      "a[::-1]=[9, 8, 7, 6, 5, 4, 3, 2, 1, 0]\n",
      "a[1:10:2]=[1, 3, 5, 7, 9]\n",
      "a[:-1:1]=[0, 1, 2, 3, 4, 5, 6, 7, 8]\n",
      "a=[1, 3, 5, 7, 9]\n",
      "list(range(10))[slice(0, 5, 2)]=[0, 2, 4]\n"
     ]
    }
   ],
   "source": [
    "# create a list of 10 elements\n",
    "a = list(range(10))\n",
    "\n",
    "print(f\"{a[::1]=}\")\n",
    "print(f\"{a[::-1]=}\")\n",
    "print(f\"{a[1:10:2]=}\")\n",
    "print(f\"{a[:-1:1]=}\")\n",
    "del a[::2]\n",
    "print(f\"{a=}\")\n",
    "print(f\"{list(range(10))[slice(0, 5, 2)]=}\")"
   ]
  },
  {
   "cell_type": "markdown",
   "metadata": {},
   "source": [
    "## Dictionaries\n",
    "\n",
    "Python dictionaries are a powerful key / value data structure which allows the storing of different data types in the same data set, they are also the core foundation on which the whole python language is built. Dictionaries are enclosed by curly braces ( ```{}``` ) and values can be assigned and accessed using square braces ( ```[]``` ).\n",
    "\n",
    "We use the key to access the value in the dictionary. The key must be unique and immutable (meaning it cannot be changed). The value can be any data type (including lists, tuples, and other dictionaries).\n",
    "\n",
    "It may take time to understand when and how to use dictionaries, but they are a powerful tool in python and are used extensively in the language."
   ]
  },
  {
   "cell_type": "code",
   "execution_count": 24,
   "metadata": {},
   "outputs": [
    {
     "name": "stdout",
     "output_type": "stream",
     "text": [
      "[1, 0, 0]\n",
      "[0, 1, 0]\n",
      "None\n",
      "[1, 1, 1]\n"
     ]
    },
    {
     "ename": "KeyError",
     "evalue": "'purple'",
     "output_type": "error",
     "traceback": [
      "\u001b[0;31m---------------------------------------------------------------------------\u001b[0m",
      "\u001b[0;31mKeyError\u001b[0m                                  Traceback (most recent call last)",
      "Cell \u001b[0;32mIn[24], line 17\u001b[0m\n\u001b[1;32m     15\u001b[0m \u001b[38;5;28mprint\u001b[39m(colours[\u001b[38;5;124m'\u001b[39m\u001b[38;5;124mwhite\u001b[39m\u001b[38;5;124m'\u001b[39m])\n\u001b[1;32m     16\u001b[0m \u001b[38;5;66;03m# but\u001b[39;00m\n\u001b[0;32m---> 17\u001b[0m \u001b[38;5;28mprint\u001b[39m(colours[\u001b[38;5;124m'\u001b[39m\u001b[38;5;124mpurple\u001b[39m\u001b[38;5;124m'\u001b[39m])\n",
      "\u001b[0;31mKeyError\u001b[0m: 'purple'"
     ]
    }
   ],
   "source": [
    "colours = {\n",
    "    \"red\": [1, 0, 0],\n",
    "    \"green\": [0, 1, 0],\n",
    "    \"blue\": [0, 0, 1],\n",
    "    \"white\": [1, 1, 1],\n",
    "    \"black\": [0, 0, 0],\n",
    "}\n",
    "\n",
    "print(f\"{colours.get('red')=}\")\n",
    "print(f\"{colours.get('green')=}\")\n",
    "print(f\"{colours.get('purple')=}\")\n",
    "# can also use\n",
    "print(f\"{colours['white']=}\")\n",
    "# but\n",
    "print(f\"{colours['purple']=}\")"
   ]
  },
  {
   "cell_type": "code",
   "execution_count": null,
   "metadata": {},
   "outputs": [],
   "source": []
  }
 ],
 "metadata": {
  "kernelspec": {
   "display_name": "base",
   "language": "python",
   "name": "python3"
  },
  "language_info": {
   "codemirror_mode": {
    "name": "ipython",
    "version": 3
   },
   "file_extension": ".py",
   "mimetype": "text/x-python",
   "name": "python",
   "nbconvert_exporter": "python",
   "pygments_lexer": "ipython3",
   "version": "3.11.7"
  }
 },
 "nbformat": 4,
 "nbformat_minor": 2
}
