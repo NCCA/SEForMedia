{
 "cells": [
  {
   "attachments": {},
   "cell_type": "markdown",
   "id": "2be4f2cc-0f2b-4dae-bb57-b55f39e1a472",
   "metadata": {},
   "source": [
    "# Cheat Sheet\n",
    "\n",
    "This document contains some useful short-cuts and links to help you use Jupyter notebooks more efficiently. \n",
    "\n",
    "## Modes\n",
    "\n",
    "The notebook has two main modes. The command mode (typically this will make the sides of the cells blue) and edit mode. Command mode is where we type in the markdown or code. Edit mode is where we edit the actual notebook to add new cells or run the cells.  \n",
    "\n",
    "We can toggle between command mode (blue) and edit mode  with Esc and Enter, respectively.\n",
    "\n",
    "## Command Mode\n",
    "\n",
    "In command mode we have the following shortcuts\n",
    "\n",
    "\n",
    "- Arrow Up and Down keys will scroll up and down your cells .\n",
    "- ```a```  will insert a cell above.\n",
    "- ```b``` will insert a cell below. \n",
    "- ```m``` will change the active cell to markdown mode\n",
    "- ```y``` will change the active cell to a code (python) cell.\n",
    "-  ```d``` + ```d``` (d twice) will delete the active cell.\n",
    "- ```z``` will undo cell deletion\n",
    "\n",
    "We can select multiple cells using Shift and the arrow up or down. Once these cells are selected, we can merge them using, ```Shift + m``` you can also select multiple cells by using ```Shift + Click``` in the margin.\n",
    "\n",
    "## Edit Mode\n",
    "\n",
    "In edit mode we have the following shortcuts\n",
    "\n",
    "\n",
    "- ```Ctrl + Enter``` will run the current cell.\n",
    "- ```Shift + Enter``` will run the current cell and move to the next cell. If there is no next cell it will create a new one.\n",
    "- ```Alt + Enter```  will run the current cell and insert a new cell below\n",
    "- ```Ctrl + Shift +``` will split the active cell at the cursor\n",
    "\n",
    "## Right Mouse\n",
    "\n",
    "A right mouse click will also give a number of options and short cuts to use in edit mode. We can also show all the shortcuts by choosing `Help -> Show Keyboard Shortcuts` from the top menu.\n",
    "\n"
   ]
  },
  {
   "cell_type": "markdown",
   "id": "112bd7c7-e331-4069-b169-7af2cdfff411",
   "metadata": {},
   "source": [
    "## Settings Menu\n",
    "\n",
    "![settings](Settings.png)\n",
    "\n",
    "The settings menu has a number of toggles to make things easier when using the notebooks, it allows us to set themes which can change the colours and code syntax. \n",
    "\n",
    "I typically enable the \"Auto Close Brackets\" function, which will always create a matching close bracket when writing an open on in the code cells. It also works in markdown mode and will help you to not forget the matching brackets. \n",
    "\n"
   ]
  },
  {
   "cell_type": "markdown",
   "id": "a1579123-c860-4867-9306-85c2c9a723e7",
   "metadata": {},
   "source": [
    "# The Kernel\n",
    "\n",
    "![kernel.png](Kernel.png)\n",
    "\n",
    "\n",
    "When running the notebook we use a kernel (basically the version of anaconda we installed), it is possible to have multiple kernels but in our case we only have the one installed. \n",
    "\n",
    "The code runs from the top of the notebook in sequence, and sometimes some cells will get out of synch, or we may have missed one. In this case, we can use this menu to restart or re-run things. You will notice most of these are not bound to a keyboard shortcut as these processes could take time and you don't want to do this accedentally. "
   ]
  },
  {
   "cell_type": "markdown",
   "id": "e617255a-9650-4a39-b816-375115a623ad",
   "metadata": {},
   "source": [
    "## Python help\n",
    "\n",
    "There are a number of built in \"magic functions\" in Jupyter, one of the nicest ones when programming in python is getting access to the docstrings of a function or module so we can read it. We can do this by using the ? followed by the function we want to inspect."
   ]
  },
  {
   "cell_type": "code",
   "execution_count": 1,
   "id": "490473b3-6bfb-4830-a04e-07866720861d",
   "metadata": {},
   "outputs": [
    {
     "data": {
      "text/plain": [
       "\u001b[0;31mType:\u001b[0m        module\n",
       "\u001b[0;31mString form:\u001b[0m <module 'random' from '/Users/jmacey/.pyenv/versions/anaconda3-2024.02-1/lib/python3.11/random.py'>\n",
       "\u001b[0;31mFile:\u001b[0m        ~/.pyenv/versions/anaconda3-2024.02-1/lib/python3.11/random.py\n",
       "\u001b[0;31mDocstring:\u001b[0m  \n",
       "Random variable generators.\n",
       "\n",
       "    bytes\n",
       "    -----\n",
       "           uniform bytes (values between 0 and 255)\n",
       "\n",
       "    integers\n",
       "    --------\n",
       "           uniform within range\n",
       "\n",
       "    sequences\n",
       "    ---------\n",
       "           pick random element\n",
       "           pick random sample\n",
       "           pick weighted random sample\n",
       "           generate random permutation\n",
       "\n",
       "    distributions on the real line:\n",
       "    ------------------------------\n",
       "           uniform\n",
       "           triangular\n",
       "           normal (Gaussian)\n",
       "           lognormal\n",
       "           negative exponential\n",
       "           gamma\n",
       "           beta\n",
       "           pareto\n",
       "           Weibull\n",
       "\n",
       "    distributions on the circle (angles 0 to 2pi)\n",
       "    ---------------------------------------------\n",
       "           circular uniform\n",
       "           von Mises\n",
       "\n",
       "General notes on the underlying Mersenne Twister core generator:\n",
       "\n",
       "* The period is 2**19937-1.\n",
       "* It is one of the most extensively tested generators in existence.\n",
       "* The random() method is implemented in C, executes in a single Python step,\n",
       "  and is, therefore, threadsafe."
      ]
     },
     "metadata": {},
     "output_type": "display_data"
    }
   ],
   "source": [
    "import random\n",
    "?random"
   ]
  },
  {
   "cell_type": "markdown",
   "id": "c4220ca4-618a-46b6-a8ce-4cde2cdbff8e",
   "metadata": {},
   "source": [
    "For specific functions we do the following"
   ]
  },
  {
   "cell_type": "code",
   "execution_count": 2,
   "id": "c2eb2d52-f250-494a-be7a-b014e5a157b9",
   "metadata": {},
   "outputs": [
    {
     "data": {
      "text/plain": [
       "\u001b[0;31mSignature:\u001b[0m \u001b[0mrandom\u001b[0m\u001b[0;34m.\u001b[0m\u001b[0mrandint\u001b[0m\u001b[0;34m(\u001b[0m\u001b[0ma\u001b[0m\u001b[0;34m,\u001b[0m \u001b[0mb\u001b[0m\u001b[0;34m)\u001b[0m\u001b[0;34m\u001b[0m\u001b[0;34m\u001b[0m\u001b[0m\n",
       "\u001b[0;31mDocstring:\u001b[0m\n",
       "Return random integer in range [a, b], including both end points.\n",
       "        \n",
       "\u001b[0;31mFile:\u001b[0m      ~/.pyenv/versions/anaconda3-2024.02-1/lib/python3.11/random.py\n",
       "\u001b[0;31mType:\u001b[0m      method"
      ]
     },
     "metadata": {},
     "output_type": "display_data"
    }
   ],
   "source": [
    "?random.randint\n"
   ]
  },
  {
   "cell_type": "markdown",
   "id": "e1e28dfb-0f20-4738-8f2a-de6aaf7feed9",
   "metadata": {},
   "source": [
    "# Running external commands\n",
    "\n",
    "We can use the `!` to run external commands. For the command to run we need to have it in the system path so not all things will run. For example to see what directory we are in we can use !pwd in a code cell."
   ]
  },
  {
   "cell_type": "code",
   "execution_count": 3,
   "id": "a8f0de53-6ff6-4927-bbb7-c7bfccbe0df1",
   "metadata": {},
   "outputs": [
    {
     "name": "stdout",
     "output_type": "stream",
     "text": [
      "/Volumes/teaching/Code/SEForMedia/JupyterCheatSheet\n"
     ]
    }
   ],
   "source": [
    "!pwd"
   ]
  },
  {
   "cell_type": "markdown",
   "id": "ae3b8770-6da8-42b2-8055-ebc9316d3adf",
   "metadata": {},
   "source": [
    "This can be useful when we need to create folders or run commands such as curl to download data etc. Note that this is used a lot but does rely on the system setup on the local machine so it may not always transfer to other operating systems or machines. \n",
    "\n",
    "## %run\n",
    "\n",
    "An alternative to the ! syntax is the IPython \"magic command\" %run this allows us to run external scripts directly from the code shell."
   ]
  },
  {
   "cell_type": "code",
   "execution_count": 4,
   "id": "57596beb-3f8a-4999-9e2c-406d1a2fb437",
   "metadata": {},
   "outputs": [
    {
     "name": "stdout",
     "output_type": "stream",
     "text": [
      "This is an external python file\n",
      "I am going to run some code from here\n"
     ]
    },
    {
     "data": {
      "image/png": "[encoded data removed]",
      "text/plain": [
       "<Figure size 640x480 with 1 Axes>"
      ]
     },
     "metadata": {},
     "output_type": "display_data"
    }
   ],
   "source": [
    "%run hello_jupyter.py"
   ]
  },
  {
   "cell_type": "markdown",
   "id": "793701ad-0702-4855-97e8-e5199c24991e",
   "metadata": {},
   "source": [
    "The %run command will also work with other notebooks, however the code executes  in the current namespace, which is different from importing a Python module.\n",
    "\n",
    "## %load\n",
    "\n",
    "We can load the contents of a python file into a notebook using the %load method. This is useful for adding code from external files as you can see it will inline the contents of the file directly into the notebook."
   ]
  },
  {
   "cell_type": "code",
   "execution_count": 5,
   "id": "2d53fd64-28bf-4e85-ba48-22efe63e9813",
   "metadata": {},
   "outputs": [],
   "source": [
    "# %load Vec3.py\n",
    "class Vec3 :\n",
    "    def __init__(self, x, y, z) :\n",
    "        self.x = x\n",
    "        self.y = y\n",
    "        self.z = z\n",
    "\n",
    "    def __add__(self, other) :\n",
    "        return Vec3(self.x + other.x, self.y + other.y, self.z + other.z)\n",
    "    \n",
    "\n",
    "    def __sub__(self, other) :\n",
    "        return Vec3(self.x - other.x, self.y - other.y, self.z - other.z)\n",
    "    \n",
    "    def __str__(self):\n",
    "        return f\"({self.x},{self.y},{self.z})\"\n",
    "    def __repr__(self):\n",
    "        return f\"Vec3({self.x},{self.y},{self.z})\""
   ]
  },
  {
   "cell_type": "code",
   "execution_count": 6,
   "id": "844dd5e0-86b1-4ba5-8a1e-5f339cd7ef58",
   "metadata": {},
   "outputs": [
    {
     "name": "stdout",
     "output_type": "stream",
     "text": [
      "(2,3,4)\n"
     ]
    }
   ],
   "source": [
    "a=Vec3(2,3,4)\n",
    "print(a)"
   ]
  },
  {
   "cell_type": "markdown",
   "id": "529c20ea-ced0-4172-bedd-c8e8697af494",
   "metadata": {},
   "source": [
    "## %who\n",
    "\n",
    "This is useful as it prints all the variables in the current scope. If we are having issues with things not being defined, we can look at this to help debug."
   ]
  },
  {
   "cell_type": "code",
   "execution_count": 7,
   "id": "475d5e73-d76a-4154-b69a-dcfe70d516e0",
   "metadata": {},
   "outputs": [
    {
     "name": "stdout",
     "output_type": "stream",
     "text": [
      "Vec3\t a\t np\t plt\t random\t x\t y\t \n"
     ]
    }
   ],
   "source": [
    "%who"
   ]
  },
  {
   "cell_type": "markdown",
   "id": "849ed253-7e31-4a27-a937-a08fb45f421f",
   "metadata": {},
   "source": [
    "## %time and %timeit\n",
    "\n",
    "These functions allow us to time code executions, this can be useful when we need to determine what is slowing things down in our code. "
   ]
  },
  {
   "cell_type": "code",
   "execution_count": 8,
   "id": "8c9b806b-347c-4fca-b0a3-bb6572d14e56",
   "metadata": {},
   "outputs": [
    {
     "name": "stdout",
     "output_type": "stream",
     "text": [
      "CPU times: user 3 µs, sys: 1e+03 ns, total: 4 µs\n",
      "Wall time: 8.11 µs\n"
     ]
    }
   ],
   "source": [
    "%time\n",
    "import time\n",
    "for _ in range(1000):\n",
    "    time.sleep(0.01) # sleep for 0.01 seconds"
   ]
  },
  {
   "cell_type": "markdown",
   "id": "c9d3514f-f93f-4b56-b59e-642c02736c85",
   "metadata": {},
   "source": [
    "`%timeit` uses the [timeit](https://docs.python.org/3/library/timeit.html) module from python to run a function multiple times and determine the average run time. "
   ]
  },
  {
   "cell_type": "code",
   "execution_count": 9,
   "id": "54e23e45-4ca1-4788-a7d2-2410c589538f",
   "metadata": {},
   "outputs": [
    {
     "name": "stdout",
     "output_type": "stream",
     "text": [
      "1.36 µs ± 3.69 ns per loop (mean ± std. dev. of 7 runs, 1,000,000 loops each)\n"
     ]
    }
   ],
   "source": [
    "import numpy as np\n",
    "%timeit np.random.uniform(size=100)"
   ]
  },
  {
   "cell_type": "code",
   "execution_count": 10,
   "id": "fc35efe0-cee0-4915-aa28-cb040243264e",
   "metadata": {},
   "outputs": [
    {
     "data": {
      "text/plain": [
       "(array([5., 5., 5., 5., 4., 5., 5., 5., 5., 5.]),\n",
       " array([0.  , 0.05, 0.1 , 0.15, 0.2 , 0.25, 0.3 , 0.35, 0.4 , 0.45, 0.5 ]),\n",
       " <BarContainer object of 10 artists>)"
      ]
     },
     "execution_count": 10,
     "metadata": {},
     "output_type": "execute_result"
    },
    {
     "data": {
      "image/png": "[encoded data removed]",
      "text/plain": [
       "<Figure size 640x480 with 1 Axes>"
      ]
     },
     "metadata": {},
     "output_type": "display_data"
    }
   ],
   "source": [
    "%matplotlib inline\n",
    "import numpy as np\n",
    "import matplotlib.pyplot as plt\n",
    "\n",
    "# create a sine wave and plot\n",
    "x = np.linspace(0, 0.5, 49)\n",
    "y = np.sin(x)\n",
    "plt.hist(x)\n"
   ]
  },
  {
   "cell_type": "markdown",
   "id": "c71b9eeb-12df-4667-a1e6-1a22433c53f6",
   "metadata": {},
   "source": [
    "You will notice that the data array has been printed as well as the object name. We can supress this by using a ; at the end of the function \n"
   ]
  },
  {
   "cell_type": "code",
   "execution_count": 11,
   "id": "7f5ccd44-4df7-4c22-bc58-15bb18982a75",
   "metadata": {},
   "outputs": [
    {
     "data": {
      "image/png": "[encoded data removed]",
      "text/plain": [
       "<Figure size 640x480 with 1 Axes>"
      ]
     },
     "metadata": {},
     "output_type": "display_data"
    }
   ],
   "source": [
    "%matplotlib inline\n",
    "import numpy as np\n",
    "import matplotlib.pyplot as plt\n",
    "\n",
    "# create a sine wave and plot\n",
    "x = np.linspace(0, 0.5, 49)\n",
    "y = np.sin(x)\n",
    "plt.hist(x);\n"
   ]
  },
  {
   "cell_type": "markdown",
   "id": "598719e5-81b5-4bd9-b63b-1360dcda067f",
   "metadata": {},
   "source": [
    "## %%HTML \n",
    "\n",
    "It is possible to put direct HTML code in a cell using the %%HTML tag, this will be rendered as normal html. It is also possible to put HTML directly in the markdown\n",
    "\n",
    "<table>\n",
    "    <tr>\n",
    "        <th>Digit</th>\n",
    "        <th>Text</th>\n",
    "    </tr>\n",
    "    <tr>\n",
    "        <td>1</td>\n",
    "        <td>one</td>\n",
    "    </tr>\n",
    "    <tr>\n",
    "        <td>2</td>\n",
    "        <td>two</td>\n",
    "    </tr>\n",
    "</table>\n",
    "\n"
   ]
  },
  {
   "cell_type": "code",
   "execution_count": 12,
   "id": "ab49b82a-80fb-40b8-af26-008d49816cf0",
   "metadata": {},
   "outputs": [
    {
     "data": {
      "text/html": [
       "<table>\n",
       "    <tr>\n",
       "        <th>Digit</th>\n",
       "        <th>Text</th>\n",
       "    </tr>\n",
       "    <tr>\n",
       "        <td>1</td>\n",
       "        <td>one</td>\n",
       "    </tr>\n",
       "    <tr>\n",
       "        <td>2</td>\n",
       "        <td>two</td>\n",
       "    </tr>\n",
       "</table>\n"
      ],
      "text/plain": [
       "<IPython.core.display.HTML object>"
      ]
     },
     "metadata": {},
     "output_type": "display_data"
    }
   ],
   "source": [
    "%%HTML\n",
    "<table>\n",
    "    <tr>\n",
    "        <th>Digit</th>\n",
    "        <th>Text</th>\n",
    "    </tr>\n",
    "    <tr>\n",
    "        <td>1</td>\n",
    "        <td>one</td>\n",
    "    </tr>\n",
    "    <tr>\n",
    "        <td>2</td>\n",
    "        <td>two</td>\n",
    "    </tr>\n",
    "</table>"
   ]
  },
  {
   "cell_type": "markdown",
   "id": "3bcad35f-5901-4e1e-be2c-fdf35ae058df",
   "metadata": {},
   "source": [
    "## LaTex\n",
    "\n",
    "LaTex is a powerful text processing language, especially useful for writing [mathematics](https://en.wikibooks.org/wiki/LaTeX/Mathematics). We can use this directly in our markdown files as follows\n",
    "\n",
    "```\n",
    "$$ L_{\\text{o}}(\\mathbf x,\\, \\omega_{\\text{o}},\\, \\lambda,\\, t) \\,=\\, $$\n",
    "$$L_e(\\mathbf x,\\, \\omega_{\\text{o}},\\, \\lambda,\\, t) \\ +\\, \\int_\\Omega f_r(\\mathbf x,\\, \\omega_{\\text{i}},\\, \\omega_{\\text{o}},\\, \\lambda,\\, t)\\, L_{\\text{i}}(\\mathbf x,\\, \\omega_{\\text{i}},\\, \\lambda,\\, t)\\, (\\omega_{\\text{i}}\\,\\cdot\\,\\mathbf n)\\, \\operatorname d \\omega_{\\text{i}} $$\n",
    "```\n",
    "\n",
    "results in \n",
    "\n",
    "$$ L_{\\text{o}}(\\mathbf x,\\, \\omega_{\\text{o}},\\, \\lambda,\\, t) \\,=\\, $$\n",
    "$$L_e(\\mathbf x,\\, \\omega_{\\text{o}},\\, \\lambda,\\, t) \\ +\\, \\int_\\Omega f_r(\\mathbf x,\\, \\omega_{\\text{i}},\\, \\omega_{\\text{o}},\\, \\lambda,\\, t)\\, L_{\\text{i}}(\\mathbf x,\\, \\omega_{\\text{i}},\\, \\lambda,\\, t)\\, (\\omega_{\\text{i}}\\,\\cdot\\,\\mathbf n)\\, \\operatorname d \\omega_{\\text{i}} $$"
   ]
  },
  {
   "cell_type": "code",
   "execution_count": null,
   "id": "679d8f7f-79a9-41cb-866a-660a9175e009",
   "metadata": {},
   "outputs": [],
   "source": []
  }
 ],
 "metadata": {
  "kernelspec": {
   "display_name": "Python 3 (ipykernel)",
   "language": "python",
   "name": "python3"
  },
  "language_info": {
   "codemirror_mode": {
    "name": "ipython",
    "version": 3
   },
   "file_extension": ".py",
   "mimetype": "text/x-python",
   "name": "python",
   "nbconvert_exporter": "python",
   "pygments_lexer": "ipython3",
   "version": "3.11.7"
  }
 },
 "nbformat": 4,
 "nbformat_minor": 5
}
