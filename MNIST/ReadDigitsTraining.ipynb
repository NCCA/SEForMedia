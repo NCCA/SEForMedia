{
 "cells": [
  {
   "cell_type": "markdown",
   "metadata": {},
   "source": [
    "# Digits\n",
    "\n",
    "In this notebook we are going to train a neural network to recognize handwritten digits. This is the  \"Hello World\" of deep learning: training a deep learning model to correctly classify hand-written digits.\n",
    "\n",
    "In the previous [notebook](TheMNISTDataSet.ipynb) we downloaded the MNIST dataset, which is a dataset of 60,000 28x28 grayscale images of the 10 digits, along with a test set of 10,000 images.  We will re-use this data (downloaded either to your local hard drive or /transfer) to train a neural network to recognize the digits.\n",
    "\n",
    "We will start by importing the necessary libraries, including our Utils module. "
   ]
  },
  {
   "cell_type": "code",
   "execution_count": 15,
   "metadata": {},
   "outputs": [
    {
     "name": "stdout",
     "output_type": "stream",
     "text": [
      "Utils.in_lab()=False\n"
     ]
    }
   ],
   "source": [
    "import matplotlib.pyplot as plt\n",
    "import numpy as np\n",
    "import pathlib\n",
    "import struct\n",
    "import sys\n",
    "import torch\n",
    "import torch.nn as nn\n",
    "from torch.optim import Adam\n",
    "# Visualization tools\n",
    "import torchvision\n",
    "import torchvision.transforms.v2 as transforms\n",
    "import torchvision.transforms.functional as F\n",
    "\n",
    "sys.path.append(\"../\")\n",
    "import Utils\n",
    "\n",
    "print(f\"{Utils.in_lab()=}\")"
   ]
  },
  {
   "cell_type": "markdown",
   "metadata": {},
   "source": [
    "## GPU Support\n",
    "\n",
    "In this notebook we will use the GPU to train our model, we can use the function from our Utils module to check if the GPU is available and set this as the device to use for our data. "
   ]
  },
  {
   "cell_type": "code",
   "execution_count": 2,
   "metadata": {},
   "outputs": [
    {
     "name": "stdout",
     "output_type": "stream",
     "text": [
      "mps\n"
     ]
    }
   ],
   "source": [
    "device = Utils.get_device()\n",
    "print(device)"
   ]
  },
  {
   "cell_type": "markdown",
   "metadata": {},
   "source": [
    "## Image classification\n",
    "\n",
    "The approach we are going to take with this example is to load a set of know images and their labels, and train a neural network to learn the relationship between the images and their labels. \n",
    "\n",
    "We will use a neural network and a trial and error system to begin to recognize the patterns in the images. The images are small (28x28 pixels) and the neural network will learn to recognize the patterns in the images that are associated with the digits.\n",
    "\n",
    "We have a set of 60,000 images to train the network and a separate set of 10,000 images to test the network and on each step of the training process we will check the accuracy of the network on the test set.\n",
    "\n",
    "In the previous notebook we created two functions for loading the data and labels so we will use these functions to load the data and labels for the training and test sets."
   ]
  },
  {
   "cell_type": "code",
   "execution_count": 4,
   "metadata": {},
   "outputs": [],
   "source": [
    "def load_mnist_labels(filename: str) -> np.ndarray:\n",
    "    with open(filename, \"rb\") as f:\n",
    "        magic, num = struct.unpack(\">II\", f.read(8))\n",
    "        labels = np.fromfile(f, dtype=np.uint8)\n",
    "        if len(labels) != num:\n",
    "            raise ValueError(f\"Expected {num} labels, but got {len(labels)}\")\n",
    "    return labels\n",
    "\n",
    "def load_mnist_images(filename: str) -> np.ndarray:\n",
    "    with open(filename, \"rb\") as f:\n",
    "        magic, num, rows, cols = struct.unpack(\">IIII\", f.read(16))\n",
    "        images = np.fromfile(f, dtype=np.uint8).reshape(num, rows, cols)\n",
    "        if len(images) != num:\n",
    "            raise ValueError(f\"Expected {num} images, but got {len(images)}\")\n",
    "    return images\n"
   ]
  },
  {
   "cell_type": "markdown",
   "metadata": {},
   "source": []
  },
  {
   "cell_type": "code",
   "execution_count": 5,
   "metadata": {},
   "outputs": [
    {
     "name": "stdout",
     "output_type": "stream",
     "text": [
      "60000 10000\n",
      "5 7\n"
     ]
    }
   ],
   "source": [
    "DATASET_LOCATION = \"\"\n",
    "if Utils.in_lab():\n",
    "    DATASET_LOCATION = \"/transfer/MNIST/\"\n",
    "else:\n",
    "    DATASET_LOCATION = \"./MNIST/\"\n",
    "\n",
    "train_labels = load_mnist_labels(DATASET_LOCATION + \"train-labels-idx1-ubyte\")\n",
    "test_labels = load_mnist_labels(DATASET_LOCATION + \"t10k-labels-idx1-ubyte\")\n",
    "\n",
    "print(len(train_labels), len(test_labels))\n",
    "print(train_labels[0], test_labels[0])\n",
    "\n",
    "# We can now load the images from both the datasets.\n",
    "train_images = load_mnist_images(DATASET_LOCATION + \"train-images-idx3-ubyte\")\n",
    "test_images = load_mnist_images(DATASET_LOCATION + \"t10k-images-idx3-ubyte\")"
   ]
  },
  {
   "cell_type": "markdown",
   "metadata": {},
   "source": [
    "To see the images we can define a simple function to display the images. We will use the matplotlib library to display the images."
   ]
  },
  {
   "cell_type": "code",
   "execution_count": 13,
   "metadata": {},
   "outputs": [
    {
     "data": {
      "image/png": "[encoded data removed]",
      "text/plain": [
       "<Figure size 100x100 with 1 Axes>"
      ]
     },
     "metadata": {},
     "output_type": "display_data"
    },
    {
     "name": "stdout",
     "output_type": "stream",
     "text": [
      "<class 'numpy.ndarray'>\n",
      "(28, 28)\n",
      "uint8\n"
     ]
    }
   ],
   "source": [
    "def display_image(image: np.array, label: str) -> None:\n",
    "    plt.figure(figsize=(1, 1))\n",
    "    plt.title(f\"Label : {label}\")\n",
    "    plt.imshow(image, cmap=\"gray\")\n",
    "    plt.axis(\"off\")\n",
    "    plt.show()\n",
    "\n",
    "\n",
    "# We can now display the first image from the training dataset.\n",
    "\n",
    "display_image(train_images[0], train_labels[0])\n",
    "print(type(train_images[0]))\n",
    "print(train_images[0].shape)\n",
    "print(train_images[0].dtype)"
   ]
  },
  {
   "cell_type": "markdown",
   "metadata": {},
   "source": [
    "If we look at the data it is stored in a numpy array of 28,28 and a single unsigned char data type. We need to transform this data into the correct type for machine learning. In particular we need to convert the data into a Tensor of type float32, then we need to batch the data into a DataLoader.\n",
    "\n",
    "We can use the torchvision library to transform our data as follows."
   ]
  },
  {
   "cell_type": "code",
   "execution_count": 21,
   "metadata": {},
   "outputs": [
    {
     "name": "stdout",
     "output_type": "stream",
     "text": [
      "torch.Size([1, 28, 28])\n",
      "torch.float32\n",
      "tensor(0.) tensor(1.)\n",
      "cpu\n"
     ]
    }
   ],
   "source": [
    "\n",
    "trans = transforms.Compose([transforms.ToImage(), transforms.ToDtype(torch.float32, scale=True)])\n",
    "tensor=trans(train_images[0])\n",
    "print(tensor.shape)\n",
    "print(tensor.dtype)\n",
    "print(tensor.min(), tensor.max())\n",
    "print(tensor.device)"
   ]
  },
  {
   "cell_type": "markdown",
   "metadata": {},
   "source": [
    "By default the data for this tensor is processed on the CPU, we can convert "
   ]
  }
 ],
 "metadata": {
  "kernelspec": {
   "display_name": "base",
   "language": "python",
   "name": "python3"
  },
  "language_info": {
   "codemirror_mode": {
    "name": "ipython",
    "version": 3
   },
   "file_extension": ".py",
   "mimetype": "text/x-python",
   "name": "python",
   "nbconvert_exporter": "python",
   "pygments_lexer": "ipython3",
   "version": "3.11.7"
  }
 },
 "nbformat": 4,
 "nbformat_minor": 2
}
