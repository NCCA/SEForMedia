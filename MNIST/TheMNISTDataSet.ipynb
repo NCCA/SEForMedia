{
 "cells": [
  {
   "cell_type": "markdown",
   "metadata": {},
   "source": [
    "## The MNIST Dataset\n",
    "\n",
    "The MNIST dataset (Modified National Institute of Standards and Technology) is one of the most popular datasets used in machine learning and computer vision. It consists of a large collection of grey scale images of handwritten digits (0–9), which is widely used for training and testing in image processing and classification tasks.\n",
    "\n",
    "The dataset contains 60,000 training images and 10,000 testing images. Each image is a 28x28 pixel square (784 pixels in total) with pixel values ranging from 0 to 255. The dataset is divided into 10 classes, one for each digit.\n",
    "\n",
    "It is so common that most machine learning libraries provide a built-in function to download and load the dataset. For example the torchvision library in PyTorch provides a built-in function to download and load the MNIST dataset.\n",
    "\n",
    "However in this notebook we are going to download and process the images from source as this will provide a deeper understating of data sets in general and how they are processed in machine learning.\n",
    "\n",
    "## Setup\n",
    "\n",
    "To start with we are going to import the libraries we need including our Utils library which contains some helper functions to download datasets. We will also see if we are in the lab and if so we will download the data to the local file system (/transfer). If we are not in the lab we will download the data to the current working directory.\n",
    "\n",
    "\n"
   ]
  },
  {
   "cell_type": "code",
   "execution_count": 16,
   "metadata": {},
   "outputs": [
    {
     "name": "stdout",
     "output_type": "stream",
     "text": [
      "Utils.in_lab()=False\n"
     ]
    }
   ],
   "source": [
    "import matplotlib.pyplot as plt\n",
    "import numpy as np\n",
    "import pathlib\n",
    "import struct\n",
    "import sys\n",
    "\n",
    "\n",
    "sys.path.append(\"../\")\n",
    "import Utils\n",
    "\n",
    "print(f\"{Utils.in_lab()=}\")"
   ]
  },
  {
   "cell_type": "markdown",
   "metadata": {},
   "source": [
    "We will define a download location for the data, then use the download function to download it all. The data is split into training and testing data so we will download both. In this case as the data is self contained in a single file we will download it all into a single folder. If we we were downloading a dataset that was split into multiple files we would download each file into a separate folder."
   ]
  },
  {
   "cell_type": "code",
   "execution_count": 5,
   "metadata": {},
   "outputs": [],
   "source": [
    "DATASET_LOCATION = \"\"\n",
    "if Utils.in_lab():\n",
    "    DATASET_LOCATION = \"/transfer/MNIST/\"\n",
    "else:\n",
    "    DATASET_LOCATION = \"./MNIST/\"\n",
    "# now we will create the folder if it does not exist\n",
    "pathlib.Path(DATASET_LOCATION).mkdir(parents=True, exist_ok=True)"
   ]
  },
  {
   "cell_type": "markdown",
   "metadata": {},
   "source": [
    "We can use the [pathlib](https://docs.python.org/3/library/pathlib.html) module to do most of the work we need for file processing. In the case above we will create a new folder in the location we defined. If the folder already exists we will ignore it. \n",
    "\n",
    "Next we are going to download the data, however we only really want to download it if it is not already present. We can use the pathlib module to check if the file exists and only download it if it does not. The files we are looking for are :\n",
    "\n",
    "    - train-images-idx3-ubyte.gz:  training set images \n",
    "    - train-labels-idx1-ubyte.gz:  training set labels \n",
    "    - t10k-images-idx3-ubyte.gz:   test set images \n",
    "    - t10k-labels-idx1-ubyte.gz:   test set labels \n",
    "\n",
    "We will download them from the google mirror outlined here https://github.com/cvdfoundation/mnist"
   ]
  },
  {
   "cell_type": "code",
   "execution_count": 12,
   "metadata": {},
   "outputs": [
    {
     "name": "stdout",
     "output_type": "stream",
     "text": [
      "Downloading train-images-idx3-ubyte.gz\n"
     ]
    },
    {
     "name": "stderr",
     "output_type": "stream",
     "text": [
      "/Users/jmacey/.pyenv/versions/anaconda3-2024.02-1/lib/python3.11/site-packages/urllib3/connectionpool.py:1100: InsecureRequestWarning: Unverified HTTPS request is being made to host 'storage.googleapis.com'. Adding certificate verification is strongly advised. See: https://urllib3.readthedocs.io/en/latest/advanced-usage.html#tls-warnings\n",
      "  warnings.warn(\n",
      "./MNIST/train-images-idx3-ubyte.gz: 100%|██████████| 9.45M/9.45M [00:03<00:00, 2.69MiB/s]\n",
      "/Users/jmacey/.pyenv/versions/anaconda3-2024.02-1/lib/python3.11/site-packages/urllib3/connectionpool.py:1100: InsecureRequestWarning: Unverified HTTPS request is being made to host 'storage.googleapis.com'. Adding certificate verification is strongly advised. See: https://urllib3.readthedocs.io/en/latest/advanced-usage.html#tls-warnings\n",
      "  warnings.warn(\n"
     ]
    },
    {
     "name": "stdout",
     "output_type": "stream",
     "text": [
      "Downloading train-labels-idx1-ubyte.gz\n"
     ]
    },
    {
     "name": "stderr",
     "output_type": "stream",
     "text": [
      "./MNIST/train-labels-idx1-ubyte.gz: 100%|██████████| 28.2k/28.2k [00:00<00:00, 877kiB/s]\n",
      "/Users/jmacey/.pyenv/versions/anaconda3-2024.02-1/lib/python3.11/site-packages/urllib3/connectionpool.py:1100: InsecureRequestWarning: Unverified HTTPS request is being made to host 'storage.googleapis.com'. Adding certificate verification is strongly advised. See: https://urllib3.readthedocs.io/en/latest/advanced-usage.html#tls-warnings\n",
      "  warnings.warn(\n"
     ]
    },
    {
     "name": "stdout",
     "output_type": "stream",
     "text": [
      "Downloading t10k-images-idx3-ubyte.gz\n"
     ]
    },
    {
     "name": "stderr",
     "output_type": "stream",
     "text": [
      "./MNIST/t10k-images-idx3-ubyte.gz: 100%|██████████| 1.57M/1.57M [00:00<00:00, 1.75MiB/s]\n",
      "/Users/jmacey/.pyenv/versions/anaconda3-2024.02-1/lib/python3.11/site-packages/urllib3/connectionpool.py:1100: InsecureRequestWarning: Unverified HTTPS request is being made to host 'storage.googleapis.com'. Adding certificate verification is strongly advised. See: https://urllib3.readthedocs.io/en/latest/advanced-usage.html#tls-warnings\n",
      "  warnings.warn(\n"
     ]
    },
    {
     "name": "stdout",
     "output_type": "stream",
     "text": [
      "Downloading t10k-labels-idx1-ubyte.gz\n"
     ]
    },
    {
     "name": "stderr",
     "output_type": "stream",
     "text": [
      "./MNIST/t10k-labels-idx1-ubyte.gz: 100%|██████████| 4.44k/4.44k [00:00<00:00, 3.30MiB/s]\n"
     ]
    }
   ],
   "source": [
    "files = [\n",
    "    \"train-images-idx3-ubyte.gz\",\n",
    "    \"train-labels-idx1-ubyte.gz\",\n",
    "    \"t10k-images-idx3-ubyte.gz\",\n",
    "    \"t10k-labels-idx1-ubyte.gz\",\n",
    "]\n",
    "URL = \"https://storage.googleapis.com/cvdf-datasets/mnist/\"\n",
    "\n",
    "\n",
    "for file in files:\n",
    "    if not pathlib.Path(DATASET_LOCATION + file).exists():\n",
    "        print(f\"Downloading {file}\")\n",
    "        Utils.download(f\"{URL}{file}\", DATASET_LOCATION + file)"
   ]
  },
  {
   "cell_type": "markdown",
   "metadata": {},
   "source": [
    "The downloaded files are compressed using gzip we need to uncompress them before we can use them. We can use the gzip module to do this."
   ]
  },
  {
   "cell_type": "code",
   "execution_count": 13,
   "metadata": {},
   "outputs": [
    {
     "name": "stdout",
     "output_type": "stream",
     "text": [
      "Unzipping train-images-idx3-ubyte.gz\n",
      "Unzipping train-labels-idx1-ubyte.gz\n",
      "Unzipping t10k-images-idx3-ubyte.gz\n",
      "Unzipping t10k-labels-idx1-ubyte.gz\n"
     ]
    }
   ],
   "source": [
    "import gzip\n",
    "\n",
    "for file in files:\n",
    "    if not pathlib.Path(DATASET_LOCATION + file[:-3]).exists():\n",
    "        print(f\"Unzipping {file}\")\n",
    "        with gzip.open(DATASET_LOCATION + file, \"rb\") as f_in:\n",
    "            with open(DATASET_LOCATION + file[:-3], \"wb\") as f_out:\n",
    "                f_out.write(f_in.read())"
   ]
  },
  {
   "cell_type": "markdown",
   "metadata": {},
   "source": [
    "## Data Format\n",
    "\n",
    "Now we have downloaded the data we need to understand the format of the data. The data is stored in a binary format which is not human readable. The data is stored in a format called IDX which is a simple format for vectors and multidimensional matrices of various numerical types. The IDX file format is a simple format for vectors and multidimensional matrices of various numerical types. The basic format is\n",
    "\n",
    "    magic number\n",
    "    size in dimension 0\n",
    "    size in dimension 1\n",
    "    size in dimension 2\n",
    "    .....\n",
    "    size in dimension N\n",
    "    data\n",
    "\n",
    "In particular the MNIST is formatted as follows :\n",
    "\n",
    "```\n",
    "Labels \n",
    "[offset] [type]          [value]          [description]\n",
    "0000     32 bit integer  0x00000801(2049) magic number (MSB first)\n",
    "0004     32 bit integer  60000            number of items\n",
    "0008     unsigned byte   ??               label\n",
    "0009     unsigned byte   ??               label\n",
    "........\n",
    "xxxx     unsigned byte   ??               label\n",
    "\n",
    "The labels values are 0 to 9. \n",
    "```\n",
    "\n",
    "And for the images \n",
    "\n",
    "```\n",
    " IMAGE FILE FORMAT\n",
    "[offset] [type]          [value]          [description]\n",
    "0000     32 bit integer  0x00000803(2051) magic number\n",
    "0004     32 bit integer  60000            number of images\n",
    "0008     32 bit integer  28               number of rows\n",
    "0012     32 bit integer  28               number of columns\n",
    "0016     unsigned byte   ??               pixel\n",
    "0017     unsigned byte   ??               pixel\n",
    "........\n",
    "xxxx     unsigned byte   ??               pixel\n",
    "\n",
    "Pixels are organized row-wise. Pixel values are 0 to 255. 0 means background (white), 255 means foreground (black). \n",
    "```\n",
    "\n",
    "We can write python functions to extract the data and convert it into numpy arrays, one for the image data and one for the labels. We can then use the matplotlib library to display the images.\n",
    "\n",
    "## Loading Labels\n",
    "\n",
    "We are going to use the python ```struct``` module to read the header data then skip the header and read the rest of the data. We can then convert the data into a numpy array.\n",
    "\n",
    "Note there is minimal error checking in this code, it is assumed the data is in the correct format, however we should be able to check the size of the data and the number of labels to ensure they match.\n"
   ]
  },
  {
   "cell_type": "code",
   "execution_count": 14,
   "metadata": {},
   "outputs": [],
   "source": [
    "def load_mnist_labels(filename: str) -> np.ndarray:\n",
    "    with open(filename, \"rb\") as f:\n",
    "        magic, num = struct.unpack(\">II\", f.read(8))\n",
    "        labels = np.fromfile(f, dtype=np.uint8)\n",
    "        if len(labels) != num:\n",
    "            raise ValueError(f\"Expected {num} labels, but got {len(labels)}\")\n",
    "    return labels"
   ]
  },
  {
   "cell_type": "code",
   "execution_count": 19,
   "metadata": {},
   "outputs": [
    {
     "name": "stdout",
     "output_type": "stream",
     "text": [
      "60000 10000\n",
      "5 7\n"
     ]
    }
   ],
   "source": [
    "# We can now load the labels from both the datasets.\n",
    "\n",
    "train_labels = load_mnist_labels(DATASET_LOCATION + \"train-labels-idx1-ubyte\")\n",
    "test_labels = load_mnist_labels(DATASET_LOCATION + \"t10k-labels-idx1-ubyte\")\n",
    "\n",
    "print(len(train_labels), len(test_labels))\n",
    "print(train_labels[0], test_labels[0])"
   ]
  },
  {
   "cell_type": "markdown",
   "metadata": {},
   "source": [
    "For the images we can do the same thing, not the header is a little different."
   ]
  },
  {
   "cell_type": "code",
   "execution_count": 20,
   "metadata": {},
   "outputs": [],
   "source": [
    "def load_mnist_images(filename: str) -> np.ndarray:\n",
    "    with open(filename, \"rb\") as f:\n",
    "        magic, num, rows, cols = struct.unpack(\">IIII\", f.read(16))\n",
    "        images = np.fromfile(f, dtype=np.uint8).reshape(num, rows, cols)\n",
    "        if len(images) != num:\n",
    "            raise ValueError(f\"Expected {num} images, but got {len(images)}\")\n",
    "    return images\n",
    "\n",
    "\n",
    "# We can now load the images from both the datasets.\n",
    "train_images = load_mnist_images(DATASET_LOCATION + \"train-images-idx3-ubyte\")\n",
    "test_images = load_mnist_images(DATASET_LOCATION + \"t10k-images-idx3-ubyte\")"
   ]
  },
  {
   "cell_type": "markdown",
   "metadata": {},
   "source": [
    "Finally we can display the images using the matplotlib library."
   ]
  },
  {
   "cell_type": "code",
   "execution_count": 24,
   "metadata": {},
   "outputs": [
    {
     "data": {
      "image/png": "[encoded data removed]",
      "text/plain": [
       "<Figure size 640x480 with 1 Axes>"
      ]
     },
     "metadata": {},
     "output_type": "display_data"
    },
    {
     "data": {
      "image/png": "[encoded data removed]",
      "text/plain": [
       "<Figure size 640x480 with 1 Axes>"
      ]
     },
     "metadata": {},
     "output_type": "display_data"
    }
   ],
   "source": [
    "def display_image(image: np.array, label: str) -> None:\n",
    "    plt.title(f\"Label : {label}\")\n",
    "    plt.imshow(image, cmap=\"gray\")\n",
    "    plt.show()\n",
    "\n",
    "\n",
    "# We can now display the first image from the training dataset.\n",
    "\n",
    "display_image(train_images[0], train_labels[0])\n",
    "display_image(test_images[0], test_labels[0])"
   ]
  },
  {
   "cell_type": "markdown",
   "metadata": {},
   "source": [
    "# Conclusions\n",
    "\n",
    "We will use this data again in another example when we actually train a model with it. As mentioned in the introduction the MNIST dataset can also be downloaded using the torchvision library in PyTorch.\n",
    "\n",
    "```python\n",
    "import torch\n",
    "from torchvision import datasets\n",
    "from torchvision.transforms import ToTensor\n",
    "\n",
    "# Download training data from open datasets.\n",
    "training_data = datasets.MNIST(\n",
    "    root=\"data\",\n",
    "    train=True,\n",
    "    download=True,\n",
    "    transform=ToTensor(),\n",
    ")\n",
    "```\n",
    "\n",
    "This will also convert the data to a tensor which is the format we need to use it in PyTorch."
   ]
  }
 ],
 "metadata": {
  "kernelspec": {
   "display_name": "base",
   "language": "python",
   "name": "python3"
  },
  "language_info": {
   "codemirror_mode": {
    "name": "ipython",
    "version": 3
   },
   "file_extension": ".py",
   "mimetype": "text/x-python",
   "name": "python",
   "nbconvert_exporter": "python",
   "pygments_lexer": "ipython3",
   "version": "3.11.7"
  }
 },
 "nbformat": 4,
 "nbformat_minor": 2
}
