{
 "cells": [
  {
   "cell_type": "markdown",
   "metadata": {},
   "source": [
    "# Lecture 3 Sequence, Selection, and Iteration\n",
    "\n",
    "In this lecture we are going to look at the three basic control structures in programming: sequence, selection, and iteration. We will also look at how to write functions in Python.\n",
    "\n",
    "## Sequences    \n",
    "\n",
    "As it's name suggests, a sequence is a series of steps that are executed in order. In Python, the sequence is the default control structure. When you write a series of statements in a Python script, they are executed in order from top to bottom.  This is also true when typing in the REPL. \n"
   ]
  },
  {
   "cell_type": "code",
   "execution_count": 1,
   "metadata": {},
   "outputs": [
    {
     "name": "stdout",
     "output_type": "stream",
     "text": [
      "Sequence i=1\n",
      "Sequence i=2\n",
      "Sequence i=3\n",
      "Sequence i=4\n"
     ]
    }
   ],
   "source": [
    "i = 1\n",
    "print(f\"Sequence {i=}\")\n",
    "i = i + 1\n",
    "print(f\"Sequence {i=}\")\n",
    "i += 1  # note this is the same as i=i+1\n",
    "print(f\"Sequence {i=}\")\n",
    "i += 1\n",
    "print(f\"Sequence {i=}\")"
   ]
  },
  {
   "cell_type": "markdown",
   "metadata": {},
   "source": [
    "## Let's make this more visual\n",
    "\n",
    "Python has a module called \"Turtle\" which allows for simple 2D drawing, if we use the turtle module in a stand alone script or the REPL it will open a window with a turtle that draws and exectes the commands. \n",
    "\n",
    "> Turtle graphics is a popular way for introducing programming to kids. It was part of the original Logo programming language developed by Wally Feurzeig, Seymour Papert and Cynthia Solomon in 1967.\n"
   ]
  },
  {
   "cell_type": "code",
   "execution_count": 2,
   "metadata": {},
   "outputs": [],
   "source": [
    "import turtle\n",
    "\n",
    "# create an instance of the turtle object and call it turtle\n",
    "turtle = turtle.Turtle()\n",
    "# now we set the shape (default is an arrow)\n",
    "turtle.shape(\"turtle\")\n",
    "# now we will run a sequence moving forward then turn left by 90 degrees\n",
    "turtle.forward(100)\n",
    "turtle.left(90)\n",
    "turtle.forward(100)\n",
    "turtle.left(90)\n",
    "turtle.forward(100)\n",
    "turtle.left(90)\n",
    "turtle.forward(100)"
   ]
  },
  {
   "cell_type": "markdown",
   "metadata": {},
   "source": [
    "If we wish to embed the turtle graphics in a Jupyter notebook we can use a different module called ipyturtle3. we need to run some command in the terminal to install the module and some jupyter extensions. \n",
    "\n",
    "\n",
    "```bash\n",
    "pip install ipyturtle3 \n",
    "```\n",
    "\n",
    "It can also be done inline using the special `!` command in a code cell as below. Note the ```-q``` flag is used to suppress the output of the command. \n"
   ]
  },
  {
   "cell_type": "code",
   "execution_count": 16,
   "metadata": {},
   "outputs": [],
   "source": [
    "!pip install ipyturtle3 -q\n",
    "from ipyturtle3 import Turtle"
   ]
  },
  {
   "cell_type": "markdown",
   "metadata": {},
   "source": [
    "We also need to do some extra work to create a canvas to draw on within the jupyter notebook as be default the turtle will draw on a new window, to inline we need to associate a canvas with the turtle so it can draw. This is show in the code below.\n"
   ]
  },
  {
   "cell_type": "code",
   "execution_count": 43,
   "metadata": {},
   "outputs": [
    {
     "data": {
      "application/vnd.jupyter.widget-view+json": {
       "model_id": "2f7b60b4c1344086b5c97b5ec5bb01dd",
       "version_major": 2,
       "version_minor": 0
      },
      "text/plain": [
       "Canvas(height=220, width=500)"
      ]
     },
     "metadata": {},
     "output_type": "display_data"
    }
   ],
   "source": [
    "import ipyturtle3 as turtle\n",
    "\n",
    "\n",
    "canvas = turtle.Canvas(width=500, height=220)\n",
    "display(canvas)\n",
    "screen = turtle.TurtleScreen(canvas)\n",
    "my_turtle = turtle.Turtle(screen)\n",
    "# now we will run a sequence moving forward then turn left by 90 degrees\n",
    "my_turtle.forward(100)\n",
    "my_turtle.left(90)\n",
    "my_turtle.forward(100)\n",
    "my_turtle.left(90)\n",
    "my_turtle.forward(100)\n",
    "my_turtle.left(90)\n",
    "my_turtle.forward(100)"
   ]
  },
  {
   "cell_type": "markdown",
   "metadata": {},
   "source": [
    "## Two Squares \n",
    "\n",
    "The following code generates two squares"
   ]
  },
  {
   "cell_type": "code",
   "execution_count": 39,
   "metadata": {},
   "outputs": [
    {
     "data": {
      "application/vnd.jupyter.widget-view+json": {
       "model_id": "4bf708c0b6924e658e04bcd7d9b64f02",
       "version_major": 2,
       "version_minor": 0
      },
      "text/plain": [
       "Canvas(height=250, width=500)"
      ]
     },
     "metadata": {},
     "output_type": "display_data"
    }
   ],
   "source": [
    "import ipyturtle3 as turtle\n",
    "\n",
    "canvas = turtle.Canvas(width=500, height=250)\n",
    "display(canvas)\n",
    "screen = turtle.TurtleScreen(canvas)\n",
    "my_turtle = turtle.Turtle(screen)\n",
    "\n",
    "# now we will run a sequence moving forward then turn left by 90 degrees\n",
    "my_turtle.penup()\n",
    "my_turtle.goto(-100, 0)\n",
    "my_turtle.shape(\"turtle\")\n",
    "my_turtle.pendown()\n",
    "my_turtle.forward(100)\n",
    "my_turtle.left(90)\n",
    "my_turtle.forward(100)\n",
    "my_turtle.left(90)\n",
    "my_turtle.forward(100)\n",
    "my_turtle.left(90)\n",
    "my_turtle.forward(100)\n",
    "\n",
    "my_turtle.penup()\n",
    "my_turtle.goto(100, 0)\n",
    "\n",
    "my_turtle.pendown()\n",
    "my_turtle.forward(100)\n",
    "my_turtle.left(90)\n",
    "my_turtle.forward(100)\n",
    "my_turtle.left(90)\n",
    "my_turtle.forward(100)\n",
    "my_turtle.left(90)\n",
    "my_turtle.forward(100)"
   ]
  },
  {
   "cell_type": "markdown",
   "metadata": {},
   "source": [
    "As you can see from the code block above, there is a lot of repitition in the code. Whilst this is not really an issue for small amounts of code, it can become a problem as the code base grows.\n",
    "\n",
    "This is where the idea of functions come into play, functions allow us to encapsulate a block of code that can be reused multiple times.\n",
    "\n",
    "## Functions\n",
    "\n",
    "A function is a block of code which only runs when it is called. It needs to be defined before it is called. You can pass data, known as parameters, into a function. A function can return data as a result. The syntax for defining a function in Python is as follows:\n",
    "\n",
    "```python\n",
    "def function_name(parameters):\n",
    "    # code block\n",
    "    return value\n",
    "```\n",
    "\n",
    "The `def` keyword is used to define a function. The function name is the name of the function. The parameters are the values that are passed into the function. The code block is the code that is executed when the function is called. The `return` keyword is used to return a value from the function.\n",
    "\n",
    "Not all functions require parameters, some functions require multiple parameters.\n",
    "\n",
    "Not all functions need to return a value, some functions are used to perform an action and do not need to return a value.\n",
    "\n",
    "|Component\t | Meaning |\n",
    "|------------|---------|\n",
    "|```def```\t| The keyword that informs Python that a function is being defined |\n",
    "| ```<function_name>``` |\tA valid Python identifier that names the function |\n",
    "| ```<parameters>``` |\tAn optional, comma-separated list of parameters that may be passed to the function |\n",
    "| ```:``` |\tPunctuation that denotes the end of the Python function header (the name and parameter list) |\n",
    "| ```<statement(s)>``` |\tA block of valid Python statements |\n",
    "\n",
    "When defining functions we need to indent the code block that makes up the function. This happens after the colon `:` at the end of the function definition. All code that is indented after the colon is part of the function. Care must be taken to ensure that the indentation is consistent throughout the function, and follows the [PE8 style guide](https://peps.python.org/pep-0008/#function-and-variable-names).\n",
    "\n",
    "In jupyter notebooks we can use the `def` keyword to define a function and then call the function in the same cell this will also be available in other cells in the notebook after it has been defined. The same is true for scripts and the REPL."
   ]
  },
  {
   "cell_type": "markdown",
   "metadata": {},
   "source": []
  }
 ],
 "metadata": {
  "kernelspec": {
   "display_name": "base",
   "language": "python",
   "name": "python3"
  },
  "language_info": {
   "codemirror_mode": {
    "name": "ipython",
    "version": 3
   },
   "file_extension": ".py",
   "mimetype": "text/x-python",
   "name": "python",
   "nbconvert_exporter": "python",
   "pygments_lexer": "ipython3",
   "version": "3.11.7"
  }
 },
 "nbformat": 4,
 "nbformat_minor": 2
}
