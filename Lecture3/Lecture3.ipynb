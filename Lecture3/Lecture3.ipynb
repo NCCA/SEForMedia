{
 "cells": [
  {
   "cell_type": "markdown",
   "metadata": {},
   "source": [
    "# Lecture 3 Sequence, Selection, and Iteration\n",
    "\n",
    "In this lecture we are going to look at the three basic control structures in programming: sequence, selection, and iteration. We will also look at how to write functions in Python.\n",
    "\n",
    "## Sequences    \n",
    "\n",
    "As it's name suggests, a sequence is a series of steps that are executed in order. In Python, the sequence is the default control structure. When you write a series of statements in a Python script, they are executed in order from top to bottom.  This is also true when typing in the REPL. \n"
   ]
  },
  {
   "cell_type": "code",
   "execution_count": 1,
   "metadata": {},
   "outputs": [
    {
     "name": "stdout",
     "output_type": "stream",
     "text": [
      "Sequence i=1\n",
      "Sequence i=2\n",
      "Sequence i=3\n",
      "Sequence i=4\n"
     ]
    }
   ],
   "source": [
    "i = 1\n",
    "print(f\"Sequence {i=}\")\n",
    "i = i + 1\n",
    "print(f\"Sequence {i=}\")\n",
    "i += 1  # note this is the same as i=i+1\n",
    "print(f\"Sequence {i=}\")\n",
    "i += 1\n",
    "print(f\"Sequence {i=}\")"
   ]
  },
  {
   "cell_type": "markdown",
   "metadata": {},
   "source": [
    "## Let's make this more visual\n",
    "\n",
    "Python has a module called \"Turtle\" which allows for simple 2D drawing, if we use the turtle module in a stand alone script or the REPL it will open a window with a turtle that draws and exectes the commands. \n",
    "\n",
    "> Turtle graphics is a popular way for introducing programming to kids. It was part of the original Logo programming language developed by Wally Feurzeig, Seymour Papert and Cynthia Solomon in 1967.\n"
   ]
  },
  {
   "cell_type": "code",
   "execution_count": 2,
   "metadata": {},
   "outputs": [],
   "source": [
    "import turtle\n",
    "\n",
    "# create an instance of the turtle object and call it turtle\n",
    "turtle = turtle.Turtle()\n",
    "# now we set the shape (default is an arrow)\n",
    "turtle.shape(\"turtle\")\n",
    "# now we will run a sequence moving forward then turn left by 90 degrees\n",
    "turtle.forward(100)\n",
    "turtle.left(90)\n",
    "turtle.forward(100)\n",
    "turtle.left(90)\n",
    "turtle.forward(100)\n",
    "turtle.left(90)\n",
    "turtle.forward(100)"
   ]
  },
  {
   "cell_type": "markdown",
   "metadata": {},
   "source": [
    "If we wish to embed the turtle graphics in a Jupyter notebook we can use a different module called ipyturtle3. we need to run some command in the terminal to install the module and some jupyter extensions. \n",
    "\n",
    "\n",
    "```bash\n",
    "pip install ipyturtle3 \n",
    "```\n",
    "\n",
    "It can also be done inline using the special `!` command in a code cell as below. Note the ```-q``` flag is used to suppress the output of the command. \n"
   ]
  },
  {
   "cell_type": "code",
   "execution_count": 3,
   "metadata": {},
   "outputs": [],
   "source": [
    "!pip install ipyturtle3 -q\n",
    "from ipyturtle3 import Turtle"
   ]
  },
  {
   "cell_type": "markdown",
   "metadata": {},
   "source": [
    "We also need to do some extra work to create a canvas to draw on within the jupyter notebook as be default the turtle will draw on a new window, to inline we need to associate a canvas with the turtle so it can draw. This is show in the code below.\n"
   ]
  },
  {
   "cell_type": "code",
   "execution_count": 4,
   "metadata": {},
   "outputs": [
    {
     "data": {
      "application/vnd.jupyter.widget-view+json": {
       "model_id": "aed7ec1c67dc4a7893c56b5c4cf11eac",
       "version_major": 2,
       "version_minor": 0
      },
      "text/plain": [
       "Canvas(height=220, width=500)"
      ]
     },
     "metadata": {},
     "output_type": "display_data"
    }
   ],
   "source": [
    "import ipyturtle3 as turtle\n",
    "\n",
    "canvas = turtle.Canvas(width=500, height=220)\n",
    "display(canvas)\n",
    "screen = turtle.TurtleScreen(canvas)\n",
    "my_turtle = turtle.Turtle(screen)\n",
    "# now we will run a sequence moving forward then turn left by 90 degrees\n",
    "my_turtle.forward(100)\n",
    "my_turtle.left(90)\n",
    "my_turtle.forward(100)\n",
    "my_turtle.left(90)\n",
    "my_turtle.forward(100)\n",
    "my_turtle.left(90)\n",
    "my_turtle.forward(100)"
   ]
  },
  {
   "cell_type": "markdown",
   "metadata": {},
   "source": [
    "## Two Squares \n",
    "\n",
    "The following code generates two squares"
   ]
  },
  {
   "cell_type": "code",
   "execution_count": 5,
   "metadata": {},
   "outputs": [
    {
     "data": {
      "application/vnd.jupyter.widget-view+json": {
       "model_id": "5e2fe52784c344d2a895514b51f6a68b",
       "version_major": 2,
       "version_minor": 0
      },
      "text/plain": [
       "Canvas(height=250, width=500)"
      ]
     },
     "metadata": {},
     "output_type": "display_data"
    }
   ],
   "source": [
    "import ipyturtle3 as turtle\n",
    "\n",
    "canvas = turtle.Canvas(width=500, height=250)\n",
    "display(canvas)\n",
    "screen = turtle.TurtleScreen(canvas)\n",
    "my_turtle = turtle.Turtle(screen)\n",
    "\n",
    "# now we will run a sequence moving forward then turn left by 90 degrees\n",
    "my_turtle.penup()\n",
    "my_turtle.goto(-100, 0)\n",
    "my_turtle.shape(\"turtle\")\n",
    "my_turtle.pendown()\n",
    "my_turtle.forward(100)\n",
    "my_turtle.left(90)\n",
    "my_turtle.forward(100)\n",
    "my_turtle.left(90)\n",
    "my_turtle.forward(100)\n",
    "my_turtle.left(90)\n",
    "my_turtle.forward(100)\n",
    "\n",
    "my_turtle.penup()\n",
    "my_turtle.goto(100, 0)\n",
    "\n",
    "my_turtle.pendown()\n",
    "my_turtle.forward(100)\n",
    "my_turtle.left(90)\n",
    "my_turtle.forward(100)\n",
    "my_turtle.left(90)\n",
    "my_turtle.forward(100)\n",
    "my_turtle.left(90)\n",
    "my_turtle.forward(100)"
   ]
  },
  {
   "cell_type": "markdown",
   "metadata": {},
   "source": [
    "As you can see from the code block above, there is a lot of repitition in the code. Whilst this is not really an issue for small amounts of code, it can become a problem as the code base grows.\n",
    "\n",
    "This is where the idea of functions come into play, functions allow us to encapsulate a block of code that can be reused multiple times.\n",
    "\n",
    "## Functions\n",
    "\n",
    "A function is a block of code which only runs when it is called. It needs to be defined before it is called. You can pass data, known as parameters, into a function. A function can return data as a result. The syntax for defining a function in Python is as follows:\n",
    "\n",
    "```python\n",
    "def function_name(parameters):\n",
    "    # code block\n",
    "    return value\n",
    "```\n",
    "\n",
    "The `def` keyword is used to define a function. The function name is the name of the function. The parameters are the values that are passed into the function. The code block is the code that is executed when the function is called. The `return` keyword is used to return a value from the function.\n",
    "\n",
    "Not all functions require parameters, some functions require multiple parameters.\n",
    "\n",
    "Not all functions need to return a value, some functions are used to perform an action and do not need to return a value.\n",
    "\n",
    "|Component\t | Meaning |\n",
    "|------------|---------|\n",
    "|```def```\t| The keyword that informs Python that a function is being defined |\n",
    "| ```<function_name>``` |\tA valid Python identifier that names the function |\n",
    "| ```<parameters>``` |\tAn optional, comma-separated list of parameters that may be passed to the function |\n",
    "| ```:``` |\tPunctuation that denotes the end of the Python function header (the name and parameter list) |\n",
    "| ```<statement(s)>``` |\tA block of valid Python statements |\n",
    "\n",
    "When defining functions we need to indent the code block that makes up the function. This happens after the colon `:` at the end of the function definition. All code that is indented after the colon is part of the function. Care must be taken to ensure that the indentation is consistent throughout the function, and follows the [PE8 style guide](https://peps.python.org/pep-0008/#function-and-variable-names).\n",
    "\n",
    "In jupyter notebooks we can use the `def` keyword to define a function and then call the function in the same cell this will also be available in other cells in the notebook after it has been defined. The same is true for scripts and the REPL.\n",
    "\n",
    "### [indentation](https://www.python.org/dev/peps/pep-0008/)\n",
    "\n",
    "- Python uses indentation to block code \n",
    "  - convention states we use 4 spaces for indentation (see PEP-8)\n",
    "- This is unusual as most programming languages use {}\n",
    "- This can lead to problem, especially when mixing tabs and spaces (python 3 doesn't allow this)\n",
    "- I will show different examples of this as we go \n",
    "- usually this will follow a statement and the ```:``` operator to indicate the start of the block\n",
    "\n",
    "## Example 1 a simple add function"
   ]
  },
  {
   "cell_type": "markdown",
   "metadata": {},
   "source": []
  },
  {
   "cell_type": "code",
   "execution_count": 6,
   "metadata": {},
   "outputs": [
    {
     "name": "stdout",
     "output_type": "stream",
     "text": [
      "c=3\n",
      "result='hello python'\n",
      "add(1.0,2)=3.0\n"
     ]
    }
   ],
   "source": [
    "#!/usr/bin/env python\n",
    "\n",
    "\n",
    "def add(a, b):\n",
    "    return a + b\n",
    "\n",
    "\n",
    "a = 1\n",
    "b = 2\n",
    "c = add(a, b)\n",
    "print(f\"{c=}\")\n",
    "str1 = \"hello\"\n",
    "str2 = \" python\"\n",
    "result = add(str1, str2)\n",
    "print(f\"{result=}\")\n",
    "\n",
    "print(f\"{add(1.0,2)=}\")"
   ]
  },
  {
   "cell_type": "markdown",
   "metadata": {},
   "source": [
    "You will note that the function add can take any type of input and return the result. This is because Python is a dynamically typed language. This means that the type of the variable is determined at runtime. This is different from statically typed languages like C++ or Java where the type of the variable is determined at compile time. This is a powerful feature of Python but can also lead to bugs if you are not careful. For example if you try to pass a string and a number to the add function it will throw an error."
   ]
  },
  {
   "cell_type": "code",
   "execution_count": 7,
   "metadata": {},
   "outputs": [
    {
     "ename": "TypeError",
     "evalue": "can only concatenate str (not \"int\") to str",
     "output_type": "error",
     "traceback": [
      "\u001b[0;31m---------------------------------------------------------------------------\u001b[0m",
      "\u001b[0;31mTypeError\u001b[0m                                 Traceback (most recent call last)",
      "Cell \u001b[0;32mIn[7], line 1\u001b[0m\n\u001b[0;32m----> 1\u001b[0m add(\u001b[38;5;124m\"\u001b[39m\u001b[38;5;124mhello\u001b[39m\u001b[38;5;124m\"\u001b[39m,\u001b[38;5;241m2\u001b[39m)\n",
      "Cell \u001b[0;32mIn[6], line 4\u001b[0m, in \u001b[0;36madd\u001b[0;34m(a, b)\u001b[0m\n\u001b[1;32m      3\u001b[0m \u001b[38;5;28;01mdef\u001b[39;00m \u001b[38;5;21madd\u001b[39m(a,b) :\n\u001b[0;32m----> 4\u001b[0m     \u001b[38;5;28;01mreturn\u001b[39;00m a\u001b[38;5;241m+\u001b[39mb\n",
      "\u001b[0;31mTypeError\u001b[0m: can only concatenate str (not \"int\") to str"
     ]
    }
   ],
   "source": [
    "add(\"hello\", 2)"
   ]
  },
  {
   "cell_type": "markdown",
   "metadata": {},
   "source": [
    "## Functions in practice \n",
    "\n",
    "A function needs to be declared before it is called however they can be placed in external files / modules (more on this  in a future lecture). Python 3.5 also added a feature called type hints which allows you to specify the type of the input and output of a function. This is not enforced by the interpreter but can be used by IDEs to provide better code completion and error checking.\n",
    "\n",
    "For example if we wished the ```add``` function to only use numbers we could use the following type hint.\n",
    "\n",
    "`\n"
   ]
  },
  {
   "cell_type": "code",
   "execution_count": null,
   "metadata": {},
   "outputs": [],
   "source": [
    "def add(a: int, b: int) -> int:\n",
    "    return a + b"
   ]
  },
  {
   "cell_type": "markdown",
   "metadata": {},
   "source": [
    "Whilst this does take more time type hints are part of modern python and should be used whenever possible.  There is a good [cheat sheet](https://mypy.readthedocs.io/en/stable/cheat_sheet_py3.html) for type hints on the mypy website."
   ]
  },
  {
   "cell_type": "markdown",
   "metadata": {},
   "source": [
    "## Let's design a function\n",
    "\n",
    "In one of the earlier examples we used the turtle to draw two squares, This is idea for a function so we can design one but what do we need?\n",
    "  - a [name](https://en.wikipedia.org/wiki/Naming_convention_%28programming%29 )\n",
    "  - useful parameters (and perhaps useful defaults)\n",
    "  - possible return values\n",
    "\n",
    "One of the things to consider when designing function is the problem domain, in this case drawing a square, what are the key components of a square?\n",
    "  - position\n",
    "  - size\n",
    "  - color\n",
    "\n",
    "Position / shape is a complex one, how do we define the position of a square?\n",
    "\n",
    "  1. Top (x,y) Bottom (x,y)\n",
    "  2. Start Pos (x,y) Width Height\n",
    "  3. Center (x,y) Width / Height\n",
    "\n",
    "Which one to choose is a matter of design (the hard part), it ays to be consistent with other functions etc. \n",
    "\n",
    "## "
   ]
  },
  {
   "cell_type": "code",
   "execution_count": null,
   "metadata": {},
   "outputs": [],
   "source": [
    "import ipyturtle3 as turtle\n",
    "from typing import Type\n",
    "\n",
    "\n",
    "def square(turtle: Type[turtle], x: float, y: float, width: float, height: float) -> None:\n",
    "    \"\"\"\n",
    "    Draws a square using the given turtle object.\n",
    "\n",
    "    Args:\n",
    "        turtle (Turtle): The turtle object used to draw the square.\n",
    "        x (float): The x-coordinate of the starting position.\n",
    "        y (float): The y-coordinate of the starting position.\n",
    "        width (float): The width of the square.\n",
    "        height (float): The height of the square.\n",
    "\n",
    "    Returns:\n",
    "        None\n",
    "    \"\"\"\n",
    "\n",
    "    turtle.penup()\n",
    "    turtle.goto(x, y)\n",
    "    turtle.pendown()\n",
    "    turtle.forward(width)\n",
    "    turtle.left(90)\n",
    "    turtle.forward(height)\n",
    "    turtle.left(90)\n",
    "    turtle.forward(width)\n",
    "    turtle.left(90)\n",
    "    turtle.forward(height)"
   ]
  },
  {
   "cell_type": "markdown",
   "metadata": {},
   "source": [
    "In the cell above we have defined the square function, it can now be called from our code below. It is important that the above cell has been run before the cell below."
   ]
  },
  {
   "cell_type": "code",
   "execution_count": null,
   "metadata": {},
   "outputs": [],
   "source": [
    "import ipyturtle3 as turtle\n",
    "\n",
    "canvas = turtle.Canvas(width=250, height=250)\n",
    "display(canvas)\n",
    "screen = turtle.TurtleScreen(canvas)\n",
    "my_turtle = turtle.Turtle(screen)\n",
    "square(my_turtle, 20, 20, 100, 100)"
   ]
  },
  {
   "cell_type": "markdown",
   "metadata": {},
   "source": [
    "You will now  notice if you hover over the square function you will see the signature of the function and the type hints. This is a useful feature of Jupyter notebooks and can be used to check the type hints of a function.\n",
    "\n",
    "This is generated from the [docstring](https://www.python.org/dev/peps/pep-0257/) which is a way of documenting your code and is very useful for others (and yourself) to understand what the function does. It helps to do this when you are designing the function as it helps to clarify what the function should do. AI-Tools are also very good at generating typehints and docstrings from code, however it is always best to write these yourself.\n",
    "\n",
    "## Functions in practice\n",
    "\n",
    "It is important to note that functions can be defined in any order in a script, however they must be defined before they are called. This is because Python is an interpreted language and reads the script from top to bottom. If a function is called before it is defined, Python will throw an error.\n",
    "\n",
    "We can also put function into different files, packages and modules. We will look in depth at generating more complex python packages in a future lecture, but for now we will see how we can add a function to a different file. \n",
    "\n",
    "The file [jupyter_square.py](jupyter_square.py) contains the square function, we can import this function into our script using the `import` keyword. This will allow us to use the square function in our script.\n",
    "\n",
    "The following example is going to generate a series of squares using the square function and random module to make a very bad attempt at generating Rothko style art."
   ]
  },
  {
   "cell_type": "code",
   "execution_count": 9,
   "metadata": {},
   "outputs": [
    {
     "data": {
      "application/vnd.jupyter.widget-view+json": {
       "model_id": "6dabbb5c70f74f2c98fc53bf7ce18685",
       "version_major": 2,
       "version_minor": 0
      },
      "text/plain": [
       "Canvas(height=400, width=400)"
      ]
     },
     "metadata": {},
     "output_type": "display_data"
    }
   ],
   "source": [
    "#!/usr/bin/env python\n",
    "\n",
    "import random\n",
    "import ipyturtle3 as turtle\n",
    "\n",
    "from jupyter_square import square\n",
    "\n",
    "\n",
    "def random_colour() -> tuple[int, int, int]:\n",
    "    \"\"\"\n",
    "    Generates a random color.\n",
    "\n",
    "    Returns:\n",
    "        tuple[int, int, int]: A tuple representing an RGB color,\n",
    "                              where each value is an integer between 0 and 255.\n",
    "    \"\"\"\n",
    "    return (random.randint(0, 255), random.randint(0, 255), random.randint(0, 255))\n",
    "\n",
    "\n",
    "canvas = turtle.Canvas(width=400, height=400)\n",
    "display(canvas)\n",
    "screen = turtle.TurtleScreen(canvas)\n",
    "screen.colormode(255)\n",
    "my_turtle = turtle.Turtle(screen)\n",
    "my_turtle.speed(0)\n",
    "for i in range(0, 80):\n",
    "    x = random.uniform(-200, 200)\n",
    "    y = random.uniform(-200, 200)\n",
    "    width = random.uniform(50, 300)\n",
    "    height = random.uniform(50, 300)\n",
    "\n",
    "    square(my_turtle, x, y, width, height, random_colour(), random_colour())"
   ]
  },
  {
   "cell_type": "markdown",
   "metadata": {},
   "source": []
  },
  {
   "cell_type": "markdown",
   "metadata": {},
   "source": [
    "As you can see I have introduced some new concepts in the above code, iteration (looping) and selection (if statements). We will start to look at these in more details and how we can combine them into more complex programs. \n",
    "\n",
    "\n",
    "# Selection\n",
    "\n",
    "Most programming languages have a way of making decisions based on the value of a variable. This is known as selection. In Python, the `if` statement is used to make decisions based on the value of a variable. The syntax for the `if` statement is as follows:\n",
    "\n",
    "```python\n",
    "if condition:\n",
    "    # code block\n",
    "```\n",
    "\n",
    "The same rules for code indetation apply to the `if` statement as they do for functions. The code block that is executed if the condition is true must be indented. The `if` statement can also be followed by an `else` statement. The `else` statement is executed if the condition is false. The syntax for the `else` statement is as follows:\n",
    "\n",
    "if statements need work on boolean values, these are values that are either true or false. In Python, the following values are considered false:\n",
    "\n",
    "- `False`\n",
    "- `None`\n",
    "- `0`\n",
    "- `0.0`\n",
    "- `''`\n",
    "- `[]`\n",
    "- `()`\n",
    "- `{}`\n",
    "- `set()`\n",
    "- `range(0)`\n",
    "- `0j`\n",
    "- `Decimal(0)`\n",
    "- `Fraction(0, 1)`\n",
    "- objects for which `bool(obj)` returns `False`\n",
    "\n",
    "All other values are considered true. This is important to remember when writing `if` statements.\n",
    "\n",
    "The following example show a simple if statement in action"
   ]
  },
  {
   "cell_type": "code",
   "execution_count": 1,
   "metadata": {},
   "outputs": [
    {
     "name": "stdout",
     "output_type": "stream",
     "text": [
      "the length of the string is under 10\n"
     ]
    }
   ],
   "source": [
    "value = input(\"Enter some text and press enter : \")\n",
    "\n",
    "if len(value) > 10:\n",
    "    print(\"the length of the string is over 10\")\n",
    "else:\n",
    "    print(\"the length of the string is under 10\")"
   ]
  },
  {
   "cell_type": "markdown",
   "metadata": {},
   "source": [
    "## elif \n",
    "\n",
    "in the previous example we had an if followed by an else, it is also possible to have an `elif` statement. This is short for else if and allows for multiple conditions to be checked. The syntax for the `elif` statement is as follows:\n",
    "\n"
   ]
  },
  {
   "cell_type": "code",
   "execution_count": 2,
   "metadata": {},
   "outputs": [
    {
     "name": "stdout",
     "output_type": "stream",
     "text": [
      "the number is greater than 50\n"
     ]
    }
   ],
   "source": [
    "#!/usr/bin/env python\n",
    "\n",
    "try :\n",
    "    number = int(input(\"please enter a number between 1 and 100 : \"))\n",
    "except ValueError:\n",
    "    print(\"you did not enter a number\")\n",
    "\n",
    "if number < 1 or number > 100:\n",
    "    print(\"the number is not between 1 and 100\")\n",
    "elif number < 50:\n",
    "    print(\"the number is less than 50\")\n",
    "else:\n",
    "    print(\"the number is greater than 50\")\n"
   ]
  },
  {
   "cell_type": "markdown",
   "metadata": {},
   "source": [
    "## try / except\n",
    "\n",
    "Note in this example we use a try / except block to catch the exception if the user enters a non number, this is a common pattern in python to catch exceptions we will look at this in more detail in a later lecture / lab.\n"
   ]
  },
  {
   "cell_type": "markdown",
   "metadata": {},
   "source": [
    "## Python Comparison Operators\n",
    "<small>given ```a=10 b=20```</small>\n",
    "\n",
    "| <small>Operators    </small>              | <small>Description               </small>                                                                 | <small>Example  </small>          |\n",
    "|----------------------------|--------------------------------------------------------------------------------------------|--------------------|\n",
    "| <small>```==```    </small>                | <small>equality operator returns true if values are the same </small>                                     | <small>(a==b) is not true  </small>|\n",
    "| <small>```!=```  </small>                  | <small>not equal operator             </small>                                                            | <small>(a!=b) is true   </small>   |\n",
    "| <small>```>```    </small>                 | <small>Checks if the value of left operand is greater than the value of right operand  </small>           |  <small>(a>b) is not true  </small> |\n",
    "| <small>```<```    </small>                 |  <small>Checks if the value of left operand is less than the value of right operand   </small>              |  <small>(a>b) is true     </small>  |\n",
    "| <small>```>=```    </small>                |  <small>Checks if the value of left operand is greater than or equal to the value of right operand  </small>| <small> (a>=b) is not true </small> |\n",
    "| <small>```<=```    </small>                |  <small>Checks if the value of left operand is less than or equal to the value of right operand   </small>  | <small> (a<=) is true   </small>    |\n",
    "\n"
   ]
  },
  {
   "cell_type": "markdown",
   "metadata": {},
   "source": []
  },
  {
   "cell_type": "code",
   "execution_count": 22,
   "metadata": {},
   "outputs": [
    {
     "name": "stdout",
     "output_type": "stream",
     "text": [
      "a=10, b=20\n",
      "a==b=False\n",
      "a!=b=True\n",
      "a>b=False\n",
      "a<b=True\n",
      "a>=b=False\n",
      "a<=b=True\n"
     ]
    }
   ],
   "source": [
    "a = 10\n",
    "b = 20\n",
    "print(f\"{a=}, {b=}\")\n",
    "print(f\"{a==b=}\")\n",
    "print(f\"{a!=b=}\")\n",
    "print(f\"{a>b=}\")\n",
    "print(f\"{a<b=}\")\n",
    "print(f\"{a>=b=}\")\n",
    "print(f\"{a<=b=}\")"
   ]
  },
  {
   "cell_type": "markdown",
   "metadata": {},
   "source": [
    "## Python Logical Operators\n",
    "\n",
    "<small>given ```a=true b=False```</small>\n",
    "\n",
    "| <small>Operators    </small>              | <small>Description               </small>                                                                 | <small>Example  </small>          |\n",
    "|----------------------------|--------------------------------------------------------------------------------------------|--------------------|\n",
    "| <small>```and```    </small>                | <small>Logical and </small>                                     | <small>a and b is False  </small>|\n",
    "| <small>```or```  </small>                  | <small>Logical or             </small>                                                            | <small>a or b is True   </small>   |\n",
    "| <small>```not```   </small>| <small>Logical not   </small>                                    | <small>not (a and b) is True  </small>   |"
   ]
  },
  {
   "cell_type": "markdown",
   "metadata": {},
   "source": []
  },
  {
   "cell_type": "code",
   "execution_count": 12,
   "metadata": {},
   "outputs": [
    {
     "name": "stdout",
     "output_type": "stream",
     "text": [
      "a=True, b=False\n",
      "a and b=False\n",
      "a or b=True\n",
      "not(a and b)=True\n"
     ]
    }
   ],
   "source": [
    "a = True\n",
    "b = False\n",
    "\n",
    "print(f\"{a=}, {b=}\")\n",
    "print(f\"{a and b=}\")\n",
    "print(f\"{a or b=}\")\n",
    "print(f\"{not(a and b)=}\")"
   ]
  },
  {
   "cell_type": "markdown",
   "metadata": {},
   "source": [
    "## A note on style\n",
    "\n",
    "The following code whilst correct is not considered good style in Python. \n",
    "\n",
    "```python\n",
    "if a == True:\n",
    "    print(\"a is True\")\n",
    "```\n",
    "\n",
    "flake8 will throw a warning if you use this code. The correct way to write this is as follows:\n",
    "\n",
    "```bash\n",
    "E712 comparison to True should be 'if cond is True:' or 'if cond:'\n",
    "```\n",
    "\n",
    "Typically you would write the code as follows:\n",
    "\n",
    "```python\n",
    "if a:\n",
    "    print(\"a is True\")\n",
    "```\n",
    "\n",
    "## Complex selections \n",
    "\n",
    "Selections can be embedded to create quite complex hierarchies of “questions”, this can sometimes make reading code and maintenance hard especially with the python white space rules as code quite quickly becomes complex to read\n",
    "\n",
    "We usually prefer to put complex sequences in functions to make the code easier to read / maintain, we can also  simplify these  using set operators such as ```in```.\n",
    "\n",
    "Python 3.10 and above also has a new feature called [match](https://docs.python.org/3/library/match.html) which is a more powerful version of the switch statement in other languages. \n"
   ]
  },
  {
   "cell_type": "code",
   "execution_count": 13,
   "metadata": {},
   "outputs": [
    {
     "name": "stdout",
     "output_type": "stream",
     "text": [
      "PNG format selected\n"
     ]
    }
   ],
   "source": [
    "format = \"png\"\n",
    "\n",
    "match format:\n",
    "    case \"png\":\n",
    "        print(\"PNG format selected\")\n",
    "    case \"jpeg\":\n",
    "        print(\"JPEG format selected\")\n",
    "    case \"gif\":\n",
    "        print(\"GIF format selected\")\n",
    "    case _:\n",
    "        print(\"Unknown format selected\")"
   ]
  },
  {
   "cell_type": "markdown",
   "metadata": {},
   "source": [
    "# iteration\n",
    "\n",
    "Iteration is the ability to repeat sections of code. Python has two main looping constructs:\n",
    "  - ```for``` (each)\n",
    "  - ```while```\n",
    "\n",
    "```for``` each loops operate on ranges of data, ```while``` loops repeat while a condition is met\n",
    "\n",
    "## [for](https://docs.python.org/3/tutorial/controlflow.html#for-statements)\n",
    "\n",
    "A for loop is used for iterating over a sequence built in types such as ```list```, ```tuple```, ```dictionary```, ```set``` and  ```string``` will work by default. \n",
    "\n",
    "Also any iterable  object that can return one of its elements at a time can be used in a for loop. This is known as [iterable](https://docs.python.org/3/glossary.html#term-iterable). \n"
   ]
  },
  {
   "cell_type": "markdown",
   "metadata": {},
   "source": []
  },
  {
   "cell_type": "code",
   "execution_count": 15,
   "metadata": {},
   "outputs": [
    {
     "name": "stdout",
     "output_type": "stream",
     "text": [
      "i=1\n",
      "i=2\n",
      "i=3\n",
      "i=4\n",
      "i=5\n",
      "\n",
      "i='a'\n",
      "i='b'\n",
      "i='c'\n",
      "\n",
      "i='h'\n",
      "i='e'\n",
      "i='l'\n",
      "i='l'\n",
      "i='o'\n",
      "i=' '\n",
      "i='l'\n",
      "i='o'\n",
      "i='o'\n",
      "i='p'\n",
      "i='s'\n"
     ]
    }
   ],
   "source": [
    "list_of_ints = [1, 2, 3, 4, 5]\n",
    "tuple_of_strings = (\"a\", \"b\", \"c\")\n",
    "a_string = \"hello loops\"\n",
    "for i in list_of_ints:\n",
    "    print(f\"{i=}\")\n",
    "print()\n",
    "for i in tuple_of_strings:\n",
    "    print(f\"{i=}\")\n",
    "print()\n",
    "\n",
    "for i in a_string:\n",
    "    print(f\"{i=}\")"
   ]
  },
  {
   "cell_type": "markdown",
   "metadata": {},
   "source": [
    "## range\n",
    "\n",
    "The range function is a useful function for generating a sequence of numbers. It is common to use this in conjunction with the for loop to generate a sequence of numbers. The range function can take up to three arguments, the start, stop, and step. The syntax for the range function is as follows:\n",
    "\n",
    "```python\n",
    "range(start,stop,step)\n",
    "```\n",
    "\n",
    "start is the first number in the sequence, stop is the last number in the sequence, and step is the difference between each number in the sequence. If the start and step arguments are not provided, they default to 0 and 1 respectively. The range function generates a sequence of numbers from start to stop - 1. The range function is a generator function, this means that it does not generate all the numbers at once, but generates them one at a time. This is useful when working with large sequences of numbers."
   ]
  },
  {
   "cell_type": "markdown",
   "metadata": {},
   "source": []
  },
  {
   "cell_type": "code",
   "execution_count": 18,
   "metadata": {},
   "outputs": [
    {
     "name": "stdout",
     "output_type": "stream",
     "text": [
      "i=0\n",
      "i=1\n",
      "i=2\n",
      "i=3\n",
      "i=4\n",
      "x=1\n",
      "x=2\n",
      "x=3\n",
      "x=4\n",
      "x=5\n",
      "j=1\n",
      "j=3\n",
      "j=5\n",
      "j=7\n",
      "j=9\n"
     ]
    }
   ],
   "source": [
    "for i in range(5):\n",
    "    print(f\"{i=}\")\n",
    "\n",
    "for x in range(1, 6):\n",
    "    print(f\"{x=}\")\n",
    "\n",
    "for j in range(1, 10, 2):\n",
    "    print(f\"{j=}\")"
   ]
  },
  {
   "cell_type": "markdown",
   "metadata": {},
   "source": [
    "## [```break```](https://docs.python.org/3/tutorial/controlflow.html#break-and-continue-statements-and-else-clauses-on-loops)\n",
    "\n",
    "The ```break``` clause allows us to jump out of a loop, tt is usually used in conjunction with an if statement and will break out of the loop if the condition is met."
   ]
  },
  {
   "cell_type": "code",
   "execution_count": 19,
   "metadata": {},
   "outputs": [
    {
     "name": "stdout",
     "output_type": "stream",
     "text": [
      "[1.4679186938977216, 1.0037135242667254, 5.96813203632999, 0.7822036105998942, 9.94212338561197, 7.420150764040262, 4.234988959307124, 3.4147707213095044, 1.528294220470959, 2.0291980483312586]\n",
      "n=1.4679186938977216\n",
      "n=1.0037135242667254\n",
      "n=5.96813203632999\n",
      "n=0.7822036105998942\n",
      "n=9.94212338561197\n",
      "n=7.420150764040262\n",
      "n=4.234988959307124\n",
      "n=3.4147707213095044\n",
      "n=1.528294220470959\n",
      "n=2.0291980483312586\n"
     ]
    }
   ],
   "source": [
    "import random\n",
    "\n",
    "# note this is called a list comprehension\n",
    "# it is a way to create a list in one line of code\n",
    "numbers = [ random.uniform(-1,10) for i in range(0,10)]\n",
    "print(numbers)\n",
    "for n in numbers :\n",
    "    print(f\"{n=}\")\n",
    "    if n < 0.0 :\n",
    "        print('found a negative exiting {}'.format(n))\n",
    "        break"
   ]
  },
  {
   "cell_type": "markdown",
   "metadata": {},
   "source": [
    "## [```continue```](https://docs.python.org/3/tutorial/controlflow.html#break-and-continue-statements-and-else-clauses-on-loops)\n",
    "\n",
    "```continue``` will stop the current loop and jump to the next item, this is useful if you want to skip an item in a loop."
   ]
  },
  {
   "cell_type": "code",
   "execution_count": 20,
   "metadata": {},
   "outputs": [
    {
     "name": "stdout",
     "output_type": "stream",
     "text": [
      "even=[0, 2, 4, 6, 8]\n"
     ]
    }
   ],
   "source": [
    "\n",
    "a=range(0,10)\n",
    "even=[]\n",
    "for i in a :\n",
    "    if i % 2 : # is it even?\n",
    "        continue\n",
    "    even.append(i)\n",
    "print(f\"{even=}\")"
   ]
  },
  {
   "cell_type": "markdown",
   "metadata": {},
   "source": [
    "##  [```-```](https://docs.python.org/3/tutorial/controlflow.html#break-and-continue-statements-and-else-clauses-on-loops)\n",
    "\n",
    "It is convention in Python to use ```_```  as a general purpose \"throwaway\" variable name, it is very common to use this multiple times in a file or module. "
   ]
  },
  {
   "cell_type": "code",
   "execution_count": 3,
   "metadata": {},
   "outputs": [
    {
     "name": "stdout",
     "output_type": "stream",
     "text": [
      "sum=2048\n"
     ]
    }
   ],
   "source": [
    "#!/usr/bin/env python\n",
    "\n",
    "sum = 2\n",
    "for _ in range(0,10) : \n",
    "    sum+=sum\n",
    "print(f\"{sum=}\")\n"
   ]
  },
  {
   "cell_type": "markdown",
   "metadata": {},
   "source": [
    "## dictionary iteration\n",
    "\n",
    "The dictionary ```items()``` method returns the key and the value, we could use just ```keys()``` or ```values()``` to get the individual elements. "
   ]
  },
  {
   "cell_type": "code",
   "execution_count": 7,
   "metadata": {},
   "outputs": [
    {
     "name": "stdout",
     "output_type": "stream",
     "text": [
      "colours.items()=dict_items([('red', [1, 0, 0]), ('green', [0, 1, 0]), ('blue', [0, 0, 1])])\n",
      "colour='red' := value=[1, 0, 0]\n",
      "colour='green' := value=[0, 1, 0]\n",
      "colour='blue' := value=[0, 0, 1]\n",
      "colour='red'\n",
      "colour='green'\n",
      "colour='blue'\n",
      "values=[1, 0, 0]\n",
      "values=[0, 1, 0]\n",
      "values=[0, 0, 1]\n"
     ]
    }
   ],
   "source": [
    "colours = {'red' : [1,0,0],\n",
    "           'green' : [0,1,0],\n",
    "           'blue' : [0,0,1]}\n",
    "\n",
    "print(f\"{colours.items()=}\")\n",
    "\n",
    "# note for can unpack the key and value from the dictionary\n",
    "for colour,value in colours.items() :\n",
    "    print(f\"{colour=} := {value=}\")\n",
    "\n",
    "for colour in colours.keys() :\n",
    "    print(f\"{colour=}\")\n",
    "\n",
    "for values in colours.values() :\n",
    "    print(f\"{values=}\")"
   ]
  },
  {
   "cell_type": "markdown",
   "metadata": {},
   "source": [
    "## the ```while``` statement\n",
    "\n",
    "The while loop is used to iterate over a block of code as long as the condition is true. The syntax for the while loop is as follows:\n",
    "\n",
    "```python   \n",
    "while condition:\n",
    "    # code block\n",
    "```\n",
    "The same indentation rules apply to the while loop as they do to the for loop and the if statement. The code block that is executed if the condition is true must be indented. Both the break and continue statements can be used in the while loop. The break statement will break out of the loop if the condition is met, and the continue statement will skip the current iteration of the loop."
   ]
  },
  {
   "cell_type": "code",
   "execution_count": 8,
   "metadata": {},
   "outputs": [
    {
     "name": "stdout",
     "output_type": "stream",
     "text": [
      "i=10\n",
      "i=9\n",
      "i=8\n",
      "i=7\n",
      "i=6\n",
      "i=5\n",
      "i=4\n",
      "i=3\n",
      "i=2\n",
      "i=1\n",
      "i=0\n"
     ]
    }
   ],
   "source": [
    "i=10\n",
    "while(i>=0) :\n",
    "    print(f\"{i=}\")\n",
    "    i-=1\n"
   ]
  },
  {
   "cell_type": "code",
   "execution_count": null,
   "metadata": {},
   "outputs": [],
   "source": []
  }
 ],
 "metadata": {
  "kernelspec": {
   "display_name": "base",
   "language": "python",
   "name": "python3"
  },
  "language_info": {
   "codemirror_mode": {
    "name": "ipython",
    "version": 3
   },
   "file_extension": ".py",
   "mimetype": "text/x-python",
   "name": "python",
   "nbconvert_exporter": "python",
   "pygments_lexer": "ipython3",
   "version": "3.11.7"
  }
 },
 "nbformat": 4,
 "nbformat_minor": 2
}
