{
 "cells": [
  {
   "cell_type": "markdown",
   "metadata": {},
   "source": [
    "# Packages\n",
    "\n",
    "In python we can package code into re-usable modules. This is know as a package. At a high level, Python packages are directories of modules that follow specific naming and structural conventions, allowing you to bundle multiple modules (individual .py files) under one namespace.\n",
    "\n",
    "## Basic Structure\n",
    "\n",
    "At it's simplest level a package is a directory with a `__init__.py` file. This file can be empty, but it is required for Python to recognize the directory as a package.  This demo is going to explain how the package called Utils (which is a directory in this repository) is structured, we will then look at how we can use this pagage in our code / jupyter notebooks.\n",
    "\n",
    "```\n",
    "Utils/\n",
    "├── __init__.py\n",
    "├── functions.py\n",
    "└── TorchUtils.py\n",
    "```\n",
    "\n",
    "```__init__.py```  is essential in making a directory a package. It can be empty or contain initialization code, and it allows Utils to be imported as a package.\n",
    "\n",
    "At present the package contains two modules, ```functions.py``` and ```TorchUtils.py```. These modules contain functions that we can use in our code.\n",
    "\n",
    "## Python Path\n",
    "\n",
    "When we import a package, Python searches for the package in a list of directories. This list is stored in the `sys.path` variable. We can add a directory to this list by appending it to the `sys.path` variable. This is useful if we want to import a package that is not in the same directory as our code.\n",
    "\n",
    "As you can see if we try to import the Utils package without appending the path to the sys.path variable we get an error.\n"
   ]
  },
  {
   "cell_type": "code",
   "execution_count": 1,
   "metadata": {},
   "outputs": [
    {
     "ename": "ModuleNotFoundError",
     "evalue": "No module named 'Utils'",
     "output_type": "error",
     "traceback": [
      "\u001b[31m---------------------------------------------------------------------------\u001b[39m",
      "\u001b[31mModuleNotFoundError\u001b[39m                       Traceback (most recent call last)",
      "\u001b[36mCell\u001b[39m\u001b[36m \u001b[39m\u001b[32mIn[1]\u001b[39m\u001b[32m, line 1\u001b[39m\n\u001b[32m----> \u001b[39m\u001b[32m1\u001b[39m \u001b[38;5;28;01mimport\u001b[39;00m\u001b[38;5;250m \u001b[39m\u001b[34;01mUtils\u001b[39;00m\n",
      "\u001b[31mModuleNotFoundError\u001b[39m: No module named 'Utils'"
     ]
    }
   ],
   "source": [
    "import Utils"
   ]
  },
  {
   "cell_type": "markdown",
   "metadata": {},
   "source": [
    "To add the package to the path we can use the following code:\n",
    "\n",
    "```python\n",
    "import sys\n",
    "sys.path.append('path_to_package')\n",
    "```\n",
    "\n",
    "In our case we need to do this for the Utils package which is a directory below the current directory. We can do this by using the following code:\n"
   ]
  },
  {
   "cell_type": "markdown",
   "metadata": {},
   "source": [
    "import sys\n",
    "\n",
    "sys.path.append(\"../\")\n",
    "import Utils.TorchUtils as torchUtils\n",
    "\n",
    "print(torchUtils.get_device())"
   ]
  },
  {
   "cell_type": "markdown",
   "metadata": {},
   "source": [
    "## ```__init__```\n",
    "\n",
    "It is possible to change the behavior of the package when it is imported by adding code to the `__init__.py` file. This file is executed when the package is imported. In our case we are going to add the following code to the `__init__.py` file:\n",
    "\n",
    "```python\n",
    "# import functions into the package\n",
    "from .TorchUtils import get_device\n",
    "from .functions import in_lab, download\n",
    "\n",
    "__all__ = [\"get_device\", \"in_lab\", \"download\"]\n",
    "```\n",
    "\n",
    "No we can import the package and use the functions in the modules."
   ]
  },
  {
   "cell_type": "code",
   "execution_count": null,
   "metadata": {},
   "outputs": [],
   "source": [
    "import Utils\n",
    "\n",
    "print(Utils.get_device())\n",
    "print(Utils.in_lab())"
   ]
  },
  {
   "cell_type": "markdown",
   "metadata": {},
   "source": [
    "There are various other functions in the Utils module, we will be using them in the labs. If you wish to generate your own Package for the assignment hopefully this example demonstrates how you can do this.\n",
    "\n",
    "For more information on packages see the [Python documentation](https://docs.python.org/3/tutorial/modules.html#packages)"
   ]
  }
 ],
 "metadata": {
  "kernelspec": {
   "display_name": "Python 3 (ipykernel)",
   "language": "python",
   "name": "python3"
  },
  "language_info": {
   "codemirror_mode": {
    "name": "ipython",
    "version": 3
   },
   "file_extension": ".py",
   "mimetype": "text/x-python",
   "name": "python",
   "nbconvert_exporter": "python",
   "pygments_lexer": "ipython3",
   "version": "3.13.2"
  }
 },
 "nbformat": 4,
 "nbformat_minor": 4
}
