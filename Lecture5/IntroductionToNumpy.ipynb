{
 "cells": [
  {
   "cell_type": "markdown",
   "metadata": {},
   "source": [
    "# [Numpy](https://numpy.org/)\n",
    "\n",
    "This notebook is a companion to the lecture slides [here](https://nccastaff.bournemouth.ac.uk/jmacey/SEForMedia/lectures/Lecture5/), it will be used to introduce numpy as well as other concepts. Note that we are still using Numpy 1.26.x so some of the newer features may not be available. For full documentation see [here](https://numpy.org/doc/1.26/index.html).\n",
    "\n",
    "## Getting Started\n",
    "\n",
    "numpy is already installed as part of the Anaconda distribution, so you should be able to import it directly. If you are using a different Python distribution you may need to install it using pip. The following code cell will import numpy and check the version you are using."
   ]
  },
  {
   "cell_type": "code",
   "execution_count": 1,
   "metadata": {},
   "outputs": [
    {
     "name": "stdout",
     "output_type": "stream",
     "text": [
      "1.26.4\n"
     ]
    }
   ],
   "source": [
    "import numpy as np\n",
    "print(np.__version__)"
   ]
  },
  {
   "cell_type": "markdown",
   "metadata": {},
   "source": [
    "In the above example we import ```numpy as np``` this is a common convention as it makes it easier to type and read the code. We are creating an alias called ```np``` that contains all the numpy functions. This is a common convention in python programming. "
   ]
  },
  {
   "cell_type": "markdown",
   "metadata": {},
   "source": [
    "## Arrays\n",
    "\n",
    "The core data type in numpy is the array, this is similar to a list but can be multi-dimensional. They can be created in a number of ways for example\n",
    "\n",
    "1. Instantiated using values from a normal Python list\n",
    "2. Filled with sequential values upto a target number\n",
    "3. Filled with a specific value\n",
    "4. Filled with random values (various random distributions [available](https://numpy.org/doc/1.26/reference/random/index.html)) \n",
    "For a full list of array creation routines, please see [here](https://numpy.org/doc/1.26/reference/routines.array-creation.html) "
   ]
  },
  {
   "cell_type": "code",
   "execution_count": null,
   "metadata": {},
   "outputs": [],
   "source": []
  },
  {
   "cell_type": "markdown",
   "metadata": {},
   "source": []
  }
 ],
 "metadata": {
  "kernelspec": {
   "display_name": "base",
   "language": "python",
   "name": "python3"
  },
  "language_info": {
   "codemirror_mode": {
    "name": "ipython",
    "version": 3
   },
   "file_extension": ".py",
   "mimetype": "text/x-python",
   "name": "python",
   "nbconvert_exporter": "python",
   "pygments_lexer": "ipython3",
   "version": "3.11.7"
  }
 },
 "nbformat": 4,
 "nbformat_minor": 2
}
