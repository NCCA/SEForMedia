{
 "cells": [
  {
   "cell_type": "markdown",
   "metadata": {},
   "source": [
    "# [Numpy](https://numpy.org/)\n",
    "\n",
    "This notebook is a companion to the lecture slides [here](https://nccastaff.bournemouth.ac.uk/jmacey/SEForMedia/lectures/Lecture5/), it will be used to introduce numpy as well as other concepts. Note that we are still using Numpy 1.26.x so some of the newer features may not be available. For full documentation see [here](https://numpy.org/doc/1.26/index.html).\n",
    "\n",
    "## Getting Started\n",
    "\n",
    "numpy is already installed as part of the Anaconda distribution, so you should be able to import it directly. If you are using a different Python distribution you may need to install it using pip. The following code cell will import numpy and check the version you are using."
   ]
  },
  {
   "cell_type": "code",
   "execution_count": 1,
   "metadata": {},
   "outputs": [
    {
     "name": "stdout",
     "output_type": "stream",
     "text": [
      "2.2.3\n"
     ]
    }
   ],
   "source": [
    "import numpy as np\n",
    "\n",
    "print(np.__version__)"
   ]
  },
  {
   "cell_type": "markdown",
   "metadata": {},
   "source": [
    "In the above example we import ```numpy as np``` this is a common convention as it makes it easier to type and read the code. We are creating an alias called ```np``` that contains all the numpy functions. This is a common convention in python programming. "
   ]
  },
  {
   "cell_type": "markdown",
   "metadata": {},
   "source": [
    "## Arrays\n",
    "\n",
    "The core data type in numpy is the array, this is similar to a list but can be multi-dimensional. They can be created in a number of ways for example\n",
    "\n",
    "1. Instantiated using values from a normal Python list\n",
    "2. Filled with sequential values upto a target number\n",
    "3. Filled with a specific value\n",
    "4. Filled with random values (various random distributions [available](https://numpy.org/doc/1.26/reference/random/index.html)) \n",
    "\n",
    "\n",
    "For a full list of array creation routines, please see [here](https://numpy.org/doc/1.26/reference/routines.array-creation.html) "
   ]
  },
  {
   "cell_type": "code",
   "execution_count": 2,
   "metadata": {},
   "outputs": [
    {
     "name": "stdout",
     "output_type": "stream",
     "text": [
      "[   2    4    8   16   32   64  128  256  512 1024] <class 'numpy.ndarray'>\n"
     ]
    }
   ],
   "source": [
    "# Array creation from python list\n",
    "python_list = [2, 4, 8, 16, 32, 64, 128, 256, 512, 1024]\n",
    "np_from_list = np.array(python_list)\n",
    "print(np_from_list, type(np_from_list))"
   ]
  },
  {
   "cell_type": "code",
   "execution_count": 3,
   "metadata": {},
   "outputs": [
    {
     "name": "stdout",
     "output_type": "stream",
     "text": [
      "[ 0  1  2  3  4  5  6  7  8  9 10 11 12 13 14 15 16 17 18 19]\n"
     ]
    }
   ],
   "source": [
    "# Array creation with sequential values\n",
    "# arange always returns a 1D array, will need to reshape it separately if\n",
    "# we wish to do so\n",
    "seq_array = np.arange(20)\n",
    "print(seq_array)"
   ]
  },
  {
   "cell_type": "code",
   "execution_count": 4,
   "metadata": {},
   "outputs": [
    {
     "name": "stdout",
     "output_type": "stream",
     "text": [
      "[0.87595603 0.00524961 0.36922305 0.01093755 0.33215799 0.80878318\n",
      " 0.45815255 0.57947051 0.18272069 0.86448498]\n"
     ]
    }
   ],
   "source": [
    "# Array creation with random values\n",
    "random_array = np.random.rand(\n",
    "    10\n",
    ")  # returns an array filled with 10 random floats between 0 and 1\n",
    "print(random_array)"
   ]
  },
  {
   "cell_type": "markdown",
   "metadata": {},
   "source": []
  },
  {
   "cell_type": "code",
   "execution_count": 5,
   "metadata": {},
   "outputs": [
    {
     "name": "stdout",
     "output_type": "stream",
     "text": [
      "[255 255 255 255 255 255 255 255 255 255]\n"
     ]
    }
   ],
   "source": [
    "# Array filled with the same specific value\n",
    "filled_array = np.full(10, 255)  # returns an array filled with 10 instances of 255\n",
    "print(filled_array)"
   ]
  },
  {
   "cell_type": "markdown",
   "metadata": {},
   "source": [
    "## Array Shape\n",
    "\n",
    "In NumPy, an array’s shape refers to the dimensions of the array, specifying how many elements it contains along each axis. The shape of a NumPy array is represented as a tuple of integers, where each integer represents the size of the array along that dimension.\n",
    "\n",
    "This is a key concept in numpy as it allows you to create multi-dimensional arrays. For example, a 2D array has a shape of (rows, columns) and a 3D array has a shape of (depth, rows, columns). We use this to represent our data when we input it into a neural network.\n",
    "\n",
    "So far we have only created 1D arrayas, but we can create multi-dimensional arrays by passing in a tuple of values to the array function.\n",
    "\n",
    "**1D Array (Vector):**\n",
    "- Shape: (n,) where n is the number of elements.\n",
    "\n"
   ]
  },
  {
   "cell_type": "code",
   "execution_count": 6,
   "metadata": {},
   "outputs": [
    {
     "name": "stdout",
     "output_type": "stream",
     "text": [
      "(3,)\n"
     ]
    }
   ],
   "source": [
    "arr = np.array([1, 2, 3])\n",
    "print(arr.shape)  # Output: (3,)"
   ]
  },
  {
   "cell_type": "markdown",
   "metadata": {},
   "source": [
    "**2D Array (Matrix):**\n",
    "\n",
    "- Shape: (n, m) where n is the number of rows and m is the number of columns."
   ]
  },
  {
   "cell_type": "code",
   "execution_count": 7,
   "metadata": {},
   "outputs": [
    {
     "name": "stdout",
     "output_type": "stream",
     "text": [
      "(3, 2)\n"
     ]
    }
   ],
   "source": [
    "arr = np.array([[1, 2], [3, 4], [5, 6]])\n",
    "print(arr.shape)  # Output: (3, 2)"
   ]
  },
  {
   "cell_type": "markdown",
   "metadata": {},
   "source": [
    "**3D Array:**\n",
    "- Shape: (n, m, p) where n is the number of matrices, m is the number of rows, and p is the number of columns in each matrix."
   ]
  },
  {
   "cell_type": "code",
   "execution_count": 8,
   "metadata": {},
   "outputs": [
    {
     "name": "stdout",
     "output_type": "stream",
     "text": [
      "(2, 2, 2)\n"
     ]
    }
   ],
   "source": [
    "arr = np.array([[[1, 2], [3, 4]], [[5, 6], [7, 8]]])\n",
    "print(arr.shape)  # Output: (2, 2, 2)"
   ]
  },
  {
   "cell_type": "markdown",
   "metadata": {},
   "source": [
    "### Why Do We Need Array Shapes?\n",
    "\n",
    "1.\tUnderstanding Data Structure: Knowing the shape of an array tells you how the data is organized. For example, whether the data is a single vector, a 2D matrix, or a multi-dimensional dataset is important for operations like indexing, reshaping, or applying functions.\n",
    "2.\tEfficient Computation: Many mathematical operations in NumPy, like matrix multiplication, element-wise operations, or broadcasting, depend on the array’s shape. Mismatched shapes can cause errors, so understanding the shape helps ensure proper operation.\n",
    "\n",
    "## Reshaping Arrays\n",
    "\n",
    "Reshaping an array means changing the shape of the array without changing the data it contains. This is a common operation when working with neural networks as we often need to change the shape of the data to fit the input layer of the network.\n",
    "\n",
    "One of the many things that set Numpy arrays apart from Python lists is their `reshape` method. This allows you to define the number of dimensions that the structure represented by the array has. For example, the array `np_from_list` that we have just defined is just a flat list of numbers at the present. `reshape` helps us represent it as a 2D data structure (a matrix). Keep in mind that the shape that you put into this method must agree with the number of elements in the array. In our example, the array has 10 elements, so acceptable shapes include:\n",
    "* 5, 2\n",
    "* 2, 5\n",
    "* 1, 10\n",
    "* 10, 1"
   ]
  },
  {
   "cell_type": "code",
   "execution_count": 9,
   "metadata": {},
   "outputs": [
    {
     "name": "stdout",
     "output_type": "stream",
     "text": [
      "[[   2    4]\n",
      " [   8   16]\n",
      " [  32   64]\n",
      " [ 128  256]\n",
      " [ 512 1024]]\n",
      "matrix_5_2.shape=(5, 2)\n"
     ]
    }
   ],
   "source": [
    "matrix_5_2 = np_from_list.reshape(5, 2)\n",
    "print(matrix_5_2)\n",
    "print(f\"{matrix_5_2.shape=}\")"
   ]
  },
  {
   "cell_type": "code",
   "execution_count": 10,
   "metadata": {},
   "outputs": [
    {
     "name": "stdout",
     "output_type": "stream",
     "text": [
      "[[ 0  1  2  3  4  5  6  7  8  9]\n",
      " [10 11 12 13 14 15 16 17 18 19]]\n",
      "matrix_2_10 shape: (2, 10)\n"
     ]
    }
   ],
   "source": [
    "matrix_2_10 = seq_array.reshape(2, 10)\n",
    "print(matrix_2_10)\n",
    "print(f\"matrix_2_10 shape: {matrix_2_10.shape}\")"
   ]
  },
  {
   "cell_type": "code",
   "execution_count": 11,
   "metadata": {},
   "outputs": [
    {
     "data": {
      "text/plain": [
       "array([[32, 32],\n",
       "       [32, 32],\n",
       "       [32, 32],\n",
       "       [32, 32],\n",
       "       [32, 32]])"
      ]
     },
     "execution_count": 11,
     "metadata": {},
     "output_type": "execute_result"
    }
   ],
   "source": [
    "# You can also pass a desired shape into the array creation function to instantiate\n",
    "# an array with a pre-defined shape\n",
    "array_from_shape = np.full(matrix_5_2.shape, 32)\n",
    "array_from_shape"
   ]
  },
  {
   "cell_type": "markdown",
   "metadata": {},
   "source": [
    "## Exercises\n",
    "\n",
    "The following cells have been set up to help you learn how to use numpy. The comments in the cells will ask you to complete a simple numpy task. Experiment with the code and see what happens.\n",
    "\n",
    "### Task 1"
   ]
  },
  {
   "cell_type": "code",
   "execution_count": 12,
   "metadata": {},
   "outputs": [],
   "source": [
    "# Create a Numpy array A that contains the integers from 0 - 31 (32 elements long)\n"
   ]
  },
  {
   "cell_type": "markdown",
   "metadata": {},
   "source": [
    "<details>\n",
    "\n",
    "<summary>Solution</summary>\n",
    "\n",
    "```python\n",
    "A = np.arange(32)\n",
    "print(A)\n",
    "```\n",
    "\n",
    "</details>\n",
    "\n",
    "### Task 2"
   ]
  },
  {
   "cell_type": "code",
   "execution_count": 13,
   "metadata": {},
   "outputs": [],
   "source": [
    "# Create a Numpy array B that contains 12 random numbers between 0 and 1\n"
   ]
  },
  {
   "cell_type": "markdown",
   "metadata": {},
   "source": [
    "<details>\n",
    "\n",
    "<summary>Solution</summary>\n",
    "\n",
    "```python\n",
    "B = np.random.rand(12)\n",
    "print(B)\n",
    "```\n",
    "\n",
    "</details>\n",
    "\n",
    "## Task 3"
   ]
  },
  {
   "cell_type": "code",
   "execution_count": 14,
   "metadata": {},
   "outputs": [],
   "source": [
    "# Turn A into a 2d matrix of shape (8, 4) - 8 rows, 4 columns\n"
   ]
  },
  {
   "cell_type": "markdown",
   "metadata": {},
   "source": [
    "<details>\n",
    "\n",
    "<summary>Solution</summary>\n",
    "\n",
    "```python\n",
    "A = A.reshape(8, 4)\n",
    "print(A)\n",
    "```\n",
    "\n",
    "</details>\n",
    "\n",
    "## Task 4"
   ]
  },
  {
   "cell_type": "code",
   "execution_count": 15,
   "metadata": {},
   "outputs": [],
   "source": [
    "# Turn B into a 2d matrix of shape (4, 3)\n"
   ]
  },
  {
   "cell_type": "markdown",
   "metadata": {},
   "source": [
    "<details>\n",
    "\n",
    "<summary>Solution</summary>\n",
    "\n",
    "```python\n",
    "B = B.reshape(4, 3)\n",
    "print(B)\n",
    "```\n",
    "\n",
    "</details>"
   ]
  },
  {
   "cell_type": "markdown",
   "metadata": {},
   "source": [
    "## Array operations\n",
    "\n",
    "Once you have created an array, there are various operations you may want to perform on them. We'll go through some of the most common ones in the next few cells.\n",
    "\n",
    "### Binary operators\n",
    "\n",
    "Similar to normal counting numbers, Numpy arrays can be used as arguments to binary arithmetic operators like ```*``` (multiplication), ```+``` (addition), ```-```(subtraction) and ```/```(division). However, these can only be applied to arrays under certain conditions:\n",
    "\n",
    "1. The arrays have the same shape, OR\n",
    "2. The operation is between an array and a scalar, OR\n",
    "3. The operations is between 2 arrays of different shapes that can be \"broadcast\" together - more on this later\n",
    "\n",
    "These operations are applied **element-wise** meaning each element in the array is combined with its corresponding element at the same position in the other array"
   ]
  },
  {
   "cell_type": "code",
   "execution_count": 16,
   "metadata": {},
   "outputs": [
    {
     "name": "stdout",
     "output_type": "stream",
     "text": [
      "(8, 4)\n",
      "[[0.47496383 0.31731782 0.87170971 0.18042241]\n",
      " [0.73906063 0.04995305 0.27696322 0.45661866]\n",
      " [0.66004843 0.1072872  0.98410569 0.84680998]\n",
      " [0.04863905 0.79948082 0.30621513 0.12544232]\n",
      " [0.00899006 0.62539928 0.77257711 0.62391565]\n",
      " [0.08550665 0.85241382 0.13517487 0.5001931 ]\n",
      " [0.19458941 0.99240645 0.71560166 0.34034678]\n",
      " [0.00358553 0.42916327 0.8848046  0.21740791]]\n",
      "[[11.47496383 11.31731782 11.87170971 11.18042241]\n",
      " [11.73906063 11.04995305 11.27696322 11.45661866]\n",
      " [11.66004843 11.1072872  11.98410569 11.84680998]\n",
      " [11.04863905 11.79948082 11.30621513 11.12544232]\n",
      " [11.00899006 11.62539928 11.77257711 11.62391565]\n",
      " [11.08550665 11.85241382 11.13517487 11.5001931 ]\n",
      " [11.19458941 11.99240645 11.71560166 11.34034678]\n",
      " [11.00358553 11.42916327 11.8848046  11.21740791]]\n"
     ]
    }
   ],
   "source": [
    "# Addition with a scalar\n",
    "arr = np.random.rand(32).reshape((8, 4))\n",
    "print(arr.shape)\n",
    "print(arr)\n",
    "scalar_add_array = 11 + arr\n",
    "print(scalar_add_array)"
   ]
  },
  {
   "cell_type": "code",
   "execution_count": 17,
   "metadata": {},
   "outputs": [
    {
     "name": "stdout",
     "output_type": "stream",
     "text": [
      "[[-4.52503617 -4.68268218 -4.12829029 -4.81957759]\n",
      " [-4.26093937 -4.95004695 -4.72303678 -4.54338134]\n",
      " [-4.33995157 -4.8927128  -4.01589431 -4.15319002]\n",
      " [-4.95136095 -4.20051918 -4.69378487 -4.87455768]\n",
      " [-4.99100994 -4.37460072 -4.22742289 -4.37608435]\n",
      " [-4.91449335 -4.14758618 -4.86482513 -4.4998069 ]\n",
      " [-4.80541059 -4.00759355 -4.28439834 -4.65965322]\n",
      " [-4.99641447 -4.57083673 -4.1151954  -4.78259209]]\n"
     ]
    }
   ],
   "source": [
    "# Subtraction with another array of same shape\n",
    "A = np.full(32, 5).reshape((8, 4))  # 8x4 matrix with all elements as 5\n",
    "sub_array = arr - A\n",
    "print(sub_array)"
   ]
  },
  {
   "cell_type": "code",
   "execution_count": 18,
   "metadata": {},
   "outputs": [
    {
     "name": "stdout",
     "output_type": "stream",
     "text": [
      "[[2.37481914 1.58658908 4.35854853 0.90211206]\n",
      " [3.69530316 0.24976525 1.38481609 2.2830933 ]\n",
      " [3.30024215 0.536436   4.92052843 4.23404991]\n",
      " [0.24319524 3.99740408 1.53107567 0.62721161]\n",
      " [0.04495028 3.12699638 3.86288555 3.11957826]\n",
      " [0.42753324 4.26206912 0.67587434 2.50096549]\n",
      " [0.97294705 4.96203223 3.5780083  1.70173392]\n",
      " [0.01792763 2.14581634 4.42402298 1.08703953]]\n"
     ]
    }
   ],
   "source": [
    "# Multiplication with another array of same shape\n",
    "mul_array = arr * A\n",
    "print(mul_array)"
   ]
  },
  {
   "cell_type": "code",
   "execution_count": 19,
   "metadata": {},
   "outputs": [
    {
     "name": "stdout",
     "output_type": "stream",
     "text": [
      "[[  23.15965834   34.66556061   12.61887981   60.96803563]\n",
      " [  14.88375856  220.20677233   39.71646518   24.09012368]\n",
      " [  16.66544377  102.52853938   11.17766126   12.98992719]\n",
      " [ 226.15573887   13.75892927   35.922457     87.68970368]\n",
      " [1223.57400489   17.58876356   14.23806098   17.63058829]\n",
      " [ 128.64496791   12.90453029   81.37607388   21.99150701]\n",
      " [  56.52928407   11.08416822   15.37168039   32.31997626]\n",
      " [3067.89008489   25.63127093   12.43212348   50.59613595]]\n"
     ]
    }
   ],
   "source": [
    "# Division by a scalar\n",
    "div_array = 11 / arr\n",
    "print(div_array)"
   ]
  },
  {
   "cell_type": "code",
   "execution_count": 20,
   "metadata": {},
   "outputs": [
    {
     "name": "stdout",
     "output_type": "stream",
     "text": [
      "[[inf inf inf inf]\n",
      " [inf inf inf inf]\n",
      " [inf inf inf inf]\n",
      " [inf inf inf inf]\n",
      " [inf inf inf inf]\n",
      " [inf inf inf inf]\n",
      " [inf inf inf inf]\n",
      " [inf inf inf inf]]\n"
     ]
    },
    {
     "name": "stderr",
     "output_type": "stream",
     "text": [
      "/var/folders/2b/sq4pvwxn1f16kvdmz9pm9q2r0000gr/T/ipykernel_66229/792541156.py:2: RuntimeWarning: divide by zero encountered in divide\n",
      "  div_array =  arr  / 0\n"
     ]
    }
   ],
   "source": [
    "# Division by a zero is a special case, see what happens\n",
    "div_array = arr / 0\n",
    "print(div_array)"
   ]
  },
  {
   "cell_type": "markdown",
   "metadata": {},
   "source": [
    "## Broadcasting\n",
    "\n",
    "As long as an array's dimensions are compatible with their counterparts in the other array, they can be \"broadcasted\" together. This means that numpy will 'strectch' the smaller dimension along its axis so that element-wise operations can be applied between them. In general, 2 arrays can be broadcast together if each dimension in one array is compatible with its counterpart in the other array. Dimensions are compatible if they are equal or one of them is equal to 1. The dimension of size 1 is expanded to fit the size of its counterpart see [broadcasting rules](https://numpy.org/doc/1.26/user/basics.broadcasting.html) for more information.\n"
   ]
  },
  {
   "cell_type": "code",
   "execution_count": 21,
   "metadata": {},
   "outputs": [
    {
     "data": {
      "text/plain": [
       "array([2., 4., 6.])"
      ]
     },
     "execution_count": 21,
     "metadata": {},
     "output_type": "execute_result"
    }
   ],
   "source": [
    "a = np.array([1.0, 2.0, 3.0])\n",
    "b = np.array([2.0, 2.0, 2.0])\n",
    "a * b"
   ]
  },
  {
   "cell_type": "code",
   "execution_count": 22,
   "metadata": {},
   "outputs": [
    {
     "data": {
      "text/plain": [
       "array([2., 4., 6.])"
      ]
     },
     "execution_count": 22,
     "metadata": {},
     "output_type": "execute_result"
    }
   ],
   "source": [
    "a = np.array([1.0, 2.0, 3.0])\n",
    "b = 2.0\n",
    "a * b"
   ]
  },
  {
   "cell_type": "markdown",
   "metadata": {},
   "source": [
    "![broadcasting](images/broadcast.png) (source: [numpy.org](https://numpy.org/doc/1.26/user/basics.broadcasting.html))"
   ]
  },
  {
   "cell_type": "code",
   "execution_count": 23,
   "metadata": {},
   "outputs": [
    {
     "name": "stdout",
     "output_type": "stream",
     "text": [
      "[[0]\n",
      " [1]\n",
      " [2]\n",
      " [3]] (4, 1)\n",
      "[[0.4813839  0.8687695  0.81365517]\n",
      " [1.10798174 1.35938361 1.39913614]\n",
      " [2.80371537 2.53196237 2.01891422]\n",
      " [3.04003937 3.76007798 3.42462216]] (4, 3)\n"
     ]
    }
   ],
   "source": [
    "array_4_1 = np.arange(4).reshape(4, 1)\n",
    "print(array_4_1, array_4_1.shape)\n",
    "B = np.random.rand(12).reshape(4, 3)\n",
    "\n",
    "# array_4_1 has shape (4, 1) so it can be broadcast to shape (4, 3) along B's horizontal axis\n",
    "# it's as if array_4_1 has been copied along the horizontal axis so that it can be added to B\n",
    "broadcasted = array_4_1 + B\n",
    "print(broadcasted, broadcasted.shape)"
   ]
  },
  {
   "cell_type": "code",
   "execution_count": 24,
   "metadata": {},
   "outputs": [
    {
     "name": "stdout",
     "output_type": "stream",
     "text": [
      "[[0 1 2]] (1, 3)\n",
      "[[0.         0.8687695  1.62731034]\n",
      " [0.         0.35938361 0.79827228]\n",
      " [0.         0.53196237 0.03782844]\n",
      " [0.         0.76007798 0.84924432]] (4, 3)\n"
     ]
    }
   ],
   "source": [
    "# Similarly, we can also broadcast an array of shape (1, 2) along B's vertical axis\n",
    "array_1_3 = np.arange(3).reshape(1, 3)\n",
    "print(array_1_3, array_1_3.shape)\n",
    "\n",
    "broadcasted = array_1_3 * B\n",
    "print(broadcasted, broadcasted.shape)"
   ]
  },
  {
   "cell_type": "markdown",
   "metadata": {},
   "source": [
    "## Array Products\n",
    "\n",
    "Contrary to the `*` operator, which performs element-wise multiplication between the arrays, `np.matmul` is the matrix product of the arrays."
   ]
  },
  {
   "cell_type": "code",
   "execution_count": 25,
   "metadata": {},
   "outputs": [
    {
     "name": "stdout",
     "output_type": "stream",
     "text": [
      "A shape: (8, 4), B shape: (4, 3), AB shape: (8, 3)\n",
      "[[0.51340703 0.56544331 0.65766186]\n",
      " [0.62102218 1.67766854 1.59044523]\n",
      " [0.76844203 1.41575416 1.43107949]\n",
      " [0.39014607 1.0100418  0.83320631]\n",
      " [0.56158998 0.84963258 0.71934134]\n",
      " [0.99012496 2.10592604 1.84311526]\n",
      " [0.48774041 1.31727515 1.25949316]\n",
      " [0.90635125 1.36246767 0.7460444 ]]\n"
     ]
    }
   ],
   "source": [
    "A = np.random.rand(32).reshape(8, 4)\n",
    "B = np.random.rand(12).reshape(4, 3)\n",
    "C = np.matmul(A, B)\n",
    "print(f\"A shape: {A.shape}, B shape: {B.shape}, AB shape: {C.shape}\")\n",
    "print(C)"
   ]
  },
  {
   "cell_type": "markdown",
   "metadata": {},
   "source": [
    "Newer versions of python introduced the `@` operator which is equivalent to `np.matmul` for 2D arrays (it is an overloaded operator). For 1D arrays, it is equivalent to the dot product."
   ]
  },
  {
   "cell_type": "code",
   "execution_count": 26,
   "metadata": {},
   "outputs": [
    {
     "name": "stdout",
     "output_type": "stream",
     "text": [
      "[[0.51340703 0.56544331 0.65766186]\n",
      " [0.62102218 1.67766854 1.59044523]\n",
      " [0.76844203 1.41575416 1.43107949]\n",
      " [0.39014607 1.0100418  0.83320631]\n",
      " [0.56158998 0.84963258 0.71934134]\n",
      " [0.99012496 2.10592604 1.84311526]\n",
      " [0.48774041 1.31727515 1.25949316]\n",
      " [0.90635125 1.36246767 0.7460444 ]] (8, 3)\n"
     ]
    }
   ],
   "source": [
    "C = A @ B\n",
    "print(C, C.shape)"
   ]
  },
  {
   "cell_type": "markdown",
   "metadata": {},
   "source": [
    "## Exercises\n",
    "\n",
    "### Task 1"
   ]
  },
  {
   "cell_type": "code",
   "execution_count": 27,
   "metadata": {},
   "outputs": [],
   "source": [
    "B = np.random.rand(4, 3)\n",
    "# Divide the array B by the number 2.5. Store the result in a variable C"
   ]
  },
  {
   "cell_type": "markdown",
   "metadata": {},
   "source": [
    "<details>\n",
    "\n",
    "<summary>Solution</summary>\n",
    "\n",
    "```python\n",
    "C = B / 2.5\n",
    "print(C)\n",
    "```\n",
    "\n",
    "</details>\n",
    "\n",
    "### Task 2"
   ]
  },
  {
   "cell_type": "code",
   "execution_count": 28,
   "metadata": {},
   "outputs": [],
   "source": [
    "# Create a new array filled with -1. The array must have the same shape as B. Store the result in a variable D\n"
   ]
  },
  {
   "cell_type": "markdown",
   "metadata": {},
   "source": [
    "<details>\n",
    "\n",
    "<summary>Solution</summary>\n",
    "\n",
    "```python\n",
    "D = np.full(12, -1).reshape(B.shape)\n",
    "print(D)\n",
    "```\n",
    "\n",
    "</details>\n",
    "\n",
    "### Task 3"
   ]
  },
  {
   "cell_type": "code",
   "execution_count": 29,
   "metadata": {},
   "outputs": [],
   "source": [
    "# Multiply this new array ELEMENT-WISE with B and store the result in a variable called E.\n"
   ]
  },
  {
   "cell_type": "markdown",
   "metadata": {},
   "source": [
    "<details>\n",
    "\n",
    "<summary>Solution</summary>\n",
    "\n",
    "```python\n",
    "E = D * C\n",
    "print(E)\n",
    "```\n",
    "\n",
    "</details>\n",
    "\n",
    "### Task 4"
   ]
  },
  {
   "cell_type": "code",
   "execution_count": 30,
   "metadata": {},
   "outputs": [
    {
     "name": "stdout",
     "output_type": "stream",
     "text": [
      "[[0 1]\n",
      " [2 3]]\n"
     ]
    }
   ],
   "source": [
    "# Consider the intermediate array below. Try and multiply it with D element-wise. What happens?\n",
    "intermediate_arr = np.arange(4).reshape(2, 2)\n",
    "print(intermediate_arr)"
   ]
  },
  {
   "cell_type": "code",
   "execution_count": 31,
   "metadata": {},
   "outputs": [],
   "source": [
    "# What could you do to make this multiplication work? (hint: try and make the intermediate array broadcastable to E)\n"
   ]
  },
  {
   "cell_type": "markdown",
   "metadata": {},
   "source": [
    "<details>\n",
    "\n",
    "<summary>Solution</summary>\n",
    "\n",
    "```python\n",
    "intermediate_arr = intermediate_arr.reshape(4, 1)\n",
    "F = E * intermediate_arr\n",
    "print(F)\n",
    "```\n",
    "\n",
    "</details>"
   ]
  },
  {
   "cell_type": "markdown",
   "metadata": {},
   "source": [
    "## Functions\n",
    "\n",
    "Another useful thing we might want to do with an array is to apply a function to each element. Generally speaking, it is best to use the built-in Numpy functions to work on numpy arrays instead of defining your own. This is because Numpy functions are highly optimised for speed, which is important when working with large amounts of data. Chances are, whatever kind of mathematical operation you want to perform on a Numpy array is already built in.  A full list can be found [here](https://numpy.org/doc/1.26/reference/routines.math.html)\n",
    "\n",
    "### Element-wise functions\n",
    "Common uses are applying trig functions to an array of values:"
   ]
  },
  {
   "cell_type": "code",
   "execution_count": 32,
   "metadata": {},
   "outputs": [
    {
     "data": {
      "image/png": "[encoded data removed]",
      "text/plain": [
       "<Figure size 640x480 with 1 Axes>"
      ]
     },
     "metadata": {},
     "output_type": "display_data"
    },
    {
     "data": {
      "image/png": "[encoded data removed]",
      "text/plain": [
       "<Figure size 640x480 with 1 Axes>"
      ]
     },
     "metadata": {},
     "output_type": "display_data"
    }
   ],
   "source": [
    "import matplotlib.pyplot as plt\n",
    "\n",
    "\n",
    "def simple_plot(x, y, label):\n",
    "    plt.plot(x, y)\n",
    "    plt.suptitle(label)\n",
    "    plt.show()\n",
    "\n",
    "\n",
    "# Element-wise functions:\n",
    "X = np.arange(0, 2 * np.pi, 0.2)\n",
    "Y = np.sin(X)\n",
    "simple_plot(X, Y, \"sin(X)\")\n",
    "\n",
    "Y_1 = np.exp(X)\n",
    "simple_plot(X, Y_1, \"exp(X)\")"
   ]
  },
  {
   "cell_type": "markdown",
   "metadata": {},
   "source": [
    "### Reduce functions\n",
    "These are applied along the selected axis, consume all the elements and reduce the axis down to 1 element. If no axis is specified, the function is applied to the whole array, and reduces it to a scalar "
   ]
  },
  {
   "cell_type": "code",
   "execution_count": 33,
   "metadata": {},
   "outputs": [
    {
     "name": "stdout",
     "output_type": "stream",
     "text": [
      "[[6.93135778e-01 1.76402798e-01 6.56244842e-01 5.63858223e-01]\n",
      " [9.70063760e-02 5.67491231e-01 1.39290283e-01 6.55712436e-02]\n",
      " [2.92862138e-01 3.64347482e-01 6.00212799e-01 3.63782814e-01]\n",
      " [1.43311898e-01 9.72395609e-01 6.25188454e-02 6.83424260e-03]\n",
      " [3.78872300e-01 4.74173960e-01 6.05128466e-01 5.84737318e-01]\n",
      " [4.68334796e-01 7.88394385e-01 1.86582985e-01 3.07813815e-02]\n",
      " [6.68185235e-01 5.71303754e-01 9.99284136e-01 7.92456685e-04]\n",
      " [5.49441385e-01 1.03679169e-01 9.80527695e-01 8.42026288e-02]]\n",
      "Maximum value in A: \n",
      "0.9992841363310929\n",
      "Average of each column in A: \n",
      "[[0.41139374 0.50227355 0.52872376 0.21257004]]\n",
      "Minimum value in each row in A: \n",
      "[[0.1764028 ]\n",
      " [0.06557124]\n",
      " [0.29286214]\n",
      " [0.00683424]\n",
      " [0.3788723 ]\n",
      " [0.03078138]\n",
      " [0.00079246]\n",
      " [0.08420263]]\n"
     ]
    }
   ],
   "source": [
    "A = np.random.rand(32).reshape(8, 4)\n",
    "print(A)\n",
    "\n",
    "I = A.max()\n",
    "print(f\"Maximum value in A: \\n{I}\")\n",
    "\n",
    "I_2 = np.mean(\n",
    "    A, axis=0, keepdims=True\n",
    ")  # keepdims is needed to preserve the original shape of the axis\n",
    "print(f\"Average of each column in A: \\n{I_2}\")\n",
    "\n",
    "I_3 = A.min(axis=1, keepdims=True)\n",
    "print(f\"Minimum value in each row in A: \\n{I_3}\")"
   ]
  },
  {
   "cell_type": "markdown",
   "metadata": {},
   "source": [
    "## Exercises\n",
    "\n",
    "### Task 1"
   ]
  },
  {
   "cell_type": "code",
   "execution_count": 34,
   "metadata": {},
   "outputs": [],
   "source": [
    "# Have a look at the trigonometric functions listed in the official numpy documentation: https://numpy.org/doc/stable/reference/routines.math.html\n",
    "# Pick any element-wise function that takes 1 argument and apply it to the following array. store the result in a variable called Ys\n",
    "Xs = np.arange(-2 * np.pi, 2 * np.pi, 0.1)"
   ]
  },
  {
   "cell_type": "markdown",
   "metadata": {},
   "source": [
    "<details>\n",
    "\n",
    "<summary>Solution</summary>\n",
    "\n",
    "```python\n",
    "Ys = np.arctan(Xs)\n",
    "print(Ys)\n",
    "```\n",
    "\n",
    "</details>\n",
    "\n",
    "### Task 2"
   ]
  },
  {
   "cell_type": "code",
   "execution_count": 35,
   "metadata": {},
   "outputs": [],
   "source": [
    "# Call our previously-defined simple plot function and display your result! Give the plot a suitable title\n"
   ]
  },
  {
   "cell_type": "markdown",
   "metadata": {},
   "source": [
    "<details>\n",
    "\n",
    "<summary>Solution</summary>\n",
    "\n",
    "```python\n",
    "simple_plot(Xs, Ys, \"arctan(Ys)\")\n",
    "```\n",
    "\n",
    "</details>\n",
    "\n",
    "### Task 3"
   ]
  },
  {
   "cell_type": "code",
   "execution_count": 36,
   "metadata": {},
   "outputs": [],
   "source": [
    "# Use a suitable Numpy reduce function to find the maximum value of your function's result\n"
   ]
  },
  {
   "cell_type": "markdown",
   "metadata": {},
   "source": [
    "<details>\n",
    "\n",
    "<summary>Solution</summary>\n",
    "\n",
    "```python\n",
    "max_val = np.max(Ys)\n",
    "print(max_val)\n",
    "```\n",
    "\n",
    "</details>\n"
   ]
  },
  {
   "cell_type": "markdown",
   "metadata": {},
   "source": [
    "## ```numpy.where```\n",
    "\n",
    "This allows us to conditionally modify the elements of an array, which can be useful for tasks like thresholding or masking."
   ]
  },
  {
   "cell_type": "code",
   "execution_count": 37,
   "metadata": {},
   "outputs": [
    {
     "data": {
      "text/plain": [
       "array([[ 0,  0,  0,  0,  0,  0,  0,  0,  0,  0],\n",
       "       [ 0,  0,  0,  0,  0,  0,  0,  0,  0,  0],\n",
       "       [ 0,  0,  0,  0,  0,  0,  0,  0,  0,  0],\n",
       "       [ 0,  0,  0,  0,  0,  0,  0,  0,  0,  0],\n",
       "       [ 0,  0,  0,  0,  0,  0,  0,  0,  0,  0],\n",
       "       [50, 51, 52, 53, 54, 55, 56, 57, 58, 59],\n",
       "       [60, 61, 62, 63, 64, 65, 66, 67, 68, 69],\n",
       "       [70, 71, 72, 73, 74, 75, 76, 77, 78, 79],\n",
       "       [80, 81, 82, 83, 84, 85, 86, 87, 88, 89],\n",
       "       [90, 91, 92, 93, 94, 95, 96, 97, 98, 99]])"
      ]
     },
     "execution_count": 37,
     "metadata": {},
     "output_type": "execute_result"
    }
   ],
   "source": [
    "big_image = np.arange(10 * 10).reshape(10, 10)\n",
    "big_image_thresh = np.where(big_image < 50, 0, big_image)\n",
    "big_image_thresh"
   ]
  },
  {
   "cell_type": "markdown",
   "metadata": {},
   "source": [
    "## Exercise"
   ]
  },
  {
   "cell_type": "code",
   "execution_count": 38,
   "metadata": {},
   "outputs": [],
   "source": [
    "# Create a Numpy array of shape (10, 5) and fill it with random values between 0 and 1. Store it in a variable called J\n"
   ]
  },
  {
   "cell_type": "markdown",
   "metadata": {},
   "source": [
    "\n",
    "<details>\n",
    "\n",
    "<summary>Solution</summary>\n",
    "\n",
    "```python\n",
    "J = np.random.rand(10*5).reshape(10, 5)\n",
    "print(J)\n",
    "```\n",
    "\n",
    "</details>\n"
   ]
  },
  {
   "cell_type": "code",
   "execution_count": 39,
   "metadata": {},
   "outputs": [],
   "source": [
    "# Conditionally modify the array such that numbers below 0.5 are replaced with 0 and numbers above or equal to 0.5 are replaced with 1. Store the result in a variable called K\n"
   ]
  },
  {
   "cell_type": "markdown",
   "metadata": {},
   "source": [
    "\n",
    "<details>\n",
    "\n",
    "<summary>Solution</summary>\n",
    "\n",
    "```python\n",
    "K = np.where(J<0.5, 0, 1)\n",
    "print(K)\n",
    "```\n",
    "\n",
    "</details>\n"
   ]
  },
  {
   "cell_type": "markdown",
   "metadata": {},
   "source": [
    "# Practical Example\n",
    "\n",
    "The following function will plot pairs of x and y values on a graph. We will use this to plot the results of the following exercises.\n"
   ]
  },
  {
   "cell_type": "code",
   "execution_count": 40,
   "metadata": {},
   "outputs": [],
   "source": [
    "def plot_points(point):\n",
    "    plt.rcParams[\"figure.figsize\"] = [3.50, 3.50]\n",
    "    plt.rcParams[\"figure.autolayout\"] = True\n",
    "    x = point[0::2]  # even indices for x\n",
    "    y = point[1::2]  # odd indices for y\n",
    "    lims = 3\n",
    "    fig = plt.figure()\n",
    "    ax = fig.add_subplot(111)\n",
    "    plt.xlim(-lims, lims)\n",
    "    plt.ylim(-lims, lims)\n",
    "    plt.grid()\n",
    "    ax.plot(\n",
    "        x, y, marker=\"o\", markersize=7, markeredgecolor=\"black\", markerfacecolor=\"red\"\n",
    "    )\n",
    "    ax.spines[\"left\"].set_position(\"zero\")\n",
    "    ax.spines[\"right\"].set_color(\"none\")\n",
    "    ax.spines[\"bottom\"].set_position(\"zero\")\n",
    "    ax.spines[\"top\"].set_color(\"none\")\n",
    "    plt.show()"
   ]
  },
  {
   "cell_type": "code",
   "execution_count": 41,
   "metadata": {},
   "outputs": [
    {
     "name": "stdout",
     "output_type": "stream",
     "text": [
      "(4, 2)\n",
      "(8,)\n"
     ]
    },
    {
     "data": {
      "image/png": "[encoded data removed]",
      "text/plain": [
       "<Figure size 350x350 with 1 Axes>"
      ]
     },
     "metadata": {},
     "output_type": "display_data"
    }
   ],
   "source": [
    "points = np.array([[0, 1], [1, 2], [2, 1], [0, 1]])\n",
    "print(points.shape)\n",
    "triangle = points.flatten()\n",
    "print(triangle.shape)\n",
    "plot_points(triangle)"
   ]
  },
  {
   "cell_type": "markdown",
   "metadata": {},
   "source": [
    "Now we will define a function to generate a 2D rotation matrix. This will be used to rotate a set of points in 2D space. The rotation matrix is defined as:\n",
    "\n",
    "$$  \\begin{bmatrix} \\cos(\\theta) & -\\sin(\\theta) \\\\ \\sin(\\theta) & \\cos(\\theta) \\end{bmatrix} $$\n",
    "\n",
    "Where $\\theta$ is the angle of rotation in radians.\n"
   ]
  },
  {
   "cell_type": "code",
   "execution_count": 42,
   "metadata": {},
   "outputs": [],
   "source": [
    "import math\n",
    "\n",
    "\n",
    "def get_rotation_matrix(angle):\n",
    "    angle = math.radians(angle)\n",
    "    return np.array([[np.cos(angle), np.sin(angle)], [-np.sin(angle), np.cos(angle)]])"
   ]
  },
  {
   "cell_type": "code",
   "execution_count": 43,
   "metadata": {},
   "outputs": [
    {
     "name": "stdout",
     "output_type": "stream",
     "text": [
      "[[ 6.123234e-17  1.000000e+00]\n",
      " [-1.000000e+00  6.123234e-17]]\n"
     ]
    }
   ],
   "source": [
    "print(get_rotation_matrix(90))"
   ]
  },
  {
   "cell_type": "code",
   "execution_count": 44,
   "metadata": {},
   "outputs": [
    {
     "name": "stdout",
     "output_type": "stream",
     "text": [
      "[[-0.70710678  0.70710678]\n",
      " [-0.70710678  2.12132034]\n",
      " [ 0.70710678  2.12132034]\n",
      " [-0.70710678  0.70710678]]\n"
     ]
    },
    {
     "data": {
      "image/png": "[encoded data removed]",
      "text/plain": [
       "<Figure size 350x350 with 1 Axes>"
      ]
     },
     "metadata": {},
     "output_type": "display_data"
    }
   ],
   "source": [
    "rot_matrix = get_rotation_matrix(45)\n",
    "rotated_triangle = points @ rot_matrix\n",
    "print(rotated_triangle)\n",
    "plot_points(rotated_triangle.flatten())"
   ]
  },
  {
   "cell_type": "markdown",
   "metadata": {},
   "source": [
    "We can add a translation to the rotation matrix to move the points to a new location. The translation matrix is defined as:\n",
    "\n",
    "$$  \\begin{bmatrix} x \\\\ y \\end{bmatrix} $$\n",
    "\n",
    "Where x and y are the amount to move the points in the x and y directions respectively.\n"
   ]
  },
  {
   "cell_type": "code",
   "execution_count": 45,
   "metadata": {},
   "outputs": [
    {
     "data": {
      "image/png": "[encoded data removed]",
      "text/plain": [
       "<Figure size 350x350 with 1 Axes>"
      ]
     },
     "metadata": {},
     "output_type": "display_data"
    }
   ],
   "source": [
    "translate = np.array([-2, 0])\n",
    "rotated_triangle = (points @ rot_matrix) + translate\n",
    "plot_points(rotated_triangle.flatten())"
   ]
  },
  {
   "cell_type": "code",
   "execution_count": null,
   "metadata": {},
   "outputs": [],
   "source": []
  }
 ],
 "metadata": {
  "kernelspec": {
   "display_name": "Python 3 (ipykernel)",
   "language": "python",
   "name": "python3"
  },
  "language_info": {
   "codemirror_mode": {
    "name": "ipython",
    "version": 3
   },
   "file_extension": ".py",
   "mimetype": "text/x-python",
   "name": "python",
   "nbconvert_exporter": "python",
   "pygments_lexer": "ipython3",
   "version": "3.13.2"
  }
 },
 "nbformat": 4,
 "nbformat_minor": 4
}
