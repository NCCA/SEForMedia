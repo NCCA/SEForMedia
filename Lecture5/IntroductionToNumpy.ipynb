{
 "cells": [
  {
   "cell_type": "markdown",
   "metadata": {},
   "source": [
    "# [Numpy](https://numpy.org/)\n",
    "\n",
    "This notebook is a companion to the lecture slides [here](https://nccastaff.bournemouth.ac.uk/jmacey/SEForMedia/lectures/Lecture5/), it will be used to introduce numpy as well as other concepts. Note that we are still using Numpy 1.26.x so some of the newer features may not be available. For full documentation see [here](https://numpy.org/doc/1.26/index.html).\n",
    "\n",
    "## Getting Started\n",
    "\n",
    "numpy is already installed as part of the Anaconda distribution, so you should be able to import it directly. If you are using a different Python distribution you may need to install it using pip. The following code cell will import numpy and check the version you are using."
   ]
  },
  {
   "cell_type": "code",
   "execution_count": 6,
   "metadata": {},
   "outputs": [
    {
     "name": "stdout",
     "output_type": "stream",
     "text": [
      "1.26.4\n"
     ]
    }
   ],
   "source": [
    "import numpy as np\n",
    "print(np.__version__)"
   ]
  },
  {
   "cell_type": "markdown",
   "metadata": {},
   "source": [
    "In the above example we import ```numpy as np``` this is a common convention as it makes it easier to type and read the code. We are creating an alias called ```np``` that contains all the numpy functions. This is a common convention in python programming. "
   ]
  },
  {
   "cell_type": "markdown",
   "metadata": {},
   "source": [
    "## Arrays\n",
    "\n",
    "The core data type in numpy is the array, this is similar to a list but can be multi-dimensional. They can be created in a number of ways for example\n",
    "\n",
    "1. Instantiated using values from a normal Python list\n",
    "2. Filled with sequential values upto a target number\n",
    "3. Filled with a specific value\n",
    "4. Filled with random values (various random distributions [available](https://numpy.org/doc/1.26/reference/random/index.html)) \n",
    "\n",
    "\n",
    "For a full list of array creation routines, please see [here](https://numpy.org/doc/1.26/reference/routines.array-creation.html) "
   ]
  },
  {
   "cell_type": "code",
   "execution_count": 7,
   "metadata": {},
   "outputs": [
    {
     "name": "stdout",
     "output_type": "stream",
     "text": [
      "[   2    4    8   16   32   64  128  256  512 1024] <class 'numpy.ndarray'>\n"
     ]
    }
   ],
   "source": [
    "#Array creation from python list\n",
    "python_list = [2, 4, 8, 16, 32, 64, 128, 256, 512, 1024]\n",
    "np_from_list = np.array(python_list)  \n",
    "print(np_from_list, type(np_from_list))"
   ]
  },
  {
   "cell_type": "code",
   "execution_count": 8,
   "metadata": {},
   "outputs": [
    {
     "name": "stdout",
     "output_type": "stream",
     "text": [
      "[ 0  1  2  3  4  5  6  7  8  9 10 11 12 13 14 15 16 17 18 19]\n"
     ]
    }
   ],
   "source": [
    "# Array creation with sequential values \n",
    "# arange always returns a 1D array, will need to reshape it separately if\n",
    "# we wish to do so\n",
    "seq_array = np.arange(20)\n",
    "print(seq_array)"
   ]
  },
  {
   "cell_type": "code",
   "execution_count": 9,
   "metadata": {},
   "outputs": [
    {
     "name": "stdout",
     "output_type": "stream",
     "text": [
      "[0.20729322 0.96606688 0.62766715 0.0063381  0.42871963 0.28034901\n",
      " 0.94911396 0.61570658 0.14666267 0.40034929]\n"
     ]
    }
   ],
   "source": [
    "#Array creation with random values \n",
    "random_array = np.random.rand(10)  # returns an array filled with 10 random floats between 0 and 1\n",
    "print(random_array)"
   ]
  },
  {
   "cell_type": "markdown",
   "metadata": {},
   "source": []
  },
  {
   "cell_type": "code",
   "execution_count": 10,
   "metadata": {},
   "outputs": [
    {
     "name": "stdout",
     "output_type": "stream",
     "text": [
      "[255 255 255 255 255 255 255 255 255 255]\n"
     ]
    }
   ],
   "source": [
    "#Array filled with the same specific value\n",
    "filled_array = np.full(10, 255)  # returns an array filled with 10 instances of 255\n",
    "print(filled_array)"
   ]
  },
  {
   "cell_type": "markdown",
   "metadata": {},
   "source": [
    "## Array Shape\n",
    "\n",
    "In NumPy, an array’s shape refers to the dimensions of the array, specifying how many elements it contains along each axis. The shape of a NumPy array is represented as a tuple of integers, where each integer represents the size of the array along that dimension.\n",
    "\n",
    "This is a key concept in numpy as it allows you to create multi-dimensional arrays. For example, a 2D array has a shape of (rows, columns) and a 3D array has a shape of (depth, rows, columns). We use this to represent our data when we input it into a neural network.\n",
    "\n",
    "So far we have only created 1D arrayas, but we can create multi-dimensional arrays by passing in a tuple of values to the array function.\n",
    "\n",
    "**1D Array (Vector):**\n",
    "- Shape: (n,) where n is the number of elements.\n",
    "\n"
   ]
  },
  {
   "cell_type": "code",
   "execution_count": 11,
   "metadata": {},
   "outputs": [
    {
     "name": "stdout",
     "output_type": "stream",
     "text": [
      "(3,)\n"
     ]
    }
   ],
   "source": [
    "arr = np.array([1, 2, 3])\n",
    "print(arr.shape)  # Output: (3,)"
   ]
  },
  {
   "cell_type": "markdown",
   "metadata": {},
   "source": [
    "**2D Array (Matrix):**\n",
    "\n",
    "- Shape: (n, m) where n is the number of rows and m is the number of columns."
   ]
  },
  {
   "cell_type": "code",
   "execution_count": 12,
   "metadata": {},
   "outputs": [
    {
     "name": "stdout",
     "output_type": "stream",
     "text": [
      "(3, 2)\n"
     ]
    }
   ],
   "source": [
    "arr = np.array([[1, 2], [3, 4], [5, 6]])\n",
    "print(arr.shape)  # Output: (3, 2)"
   ]
  },
  {
   "cell_type": "markdown",
   "metadata": {},
   "source": [
    "**3D Array:**\n",
    "- Shape: (n, m, p) where n is the number of matrices, m is the number of rows, and p is the number of columns in each matrix."
   ]
  },
  {
   "cell_type": "code",
   "execution_count": 13,
   "metadata": {},
   "outputs": [
    {
     "name": "stdout",
     "output_type": "stream",
     "text": [
      "(2, 2, 2)\n"
     ]
    }
   ],
   "source": [
    "arr = np.array([[[1, 2], [3, 4]], [[5, 6], [7, 8]]])\n",
    "print(arr.shape)  # Output: (2, 2, 2)"
   ]
  },
  {
   "cell_type": "markdown",
   "metadata": {},
   "source": [
    "### Why Do We Need Array Shapes?\n",
    "\n",
    "1.\tUnderstanding Data Structure: Knowing the shape of an array tells you how the data is organized. For example, whether the data is a single vector, a 2D matrix, or a multi-dimensional dataset is important for operations like indexing, reshaping, or applying functions.\n",
    "2.\tEfficient Computation: Many mathematical operations in NumPy, like matrix multiplication, element-wise operations, or broadcasting, depend on the array’s shape. Mismatched shapes can cause errors, so understanding the shape helps ensure proper operation.\n",
    "\n",
    "## Reshaping Arrays\n",
    "\n",
    "Reshaping an array means changing the shape of the array without changing the data it contains. This is a common operation when working with neural networks as we often need to change the shape of the data to fit the input layer of the network.\n",
    "\n",
    "One of the many things that set Numpy arrays apart from Python lists is their `reshape` method. This allows you to define the number of dimensions that the structure represented by the array has. For example, the array `np_from_list` that we have just defined is just a flat list of numbers at the present. `reshape` helps us represent it as a 2D data structure (a matrix). Keep in mind that the shape that you put into this method must agree with the number of elements in the array. In our example, the array has 10 elements, so acceptable shapes include:\n",
    "* 5, 2\n",
    "* 2, 5\n",
    "* 1, 10\n",
    "* 10, 1"
   ]
  },
  {
   "cell_type": "code",
   "execution_count": 14,
   "metadata": {},
   "outputs": [
    {
     "name": "stdout",
     "output_type": "stream",
     "text": [
      "[[   2    4]\n",
      " [   8   16]\n",
      " [  32   64]\n",
      " [ 128  256]\n",
      " [ 512 1024]]\n",
      "matrix_5_2.shape=(5, 2)\n"
     ]
    }
   ],
   "source": [
    "matrix_5_2 = np_from_list.reshape(5,2)\n",
    "print(matrix_5_2)\n",
    "print(f\"{matrix_5_2.shape=}\")"
   ]
  },
  {
   "cell_type": "code",
   "execution_count": 15,
   "metadata": {},
   "outputs": [
    {
     "name": "stdout",
     "output_type": "stream",
     "text": [
      "[[ 0  1  2  3  4  5  6  7  8  9]\n",
      " [10 11 12 13 14 15 16 17 18 19]]\n",
      "matrix_2_10 shape: (2, 10)\n"
     ]
    }
   ],
   "source": [
    "matrix_2_10 = seq_array.reshape(2,10)\n",
    "print(matrix_2_10)\n",
    "print(f\"matrix_2_10 shape: {matrix_2_10.shape}\")"
   ]
  },
  {
   "cell_type": "code",
   "execution_count": 16,
   "metadata": {},
   "outputs": [
    {
     "data": {
      "text/plain": [
       "array([[32, 32],\n",
       "       [32, 32],\n",
       "       [32, 32],\n",
       "       [32, 32],\n",
       "       [32, 32]])"
      ]
     },
     "execution_count": 16,
     "metadata": {},
     "output_type": "execute_result"
    }
   ],
   "source": [
    "# You can also pass a desired shape into the array creation function to instantiate\n",
    "# an array with a pre-defined shape\n",
    "array_from_shape = np.full(matrix_5_2.shape, 32)\n",
    "array_from_shape"
   ]
  },
  {
   "cell_type": "markdown",
   "metadata": {},
   "source": [
    "## Exercises\n",
    "\n",
    "The following cells have been set up to help you learn how to use numpy. The comments in the cells will ask you to complete a simple numpy task. Experiment with the code and see what happens.\n",
    "\n",
    "### Task 1"
   ]
  },
  {
   "cell_type": "code",
   "execution_count": 17,
   "metadata": {},
   "outputs": [],
   "source": [
    "# Create a Numpy array A that contains the integers from 0 - 31 (32 elements long)\n"
   ]
  },
  {
   "cell_type": "markdown",
   "metadata": {},
   "source": [
    "<details>\n",
    "\n",
    "<summary>Solution</summary>\n",
    "\n",
    "```python\n",
    "A = np.arange(32)\n",
    "print(A)\n",
    "```\n",
    "\n",
    "</details>\n",
    "\n",
    "### Task 2"
   ]
  },
  {
   "cell_type": "code",
   "execution_count": 18,
   "metadata": {},
   "outputs": [],
   "source": [
    "# Create a Numpy array B that contains 12 random numbers between 0 and 1\n"
   ]
  },
  {
   "cell_type": "markdown",
   "metadata": {},
   "source": [
    "<details>\n",
    "\n",
    "<summary>Solution</summary>\n",
    "\n",
    "```python\n",
    "B = np.random.rand(12)\n",
    "print(B)\n",
    "```\n",
    "\n",
    "</details>\n",
    "\n",
    "## Task 3"
   ]
  },
  {
   "cell_type": "code",
   "execution_count": 19,
   "metadata": {},
   "outputs": [],
   "source": [
    "# Turn A into a 2d matrix of shape (8, 4) - 8 rows, 4 columns\n"
   ]
  },
  {
   "cell_type": "markdown",
   "metadata": {},
   "source": [
    "<details>\n",
    "\n",
    "<summary>Solution</summary>\n",
    "\n",
    "```python\n",
    "A = A.reshape(8, 4)\n",
    "print(A)\n",
    "```\n",
    "\n",
    "</details>\n",
    "\n",
    "## Task 4"
   ]
  },
  {
   "cell_type": "code",
   "execution_count": 20,
   "metadata": {},
   "outputs": [],
   "source": [
    "# Turn B into a 2d matrix of shape (4, 3)\n"
   ]
  },
  {
   "cell_type": "markdown",
   "metadata": {},
   "source": [
    "<details>\n",
    "\n",
    "<summary>Solution</summary>\n",
    "\n",
    "```python\n",
    "B = B.reshape(4, 3)\n",
    "print(B)\n",
    "```\n",
    "\n",
    "</details>"
   ]
  },
  {
   "cell_type": "markdown",
   "metadata": {},
   "source": [
    "## Array operations\n",
    "\n",
    "Once you have created an array, there are various operations you may want to perform on them. We'll go through some of the most common ones in the next few cells.\n",
    "\n",
    "### Binary operators\n",
    "\n",
    "Similar to normal counting numbers, Numpy arrays can be used as arguments to binary arithmetic operators like ```*``` (multiplication), ```+``` (addition), ```-```(subtraction) and ```/```(division). However, these can only be applied to arrays under certain conditions:\n",
    "\n",
    "1. The arrays have the same shape, OR\n",
    "2. The operation is between an array and a scalar, OR\n",
    "3. The operations is between 2 arrays of different shapes that can be \"broadcast\" together - more on this later\n",
    "\n",
    "These operations are applied **element-wise** meaning each element in the array is combined with its corresponding element at the same position in the other array"
   ]
  },
  {
   "cell_type": "code",
   "execution_count": 21,
   "metadata": {},
   "outputs": [
    {
     "name": "stdout",
     "output_type": "stream",
     "text": [
      "(8, 4)\n",
      "[[0.78160749 0.07284568 0.7450879  0.59711876]\n",
      " [0.59401062 0.62187722 0.95461225 0.84448063]\n",
      " [0.68108717 0.43750989 0.52276983 0.27799672]\n",
      " [0.10494896 0.47796752 0.16915211 0.1302655 ]\n",
      " [0.10442071 0.46719195 0.0384034  0.2716574 ]\n",
      " [0.34919251 0.75916611 0.51582421 0.77182996]\n",
      " [0.28413669 0.50353351 0.81536199 0.17646005]\n",
      " [0.06950464 0.63656566 0.99722089 0.61593171]]\n",
      "[[11.78160749 11.07284568 11.7450879  11.59711876]\n",
      " [11.59401062 11.62187722 11.95461225 11.84448063]\n",
      " [11.68108717 11.43750989 11.52276983 11.27799672]\n",
      " [11.10494896 11.47796752 11.16915211 11.1302655 ]\n",
      " [11.10442071 11.46719195 11.0384034  11.2716574 ]\n",
      " [11.34919251 11.75916611 11.51582421 11.77182996]\n",
      " [11.28413669 11.50353351 11.81536199 11.17646005]\n",
      " [11.06950464 11.63656566 11.99722089 11.61593171]]\n"
     ]
    }
   ],
   "source": [
    "# Addition with a scalar\n",
    "arr = np.random.rand(32).reshape((8,4))\n",
    "print(arr.shape)\n",
    "print(arr)\n",
    "scalar_add_array = 11 + arr \n",
    "print(scalar_add_array)"
   ]
  },
  {
   "cell_type": "code",
   "execution_count": 22,
   "metadata": {},
   "outputs": [
    {
     "name": "stdout",
     "output_type": "stream",
     "text": [
      "[[-4.21839251 -4.92715432 -4.2549121  -4.40288124]\n",
      " [-4.40598938 -4.37812278 -4.04538775 -4.15551937]\n",
      " [-4.31891283 -4.56249011 -4.47723017 -4.72200328]\n",
      " [-4.89505104 -4.52203248 -4.83084789 -4.8697345 ]\n",
      " [-4.89557929 -4.53280805 -4.9615966  -4.7283426 ]\n",
      " [-4.65080749 -4.24083389 -4.48417579 -4.22817004]\n",
      " [-4.71586331 -4.49646649 -4.18463801 -4.82353995]\n",
      " [-4.93049536 -4.36343434 -4.00277911 -4.38406829]]\n"
     ]
    }
   ],
   "source": [
    "# Subtraction with another array of same shape\n",
    "A  = np.full(32, 5).reshape((8,4)) # 8x4 matrix with all elements as 5\n",
    "sub_array = arr - A \n",
    "print(sub_array)"
   ]
  },
  {
   "cell_type": "code",
   "execution_count": 23,
   "metadata": {},
   "outputs": [
    {
     "name": "stdout",
     "output_type": "stream",
     "text": [
      "[[3.90803744 0.3642284  3.72543949 2.98559378]\n",
      " [2.97005312 3.10938612 4.77306127 4.22240315]\n",
      " [3.40543584 2.18754947 2.61384916 1.38998358]\n",
      " [0.5247448  2.38983759 0.84576053 0.65132751]\n",
      " [0.52210357 2.33595973 0.19201698 1.35828698]\n",
      " [1.74596253 3.79583054 2.57912107 3.85914978]\n",
      " [1.42068345 2.51766755 4.07680995 0.88230023]\n",
      " [0.34752319 3.18282831 4.98610446 3.07965855]]\n"
     ]
    }
   ],
   "source": [
    "# Multiplication with another array of same shape\n",
    "mul_array = arr * A \n",
    "print(mul_array)"
   ]
  },
  {
   "cell_type": "code",
   "execution_count": 24,
   "metadata": {},
   "outputs": [
    {
     "name": "stdout",
     "output_type": "stream",
     "text": [
      "[[ 14.07356017 151.00415154  14.76335885  18.42179614]\n",
      " [ 18.51818732  17.68837897  11.52300313  13.02575762]\n",
      " [ 16.1506493   25.1422885   21.04176509  39.56881263]\n",
      " [104.81285327  23.01411622  65.03022762  84.44292466]\n",
      " [105.34308375  23.54492648 286.43299797  40.49217932]\n",
      " [ 31.50124878  14.48958255  21.32509425  14.25184385]\n",
      " [ 38.71376139  21.84561663  13.49094039  62.33705741]\n",
      " [158.26282199  17.28022833  11.03065538  17.8591227 ]]\n"
     ]
    }
   ],
   "source": [
    "# Division by a scalar\n",
    "div_array = 11 / arr \n",
    "print(div_array)"
   ]
  },
  {
   "cell_type": "code",
   "execution_count": 25,
   "metadata": {},
   "outputs": [
    {
     "name": "stdout",
     "output_type": "stream",
     "text": [
      "[[inf inf inf inf]\n",
      " [inf inf inf inf]\n",
      " [inf inf inf inf]\n",
      " [inf inf inf inf]\n",
      " [inf inf inf inf]\n",
      " [inf inf inf inf]\n",
      " [inf inf inf inf]\n",
      " [inf inf inf inf]]\n"
     ]
    },
    {
     "name": "stderr",
     "output_type": "stream",
     "text": [
      "/var/folders/gn/c4kfmwrs2ml20f60x0lhnmjw0000gn/T/ipykernel_76385/792541156.py:2: RuntimeWarning: divide by zero encountered in divide\n",
      "  div_array =  arr  / 0\n"
     ]
    }
   ],
   "source": [
    "# Division by a zero is a special case, see what happens\n",
    "div_array =  arr  / 0\n",
    "print(div_array)"
   ]
  },
  {
   "cell_type": "markdown",
   "metadata": {},
   "source": [
    "## Broadcasting\n",
    "\n",
    "As long as an array's dimensions are compatible with their counterparts in the other array, they can be \"broadcasted\" together. This means that numpy will 'strectch' the smaller dimension along its axis so that element-wise operations can be applied between them. In general, 2 arrays can be broadcast together if each dimension in one array is compatible with its counterpart in the other array. Dimensions are compatible if they are equal or one of them is equal to 1. The dimension of size 1 is expanded to fit the size of its counterpart see [broadcasting rules](https://numpy.org/doc/1.26/user/basics.broadcasting.html) for more information.\n"
   ]
  },
  {
   "cell_type": "code",
   "execution_count": 26,
   "metadata": {},
   "outputs": [
    {
     "data": {
      "text/plain": [
       "array([2., 4., 6.])"
      ]
     },
     "execution_count": 26,
     "metadata": {},
     "output_type": "execute_result"
    }
   ],
   "source": [
    "a = np.array([1.0, 2.0, 3.0])\n",
    "b = np.array([2.0, 2.0, 2.0])\n",
    "a * b\n"
   ]
  },
  {
   "cell_type": "code",
   "execution_count": 27,
   "metadata": {},
   "outputs": [
    {
     "data": {
      "text/plain": [
       "array([2., 4., 6.])"
      ]
     },
     "execution_count": 27,
     "metadata": {},
     "output_type": "execute_result"
    }
   ],
   "source": [
    "a = np.array([1.0, 2.0, 3.0])\n",
    "b = 2.0\n",
    "a * b"
   ]
  },
  {
   "cell_type": "markdown",
   "metadata": {},
   "source": [
    "![broadcasting](images/broadcast.png) (source: [numpy.org](https://numpy.org/doc/1.26/user/basics.broadcasting.html))"
   ]
  },
  {
   "cell_type": "code",
   "execution_count": 28,
   "metadata": {},
   "outputs": [
    {
     "name": "stdout",
     "output_type": "stream",
     "text": [
      "[[0]\n",
      " [1]\n",
      " [2]\n",
      " [3]] (4, 1)\n",
      "[[0.69140541 0.44214255 0.23752403]\n",
      " [1.59566747 1.61882099 1.71281069]\n",
      " [2.25734298 2.12906585 2.29024145]\n",
      " [3.25299165 3.60384777 3.90540844]] (4, 3)\n"
     ]
    }
   ],
   "source": [
    "array_4_1 = np.arange(4).reshape(4,1)\n",
    "print(array_4_1, array_4_1.shape)  \n",
    "B = np.random.rand(12).reshape(4, 3)\n",
    "\n",
    "# array_4_1 has shape (4, 1) so it can be broadcast to shape (4, 3) along B's horizontal axis\n",
    "# it's as if array_4_1 has been copied along the horizontal axis so that it can be added to B\n",
    "broadcasted = array_4_1 + B\n",
    "print(broadcasted, broadcasted.shape)"
   ]
  },
  {
   "cell_type": "code",
   "execution_count": 29,
   "metadata": {},
   "outputs": [
    {
     "name": "stdout",
     "output_type": "stream",
     "text": [
      "[[0 1 2]] (1, 3)\n",
      "[[0.         0.44214255 0.47504806]\n",
      " [0.         0.61882099 1.42562139]\n",
      " [0.         0.12906585 0.58048291]\n",
      " [0.         0.60384777 1.81081687]] (4, 3)\n"
     ]
    }
   ],
   "source": [
    "# Similarly, we can also broadcast an array of shape (1, 2) along B's vertical axis\n",
    "array_1_3 = np.arange(3).reshape(1,3)\n",
    "print(array_1_3, array_1_3.shape)\n",
    "\n",
    "broadcasted = array_1_3 * B\n",
    "print(broadcasted, broadcasted.shape)"
   ]
  },
  {
   "cell_type": "markdown",
   "metadata": {},
   "source": [
    "## Array Products\n",
    "\n",
    "Contrary to the `*` operator, which performs element-wise multiplication between the arrays, `np.matmul` is the matrix product of the arrays."
   ]
  },
  {
   "cell_type": "code",
   "execution_count": 30,
   "metadata": {},
   "outputs": [
    {
     "name": "stdout",
     "output_type": "stream",
     "text": [
      "A shape: (8, 4), B shape: (4, 3), AB shape: (8, 3)\n",
      "[[1.02110473 1.13058643 1.50616263]\n",
      " [1.36302668 1.55476773 1.61634107]\n",
      " [1.15236278 1.4802956  1.30364876]\n",
      " [1.51070473 1.38412395 1.77283633]\n",
      " [0.98138344 1.29974252 1.1776172 ]\n",
      " [0.71848864 0.5823716  0.60149777]\n",
      " [1.07618248 1.0247762  1.40326735]\n",
      " [1.19610033 1.35762161 1.3547205 ]]\n"
     ]
    }
   ],
   "source": [
    "A = np.random.rand(32).reshape(8,4)\n",
    "B = np.random.rand(12).reshape(4,3)\n",
    "C= np.matmul(A,B)\n",
    "print(f\"A shape: {A.shape}, B shape: {B.shape}, AB shape: {C.shape}\")\n",
    "print(C)\n"
   ]
  },
  {
   "cell_type": "markdown",
   "metadata": {},
   "source": [
    "Newer versions of python introduced the `@` operator which is equivalent to `np.matmul` for 2D arrays (it is an overloaded operator). For 1D arrays, it is equivalent to the dot product."
   ]
  },
  {
   "cell_type": "code",
   "execution_count": 31,
   "metadata": {},
   "outputs": [
    {
     "name": "stdout",
     "output_type": "stream",
     "text": [
      "[[1.02110473 1.13058643 1.50616263]\n",
      " [1.36302668 1.55476773 1.61634107]\n",
      " [1.15236278 1.4802956  1.30364876]\n",
      " [1.51070473 1.38412395 1.77283633]\n",
      " [0.98138344 1.29974252 1.1776172 ]\n",
      " [0.71848864 0.5823716  0.60149777]\n",
      " [1.07618248 1.0247762  1.40326735]\n",
      " [1.19610033 1.35762161 1.3547205 ]] (8, 3)\n"
     ]
    }
   ],
   "source": [
    "C=A@B\n",
    "print(C, C.shape)"
   ]
  },
  {
   "cell_type": "markdown",
   "metadata": {},
   "source": [
    "## Exercises\n",
    "\n",
    "### Task 1"
   ]
  },
  {
   "cell_type": "code",
   "execution_count": 32,
   "metadata": {},
   "outputs": [],
   "source": [
    "B=np.random.rand(4,3)\n",
    "# Divide the array B by the number 2.5. Store the result in a variable C\n"
   ]
  },
  {
   "cell_type": "markdown",
   "metadata": {},
   "source": [
    "<details>\n",
    "\n",
    "<summary>Solution</summary>\n",
    "\n",
    "```python\n",
    "C = B / 2.5\n",
    "print(C)\n",
    "```\n",
    "\n",
    "</details>\n",
    "\n",
    "### Task 2"
   ]
  },
  {
   "cell_type": "code",
   "execution_count": 33,
   "metadata": {},
   "outputs": [],
   "source": [
    "# Create a new array filled with -1. The array must have the same shape as B. Store the result in a variable D\n"
   ]
  },
  {
   "cell_type": "markdown",
   "metadata": {},
   "source": [
    "<details>\n",
    "\n",
    "<summary>Solution</summary>\n",
    "\n",
    "```python\n",
    "D = np.full(12, -1).reshape(B.shape)\n",
    "print(D)\n",
    "```\n",
    "\n",
    "</details>\n",
    "\n",
    "### Task 3"
   ]
  },
  {
   "cell_type": "code",
   "execution_count": 34,
   "metadata": {},
   "outputs": [],
   "source": [
    "# Multiply this new array ELEMENT-WISE with B and store the result in a variable called E.\n"
   ]
  },
  {
   "cell_type": "markdown",
   "metadata": {},
   "source": [
    "<details>\n",
    "\n",
    "<summary>Solution</summary>\n",
    "\n",
    "```python\n",
    "E = D * C\n",
    "print(E)\n",
    "```\n",
    "\n",
    "</details>\n",
    "\n",
    "### Task 4"
   ]
  },
  {
   "cell_type": "code",
   "execution_count": 35,
   "metadata": {},
   "outputs": [
    {
     "name": "stdout",
     "output_type": "stream",
     "text": [
      "[[0 1]\n",
      " [2 3]]\n"
     ]
    }
   ],
   "source": [
    "# Consider the intermediate array below. Try and multiply it with D element-wise. What happens?\n",
    "intermediate_arr = np.arange(4).reshape(2, 2)\n",
    "print(intermediate_arr)"
   ]
  },
  {
   "cell_type": "code",
   "execution_count": 36,
   "metadata": {},
   "outputs": [],
   "source": [
    "# What could you do to make this multiplication work? (hint: try and make the intermediate array broadcastable to E)\n"
   ]
  },
  {
   "cell_type": "markdown",
   "metadata": {},
   "source": [
    "<details>\n",
    "\n",
    "<summary>Solution</summary>\n",
    "\n",
    "```python\n",
    "intermediate_arr = intermediate_arr.reshape(4, 1)\n",
    "F = E * intermediate_arr\n",
    "print(F)\n",
    "```\n",
    "\n",
    "</details>"
   ]
  },
  {
   "cell_type": "markdown",
   "metadata": {},
   "source": [
    "## Functions\n",
    "\n",
    "Another useful thing we might want to do with an array is to apply a function to each element. Generally speaking, it is best to use the built-in Numpy functions to work on numpy arrays instead of defining your own. This is because Numpy functions are highly optimised for speed, which is important when working with large amounts of data. Chances are, whatever kind of mathematical operation you want to perform on a Numpy array is already built in.  A full list can be found [here](https://numpy.org/doc/1.26/reference/routines.math.html)\n",
    "\n",
    "### Element-wise functions\n",
    "Common uses are applying trig functions to an array of values:"
   ]
  },
  {
   "cell_type": "code",
   "execution_count": 38,
   "metadata": {},
   "outputs": [
    {
     "data": {
      "image/png": "[encoded data removed]",
      "text/plain": [
       "<Figure size 640x480 with 1 Axes>"
      ]
     },
     "metadata": {},
     "output_type": "display_data"
    },
    {
     "data": {
      "image/png": "[encoded data removed]",
      "text/plain": [
       "<Figure size 640x480 with 1 Axes>"
      ]
     },
     "metadata": {},
     "output_type": "display_data"
    }
   ],
   "source": [
    "import matplotlib.pyplot as plt\n",
    "\n",
    "def simple_plot(x, y, label):\n",
    "    plt.plot(x, y)\n",
    "    plt.suptitle(label)\n",
    "    plt.show()\n",
    "\n",
    "    \n",
    "\n",
    "# Element-wise functions: \n",
    "X = np.arange(0, 2*np.pi, 0.2)\n",
    "Y = np.sin(X)\n",
    "simple_plot(X, Y, \"sin(X)\")\n",
    "\n",
    "Y_1 = np.exp(X)\n",
    "simple_plot(X, Y_1, \"exp(X)\")"
   ]
  },
  {
   "cell_type": "markdown",
   "metadata": {},
   "source": [
    "### Reduce functions\n",
    "These are applied along the selected axis, consume all the elements and reduce the axis down to 1 element. If no axis is specified, the function is applied to the whole array, and reduces it to a scalar "
   ]
  },
  {
   "cell_type": "code",
   "execution_count": 110,
   "metadata": {},
   "outputs": [
    {
     "name": "stdout",
     "output_type": "stream",
     "text": [
      "[[0.9133907  0.13762682 0.11435782 0.83728251]\n",
      " [0.94577606 0.48167286 0.12005244 0.45842973]\n",
      " [0.20361478 0.38239065 0.1726609  0.74221548]\n",
      " [0.8947658  0.88024593 0.45808167 0.40229964]\n",
      " [0.49338248 0.44420388 0.03925634 0.02700521]\n",
      " [0.14934182 0.05423912 0.23673215 0.13916125]\n",
      " [0.46165817 0.50607173 0.79080308 0.63582709]\n",
      " [0.76469433 0.64874795 0.13189279 0.85566165]]\n",
      "Maximum value in A: \n",
      "0.9457760614211833\n",
      "Average of each column in A: \n",
      "[[0.60332802 0.44189987 0.25797965 0.51223532]]\n",
      "Minimum value in each row in A: \n",
      "[[0.11435782]\n",
      " [0.12005244]\n",
      " [0.1726609 ]\n",
      " [0.40229964]\n",
      " [0.02700521]\n",
      " [0.05423912]\n",
      " [0.46165817]\n",
      " [0.13189279]]\n"
     ]
    }
   ],
   "source": [
    "A=np.random.rand(32).reshape(8,4)\n",
    "print(A)\n",
    "\n",
    "I = A.max()\n",
    "print(f\"Maximum value in A: \\n{I}\")\n",
    "\n",
    "I_2 = np.mean(A, axis=0, keepdims=True)  # keepdims is needed to preserve the original shape of the axis\n",
    "print(f\"Average of each column in A: \\n{I_2}\")\n",
    "\n",
    "I_3 = A.min(axis=1, keepdims=True) \n",
    "print(f\"Minimum value in each row in A: \\n{I_3}\")\n"
   ]
  },
  {
   "cell_type": "markdown",
   "metadata": {},
   "source": [
    "## Exercises\n",
    "\n",
    "### Task 1"
   ]
  },
  {
   "cell_type": "code",
   "execution_count": null,
   "metadata": {},
   "outputs": [],
   "source": [
    "# Have a look at the trigonometric functions listed in the official numpy documentation: https://numpy.org/doc/stable/reference/routines.math.html\n",
    "# Pick any element-wise function that takes 1 argument and apply it to the following array. store the result in a variable called Ys\n",
    "Xs = np.arange(-2*np.pi, 2*np.pi, 0.1)\n"
   ]
  },
  {
   "cell_type": "markdown",
   "metadata": {},
   "source": [
    "<details>\n",
    "\n",
    "<summary>Solution</summary>\n",
    "\n",
    "```python\n",
    "Ys = np.arctan(Xs)\n",
    "print(Ys)\n",
    "```\n",
    "\n",
    "</details>\n",
    "\n",
    "### Task 2"
   ]
  },
  {
   "cell_type": "code",
   "execution_count": null,
   "metadata": {},
   "outputs": [],
   "source": [
    "# Call our previously-defined simple plot function and display your result! Give the plot a suitable title\n"
   ]
  },
  {
   "cell_type": "markdown",
   "metadata": {},
   "source": [
    "<details>\n",
    "\n",
    "<summary>Solution</summary>\n",
    "\n",
    "```python\n",
    "simple_plot(Xs, Ys, \"arctan(Ys)\")\n",
    "```\n",
    "\n",
    "</details>\n",
    "\n",
    "### Task 3"
   ]
  },
  {
   "cell_type": "code",
   "execution_count": null,
   "metadata": {},
   "outputs": [],
   "source": [
    "# Use a suitable Numpy reduce function to find the maximum value of your function's result\n"
   ]
  },
  {
   "cell_type": "markdown",
   "metadata": {},
   "source": [
    "<details>\n",
    "\n",
    "<summary>Solution</summary>\n",
    "\n",
    "```python\n",
    "max_val = np.max(Ys)\n",
    "print(max_val)\n",
    "```\n",
    "\n",
    "</details>\n"
   ]
  },
  {
   "cell_type": "markdown",
   "metadata": {},
   "source": [
    "## ```numpy.where```\n",
    "\n",
    "This allows us to conditionally modify the elements of an array, which can be useful for tasks like thresholding or masking."
   ]
  },
  {
   "cell_type": "code",
   "execution_count": 112,
   "metadata": {},
   "outputs": [
    {
     "data": {
      "text/plain": [
       "array([[ 0,  0,  0,  0,  0,  0,  0,  0,  0,  0],\n",
       "       [ 0,  0,  0,  0,  0,  0,  0,  0,  0,  0],\n",
       "       [ 0,  0,  0,  0,  0,  0,  0,  0,  0,  0],\n",
       "       [ 0,  0,  0,  0,  0,  0,  0,  0,  0,  0],\n",
       "       [ 0,  0,  0,  0,  0,  0,  0,  0,  0,  0],\n",
       "       [50, 51, 52, 53, 54, 55, 56, 57, 58, 59],\n",
       "       [60, 61, 62, 63, 64, 65, 66, 67, 68, 69],\n",
       "       [70, 71, 72, 73, 74, 75, 76, 77, 78, 79],\n",
       "       [80, 81, 82, 83, 84, 85, 86, 87, 88, 89],\n",
       "       [90, 91, 92, 93, 94, 95, 96, 97, 98, 99]])"
      ]
     },
     "execution_count": 112,
     "metadata": {},
     "output_type": "execute_result"
    }
   ],
   "source": [
    "big_image = np.arange(10*10).reshape(10,10)\n",
    "big_image_thresh = np.where(big_image<50, 0, big_image)\n",
    "big_image_thresh\n"
   ]
  },
  {
   "cell_type": "markdown",
   "metadata": {},
   "source": [
    "## Exercise"
   ]
  },
  {
   "cell_type": "code",
   "execution_count": 114,
   "metadata": {},
   "outputs": [],
   "source": [
    "# Create a Numpy array of shape (10, 5) and fill it with random values between 0 and 1. Store it in a variable called J\n"
   ]
  },
  {
   "cell_type": "markdown",
   "metadata": {},
   "source": [
    "\n",
    "<details>\n",
    "\n",
    "<summary>Solution</summary>\n",
    "\n",
    "```python\n",
    "J = np.random.rand(10*5).reshape(10, 5)\n",
    "print(J)\n",
    "```\n",
    "\n",
    "</details>\n"
   ]
  },
  {
   "cell_type": "code",
   "execution_count": null,
   "metadata": {},
   "outputs": [],
   "source": [
    "# Conditionally modify the array such that numbers below 0.5 are replaced with 0 and numbers above or equal to 0.5 are replaced with 1. Store the result in a variable called K\n"
   ]
  },
  {
   "cell_type": "markdown",
   "metadata": {},
   "source": [
    "\n",
    "<details>\n",
    "\n",
    "<summary>Solution</summary>\n",
    "\n",
    "```python\n",
    "K = np.where(J<0.5, 0, 1)\n",
    "print(K)\n",
    "```\n",
    "\n",
    "</details>\n"
   ]
  },
  {
   "cell_type": "markdown",
   "metadata": {},
   "source": [
    "# Practical Example\n",
    "\n",
    "The following function will plot pairs of x and y values on a graph. We will use this to plot the results of the following exercises.\n"
   ]
  },
  {
   "cell_type": "code",
   "execution_count": 116,
   "metadata": {},
   "outputs": [],
   "source": [
    "def plot_points(point):\n",
    "    plt.rcParams[\"figure.figsize\"] = [3.50, 3.50]\n",
    "    plt.rcParams[\"figure.autolayout\"] = True\n",
    "    x = point[0::2] # even indices for x\n",
    "    y = point[1::2] # odd indices for y\n",
    "    lims = 3\n",
    "    fig = plt.figure()\n",
    "    ax = fig.add_subplot(111)\n",
    "    plt.xlim(-lims, lims)\n",
    "    plt.ylim(-lims, lims)\n",
    "    plt.grid()\n",
    "    ax.plot(x, y, marker=\"o\", markersize=7, markeredgecolor=\"black\", markerfacecolor=\"red\")\n",
    "    ax.spines['left'].set_position('zero')\n",
    "    ax.spines['right'].set_color('none')\n",
    "    ax.spines['bottom'].set_position('zero')\n",
    "    ax.spines['top'].set_color('none')\n",
    "    plt.show()"
   ]
  },
  {
   "cell_type": "code",
   "execution_count": 124,
   "metadata": {},
   "outputs": [
    {
     "name": "stdout",
     "output_type": "stream",
     "text": [
      "(4, 2)\n",
      "(8,)\n"
     ]
    },
    {
     "data": {
      "image/png": "[encoded data removed]",
      "text/plain": [
       "<Figure size 350x350 with 1 Axes>"
      ]
     },
     "metadata": {},
     "output_type": "display_data"
    }
   ],
   "source": [
    "points = np.array([[0,1],[1,2],[2,1],[0,1]])\n",
    "print(points.shape)\n",
    "triangle=points.flatten()\n",
    "print(triangle.shape)\n",
    "plot_points(triangle)"
   ]
  },
  {
   "cell_type": "markdown",
   "metadata": {},
   "source": [
    "Now we will define a function to generate a 2D rotation matrix. This will be used to rotate a set of points in 2D space. The rotation matrix is defined as:\n",
    "\n",
    "$$  \\begin{bmatrix} \\cos(\\theta) & -\\sin(\\theta) \\\\ \\sin(\\theta) & \\cos(\\theta) \\end{bmatrix} $$\n",
    "\n",
    "Where $\\theta$ is the angle of rotation in radians.\n"
   ]
  },
  {
   "cell_type": "code",
   "execution_count": 125,
   "metadata": {},
   "outputs": [],
   "source": [
    "import math\n",
    "def get_rotation_matrix(angle):\n",
    "    angle = math.radians(angle)\n",
    "    return np.array([\n",
    "        [ np.cos(angle), np.sin(angle)],\n",
    "        [-np.sin(angle), np.cos(angle)]\n",
    "    ])"
   ]
  },
  {
   "cell_type": "code",
   "execution_count": 126,
   "metadata": {},
   "outputs": [
    {
     "name": "stdout",
     "output_type": "stream",
     "text": [
      "[[ 6.123234e-17  1.000000e+00]\n",
      " [-1.000000e+00  6.123234e-17]]\n"
     ]
    }
   ],
   "source": [
    "print(get_rotation_matrix(90))"
   ]
  },
  {
   "cell_type": "code",
   "execution_count": 127,
   "metadata": {},
   "outputs": [
    {
     "name": "stdout",
     "output_type": "stream",
     "text": [
      "[[-0.70710678  0.70710678]\n",
      " [-0.70710678  2.12132034]\n",
      " [ 0.70710678  2.12132034]\n",
      " [-0.70710678  0.70710678]]\n"
     ]
    },
    {
     "data": {
      "image/png": "[encoded data removed]",
      "text/plain": [
       "<Figure size 350x350 with 1 Axes>"
      ]
     },
     "metadata": {},
     "output_type": "display_data"
    }
   ],
   "source": [
    "rot_matrix = get_rotation_matrix(45)\n",
    "rotated_triangle = points @ rot_matrix\n",
    "print(rotated_triangle)\n",
    "plot_points(rotated_triangle.flatten())"
   ]
  },
  {
   "cell_type": "markdown",
   "metadata": {},
   "source": [
    "We can add a translation to the rotation matrix to move the points to a new location. The translation matrix is defined as:\n",
    "\n",
    "$$  \\begin{bmatrix} x \\\\ y \\end{bmatrix} $$\n",
    "\n",
    "Where x and y are the amount to move the points in the x and y directions respectively.\n"
   ]
  },
  {
   "cell_type": "code",
   "execution_count": 128,
   "metadata": {},
   "outputs": [
    {
     "data": {
      "image/png": "[encoded data removed]",
      "text/plain": [
       "<Figure size 350x350 with 1 Axes>"
      ]
     },
     "metadata": {},
     "output_type": "display_data"
    }
   ],
   "source": [
    "translate=np.array([-2,0])\n",
    "rotated_triangle = (points @ rot_matrix) + translate\n",
    "plot_points(rotated_triangle.flatten())"
   ]
  },
  {
   "cell_type": "code",
   "execution_count": null,
   "metadata": {},
   "outputs": [],
   "source": []
  }
 ],
 "metadata": {
  "kernelspec": {
   "display_name": "base",
   "language": "python",
   "name": "python3"
  },
  "language_info": {
   "codemirror_mode": {
    "name": "ipython",
    "version": 3
   },
   "file_extension": ".py",
   "mimetype": "text/x-python",
   "name": "python",
   "nbconvert_exporter": "python",
   "pygments_lexer": "ipython3",
   "version": "3.11.7"
  }
 },
 "nbformat": 4,
 "nbformat_minor": 2
}
