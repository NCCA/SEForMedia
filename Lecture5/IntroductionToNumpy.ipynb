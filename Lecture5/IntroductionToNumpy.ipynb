{
 "cells": [
  {
   "cell_type": "markdown",
   "metadata": {},
   "source": [
    "# [Numpy](https://numpy.org/)\n",
    "\n",
    "This notebook is a companion to the lecture slides [here](https://nccastaff.bournemouth.ac.uk/jmacey/SEForMedia/lectures/Lecture5/), it will be used to introduce numpy as well as other concepts. Note that we are still using Numpy 1.26.x so some of the newer features may not be available. For full documentation see [here](https://numpy.org/doc/1.26/index.html).\n",
    "\n",
    "## Getting Started\n",
    "\n",
    "numpy is already installed as part of the Anaconda distribution, so you should be able to import it directly. If you are using a different Python distribution you may need to install it using pip. The following code cell will import numpy and check the version you are using."
   ]
  },
  {
   "cell_type": "code",
   "execution_count": 17,
   "metadata": {},
   "outputs": [
    {
     "name": "stdout",
     "output_type": "stream",
     "text": [
      "1.26.4\n"
     ]
    }
   ],
   "source": [
    "import numpy as np\n",
    "print(np.__version__)"
   ]
  },
  {
   "cell_type": "markdown",
   "metadata": {},
   "source": [
    "In the above example we import ```numpy as np``` this is a common convention as it makes it easier to type and read the code. We are creating an alias called ```np``` that contains all the numpy functions. This is a common convention in python programming. "
   ]
  },
  {
   "cell_type": "markdown",
   "metadata": {},
   "source": [
    "## Arrays\n",
    "\n",
    "The core data type in numpy is the array, this is similar to a list but can be multi-dimensional. They can be created in a number of ways for example\n",
    "\n",
    "1. Instantiated using values from a normal Python list\n",
    "2. Filled with sequential values upto a target number\n",
    "3. Filled with a specific value\n",
    "4. Filled with random values (various random distributions [available](https://numpy.org/doc/1.26/reference/random/index.html)) \n",
    "\n",
    "\n",
    "For a full list of array creation routines, please see [here](https://numpy.org/doc/1.26/reference/routines.array-creation.html) "
   ]
  },
  {
   "cell_type": "code",
   "execution_count": 18,
   "metadata": {},
   "outputs": [
    {
     "name": "stdout",
     "output_type": "stream",
     "text": [
      "[   2    4    8   16   32   64  128  256  512 1024] <class 'numpy.ndarray'>\n"
     ]
    }
   ],
   "source": [
    "#Array creation from python list\n",
    "python_list = [2, 4, 8, 16, 32, 64, 128, 256, 512, 1024]\n",
    "np_from_list = np.array(python_list)  \n",
    "print(np_from_list, type(np_from_list))"
   ]
  },
  {
   "cell_type": "code",
   "execution_count": 19,
   "metadata": {},
   "outputs": [
    {
     "name": "stdout",
     "output_type": "stream",
     "text": [
      "[ 0  1  2  3  4  5  6  7  8  9 10 11 12 13 14 15 16 17 18 19]\n"
     ]
    }
   ],
   "source": [
    "# Array creation with sequential values \n",
    "# arange always returns a 1D array, will need to reshape it separately if\n",
    "# we wish to do so\n",
    "seq_array = np.arange(20)\n",
    "print(seq_array)"
   ]
  },
  {
   "cell_type": "code",
   "execution_count": 20,
   "metadata": {},
   "outputs": [
    {
     "name": "stdout",
     "output_type": "stream",
     "text": [
      "[0.95866176 0.45522084 0.14147968 0.53712351 0.10480419 0.70953051\n",
      " 0.27996643 0.76973677 0.44206809 0.21784236]\n"
     ]
    }
   ],
   "source": [
    "#Array creation with random values \n",
    "random_array = np.random.rand(10)  # returns an array filled with 10 random floats between 0 and 1\n",
    "print(random_array)"
   ]
  },
  {
   "cell_type": "markdown",
   "metadata": {},
   "source": []
  },
  {
   "cell_type": "code",
   "execution_count": 21,
   "metadata": {},
   "outputs": [
    {
     "name": "stdout",
     "output_type": "stream",
     "text": [
      "[255 255 255 255 255 255 255 255 255 255]\n"
     ]
    }
   ],
   "source": [
    "#Array filled with the same specific value\n",
    "filled_array = np.full(10, 255)  # returns an array filled with 10 instances of 255\n",
    "print(filled_array)"
   ]
  },
  {
   "cell_type": "markdown",
   "metadata": {},
   "source": [
    "## Array Shape\n",
    "\n",
    "In NumPy, an array’s shape refers to the dimensions of the array, specifying how many elements it contains along each axis. The shape of a NumPy array is represented as a tuple of integers, where each integer represents the size of the array along that dimension.\n",
    "\n",
    "This is a key concept in numpy as it allows you to create multi-dimensional arrays. For example, a 2D array has a shape of (rows, columns) and a 3D array has a shape of (depth, rows, columns). We use this to represent our data when we input it into a neural network.\n",
    "\n",
    "So far we have only created 1D arrayas, but we can create multi-dimensional arrays by passing in a tuple of values to the array function.\n",
    "\n",
    "**1D Array (Vector):**\n",
    "- Shape: (n,) where n is the number of elements.\n",
    "\n"
   ]
  },
  {
   "cell_type": "code",
   "execution_count": 22,
   "metadata": {},
   "outputs": [
    {
     "name": "stdout",
     "output_type": "stream",
     "text": [
      "(3,)\n"
     ]
    }
   ],
   "source": [
    "arr = np.array([1, 2, 3])\n",
    "print(arr.shape)  # Output: (3,)"
   ]
  },
  {
   "cell_type": "markdown",
   "metadata": {},
   "source": [
    "**2D Array (Matrix):**\n",
    "\n",
    "- Shape: (n, m) where n is the number of rows and m is the number of columns."
   ]
  },
  {
   "cell_type": "code",
   "execution_count": 23,
   "metadata": {},
   "outputs": [
    {
     "name": "stdout",
     "output_type": "stream",
     "text": [
      "(3, 2)\n"
     ]
    }
   ],
   "source": [
    "arr = np.array([[1, 2], [3, 4], [5, 6]])\n",
    "print(arr.shape)  # Output: (3, 2)"
   ]
  },
  {
   "cell_type": "markdown",
   "metadata": {},
   "source": [
    "**3D Array:**\n",
    "- Shape: (n, m, p) where n is the number of matrices, m is the number of rows, and p is the number of columns in each matrix."
   ]
  },
  {
   "cell_type": "code",
   "execution_count": 24,
   "metadata": {},
   "outputs": [
    {
     "name": "stdout",
     "output_type": "stream",
     "text": [
      "(2, 2, 2)\n"
     ]
    }
   ],
   "source": [
    "arr = np.array([[[1, 2], [3, 4]], [[5, 6], [7, 8]]])\n",
    "print(arr.shape)  # Output: (2, 2, 2)"
   ]
  },
  {
   "cell_type": "markdown",
   "metadata": {},
   "source": [
    "### Why Do We Need Array Shapes?\n",
    "\n",
    "1.\tUnderstanding Data Structure: Knowing the shape of an array tells you how the data is organized. For example, whether the data is a single vector, a 2D matrix, or a multi-dimensional dataset is important for operations like indexing, reshaping, or applying functions.\n",
    "2.\tEfficient Computation: Many mathematical operations in NumPy, like matrix multiplication, element-wise operations, or broadcasting, depend on the array’s shape. Mismatched shapes can cause errors, so understanding the shape helps ensure proper operation.\n",
    "\n",
    "## Reshaping Arrays\n",
    "\n",
    "Reshaping an array means changing the shape of the array without changing the data it contains. This is a common operation when working with neural networks as we often need to change the shape of the data to fit the input layer of the network.\n",
    "\n",
    "One of the many things that set Numpy arrays apart from Python lists is their `reshape` method. This allows you to define the number of dimensions that the structure represented by the array has. For example, the array `np_from_list` that we have just defined is just a flat list of numbers at the present. `reshape` helps us represent it as a 2D data structure (a matrix). Keep in mind that the shape that you put into this method must agree with the number of elements in the array. In our example, the array has 10 elements, so acceptable shapes include:\n",
    "* 5, 2\n",
    "* 2, 5\n",
    "* 1, 10\n",
    "* 10, 1"
   ]
  },
  {
   "cell_type": "code",
   "execution_count": 25,
   "metadata": {},
   "outputs": [
    {
     "name": "stdout",
     "output_type": "stream",
     "text": [
      "[[   2    4]\n",
      " [   8   16]\n",
      " [  32   64]\n",
      " [ 128  256]\n",
      " [ 512 1024]]\n",
      "matrix_5_2.shape=(5, 2)\n"
     ]
    }
   ],
   "source": [
    "matrix_5_2 = np_from_list.reshape(5,2)\n",
    "print(matrix_5_2)\n",
    "print(f\"{matrix_5_2.shape=}\")"
   ]
  },
  {
   "cell_type": "code",
   "execution_count": 26,
   "metadata": {},
   "outputs": [
    {
     "name": "stdout",
     "output_type": "stream",
     "text": [
      "[[ 0  1  2  3  4  5  6  7  8  9]\n",
      " [10 11 12 13 14 15 16 17 18 19]]\n",
      "matrix_2_10 shape: (2, 10)\n"
     ]
    }
   ],
   "source": [
    "matrix_2_10 = seq_array.reshape(2,10)\n",
    "print(matrix_2_10)\n",
    "print(f\"matrix_2_10 shape: {matrix_2_10.shape}\")"
   ]
  },
  {
   "cell_type": "code",
   "execution_count": 27,
   "metadata": {},
   "outputs": [
    {
     "data": {
      "text/plain": [
       "array([[32, 32],\n",
       "       [32, 32],\n",
       "       [32, 32],\n",
       "       [32, 32],\n",
       "       [32, 32]])"
      ]
     },
     "execution_count": 27,
     "metadata": {},
     "output_type": "execute_result"
    }
   ],
   "source": [
    "# You can also pass a desired shape into the array creation function to instantiate\n",
    "# an array with a pre-defined shape\n",
    "array_from_shape = np.full(matrix_5_2.shape, 32)\n",
    "array_from_shape"
   ]
  },
  {
   "cell_type": "markdown",
   "metadata": {},
   "source": [
    "## Exercises\n",
    "\n",
    "The following cells have been set up to help you learn how to use numpy. The comments in the cells will ask you to complete a simple numpy task. Experiment with the code and see what happens.\n",
    "\n",
    "### Task 1"
   ]
  },
  {
   "cell_type": "code",
   "execution_count": 28,
   "metadata": {},
   "outputs": [],
   "source": [
    "# Create a Numpy array A that contains the integers from 0 - 31 (32 elements long)\n"
   ]
  },
  {
   "cell_type": "markdown",
   "metadata": {},
   "source": [
    "<details>\n",
    "\n",
    "<summary>Solution</summary>\n",
    "\n",
    "```python\n",
    "A = np.arange(32)\n",
    "print(A)\n",
    "```\n",
    "\n",
    "</details>\n",
    "\n",
    "### Task 2"
   ]
  },
  {
   "cell_type": "code",
   "execution_count": 29,
   "metadata": {},
   "outputs": [],
   "source": [
    "# Create a Numpy array B that contains 12 random numbers between 0 and 1\n"
   ]
  },
  {
   "cell_type": "markdown",
   "metadata": {},
   "source": [
    "<details>\n",
    "\n",
    "<summary>Solution</summary>\n",
    "\n",
    "```python\n",
    "B = np.random.rand(12)\n",
    "print(B)\n",
    "```\n",
    "\n",
    "</details>\n",
    "\n",
    "## Task 3"
   ]
  },
  {
   "cell_type": "code",
   "execution_count": 30,
   "metadata": {},
   "outputs": [],
   "source": [
    "# Turn A into a 2d matrix of shape (8, 4) - 8 rows, 4 columns\n"
   ]
  },
  {
   "cell_type": "markdown",
   "metadata": {},
   "source": [
    "<details>\n",
    "\n",
    "<summary>Solution</summary>\n",
    "\n",
    "```python\n",
    "A = A.reshape(8, 4)\n",
    "print(A)\n",
    "```\n",
    "\n",
    "</details>\n",
    "\n",
    "## Task 4"
   ]
  },
  {
   "cell_type": "code",
   "execution_count": 31,
   "metadata": {},
   "outputs": [],
   "source": [
    "# Turn B into a 2d matrix of shape (4, 3)\n"
   ]
  },
  {
   "cell_type": "markdown",
   "metadata": {},
   "source": [
    "<details>\n",
    "\n",
    "<summary>Solution</summary>\n",
    "\n",
    "```python\n",
    "B = B.reshape(4, 3)\n",
    "print(B)\n",
    "```\n",
    "\n",
    "</details>"
   ]
  },
  {
   "cell_type": "markdown",
   "metadata": {},
   "source": [
    "## Array operations\n",
    "\n",
    "Once you have created an array, there are various operations you may want to perform on them. We'll go through some of the most common ones in the next few cells.\n",
    "\n",
    "### Binary operators\n",
    "\n",
    "Similar to normal counting numbers, Numpy arrays can be used as arguments to binary arithmetic operators like ```*``` (multiplication), ```+``` (addition), ```-```(subtraction) and ```/```(division). However, these can only be applied to arrays under certain conditions:\n",
    "\n",
    "1. The arrays have the same shape, OR\n",
    "2. The operation is between an array and a scalar, OR\n",
    "3. The operations is between 2 arrays of different shapes that can be \"broadcast\" together - more on this later\n",
    "\n",
    "These operations are applied **element-wise** meaning each element in the array is combined with its corresponding element at the same position in the other array"
   ]
  },
  {
   "cell_type": "code",
   "execution_count": 35,
   "metadata": {},
   "outputs": [
    {
     "name": "stdout",
     "output_type": "stream",
     "text": [
      "(8, 4)\n",
      "[[0.78111802 0.1767563  0.74445903 0.82919246]\n",
      " [0.6947885  0.82564827 0.68789781 0.2396228 ]\n",
      " [0.61852323 0.87572465 0.82649908 0.63237389]\n",
      " [0.38061821 0.91600969 0.44028765 0.40020483]\n",
      " [0.97601709 0.56581641 0.85081161 0.31060986]\n",
      " [0.0726094  0.37008896 0.19185561 0.13086161]\n",
      " [0.5865231  0.12040909 0.87782809 0.58312088]\n",
      " [0.66303347 0.75484801 0.19506405 0.62725284]]\n",
      "[[11.78111802 11.1767563  11.74445903 11.82919246]\n",
      " [11.6947885  11.82564827 11.68789781 11.2396228 ]\n",
      " [11.61852323 11.87572465 11.82649908 11.63237389]\n",
      " [11.38061821 11.91600969 11.44028765 11.40020483]\n",
      " [11.97601709 11.56581641 11.85081161 11.31060986]\n",
      " [11.0726094  11.37008896 11.19185561 11.13086161]\n",
      " [11.5865231  11.12040909 11.87782809 11.58312088]\n",
      " [11.66303347 11.75484801 11.19506405 11.62725284]]\n"
     ]
    }
   ],
   "source": [
    "# Addition with a scalar\n",
    "arr = np.random.rand(32).reshape((8,4))\n",
    "print(arr.shape)\n",
    "print(arr)\n",
    "scalar_add_array = 11 + arr \n",
    "print(scalar_add_array)"
   ]
  },
  {
   "cell_type": "code",
   "execution_count": 38,
   "metadata": {},
   "outputs": [
    {
     "name": "stdout",
     "output_type": "stream",
     "text": [
      "[[-4.21888198 -4.8232437  -4.25554097 -4.17080754]\n",
      " [-4.3052115  -4.17435173 -4.31210219 -4.7603772 ]\n",
      " [-4.38147677 -4.12427535 -4.17350092 -4.36762611]\n",
      " [-4.61938179 -4.08399031 -4.55971235 -4.59979517]\n",
      " [-4.02398291 -4.43418359 -4.14918839 -4.68939014]\n",
      " [-4.9273906  -4.62991104 -4.80814439 -4.86913839]\n",
      " [-4.4134769  -4.87959091 -4.12217191 -4.41687912]\n",
      " [-4.33696653 -4.24515199 -4.80493595 -4.37274716]]\n"
     ]
    }
   ],
   "source": [
    "# Subtraction with another array of same shape\n",
    "A  = np.full(32, 5).reshape((8,4)) # 8x4 matrix with all elements as 5\n",
    "sub_array = arr - A \n",
    "print(sub_array)"
   ]
  },
  {
   "cell_type": "code",
   "execution_count": null,
   "metadata": {},
   "outputs": [],
   "source": []
  }
 ],
 "metadata": {
  "kernelspec": {
   "display_name": "base",
   "language": "python",
   "name": "python3"
  },
  "language_info": {
   "codemirror_mode": {
    "name": "ipython",
    "version": 3
   },
   "file_extension": ".py",
   "mimetype": "text/x-python",
   "name": "python",
   "nbconvert_exporter": "python",
   "pygments_lexer": "ipython3",
   "version": "3.11.7"
  }
 },
 "nbformat": 4,
 "nbformat_minor": 2
}
