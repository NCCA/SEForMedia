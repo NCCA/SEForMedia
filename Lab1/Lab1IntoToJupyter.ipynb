{
 "cells": [
  {
   "cell_type": "markdown",
   "metadata": {},
   "source": [
    "# Introduction to Jupyter Notebooks\n",
    "\n",
    "In this lab we are going to get familiar with Jupyter Notebooks. We will learn how to write and execute code in the notebook, how to add text.\n",
    "\n",
    "Jupyter is based on the notion of cells. All the content on a page is made up of cells running from the top of the page to the bottom. You can see that if I click once in a open area there is a bar on the left hand side of the page. If I press the up and down arrows on my keyboard, then we move between cells moving up and down the page.\n",
    "\n",
    "Notebooks can be opened and viewed in a number of ways, for the initial sessions we will just use a web browser, later on we will use other tools to view and edit notebooks.\n",
    "\n",
    "This current cell is a Markdown cell, [markdown](https://www.markdownguide.org/) is a simple text processing language which can be used to convert into HTML and other text formats. \n",
    "\n",
    "It uses tags and other special characters to generate the text, which looks different from the final output. You can see this by double-clicking in this cell and seeing the source. To render the text to the final (HTML) format, we just press shift + Enter\n",
    "\n"
   ]
  },
  {
   "cell_type": "markdown",
   "metadata": {},
   "source": [
    "## Menus\n",
    "\n",
    "The image below shows the bar you should see at the top of the webpage.\n",
    "\n",
    "![](images/NB1.png)\n",
    "\n",
    "Play around with the menus at the top of the page, there is a lot you can do inside a Notebook. Most of the commands also have keyboard shortcuts. You can get pretty good at controlling Notebooks entirely from the keyboard if you want."
   ]
  },
  {
   "cell_type": "markdown",
   "metadata": {},
   "source": [
    "#### Some Keyboard Shortcuts\n",
    "The most important keyboard shortcut is `Ctrl+Enter` which runs the cell. `Shift+Enter` will run the cell and move onto the next cell. `Alt+Enter` (or `Option+Enter` on a Mac) will run the cell then insert a new cell below.\n"
   ]
  },
  {
   "cell_type": "markdown",
   "metadata": {},
   "source": [
    "## Code Cells\n",
    "\n",
    "All the previous cells are markdown cells, we also have code cells which run python code. The next cell has some python in it."
   ]
  },
  {
   "cell_type": "code",
   "execution_count": 1,
   "metadata": {},
   "outputs": [
    {
     "data": {
      "text/plain": [
       "2"
      ]
     },
     "execution_count": 1,
     "metadata": {},
     "output_type": "execute_result"
    }
   ],
   "source": [
    "1 + 1"
   ]
  },
  {
   "cell_type": "markdown",
   "metadata": {},
   "source": [
    "By running the above cell you can see the python code is executed, and the result printed below. This is basically running python for us. \n"
   ]
  },
  {
   "cell_type": "code",
   "execution_count": 2,
   "metadata": {},
   "outputs": [],
   "source": [
    "a = 1"
   ]
  },
  {
   "cell_type": "markdown",
   "metadata": {},
   "source": [
    "If a code cell has been run it will have a number in square brackets. When you open this Notebook for the first time, the previous three cells have been run. The second one does not have an output – this is normal for some cells. You will learn more later."
   ]
  },
  {
   "cell_type": "markdown",
   "metadata": {},
   "source": [
    "# A Quiz\n",
    "\n",
    "The following cell will run an interactive quiz for you. Try and answer the questions"
   ]
  },
  {
   "cell_type": "code",
   "execution_count": null,
   "metadata": {},
   "outputs": [
    {
     "name": "stdout",
     "output_type": "stream",
     "text": [
      "Question 0 of 5\n",
      "What is the result of this expression?\n",
      "5 - 5\n"
     ]
    },
    {
     "name": "stdin",
     "output_type": "stream",
     "text": [
      "Enter result:  0\n"
     ]
    },
    {
     "name": "stdout",
     "output_type": "stream",
     "text": [
      "Correct\n",
      "Question 1 of 5\n",
      "What is the result of this expression?\n",
      "3 - 3\n"
     ]
    }
   ],
   "source": [
    "%run questions.py"
   ]
  },
  {
   "cell_type": "code",
   "execution_count": null,
   "metadata": {},
   "outputs": [],
   "source": []
  }
 ],
 "metadata": {
  "kernelspec": {
   "display_name": "Python 3 (ipykernel)",
   "language": "python",
   "name": "python3"
  },
  "language_info": {
   "codemirror_mode": {
    "name": "ipython",
    "version": 3
   },
   "file_extension": ".py",
   "mimetype": "text/x-python",
   "name": "python",
   "nbconvert_exporter": "python",
   "pygments_lexer": "ipython3",
   "version": "3.13.2"
  }
 },
 "nbformat": 4,
 "nbformat_minor": 4
}
