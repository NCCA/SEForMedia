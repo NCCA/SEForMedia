{
 "cells": [
  {
   "cell_type": "markdown",
   "metadata": {},
   "source": [
    "# Introduction to Jupyter Notebooks\n",
    "\n",
    "In this lab we are going to get familiar with Jupyter Notebooks. We will learn how to write and execute code in the notebook, how to add text.\n",
    "\n",
    "Jupyter is based on the notion of cells. All the content on a page is made up of cells running from the top of the page to the bottom. You can see that if I click once in a open area there is a bar on the left hand side of the page. If I press the up and down arrows on my keyboard, then we move between cells moving up and down the page.\n",
    "\n",
    "Notebooks can be opened and viewed in a number of ways, for the initial sessions we will just use a web browser, later on we will use other tools to view and edit notebooks.\n",
    "\n",
    "This current cell is a Markdown cell, [markdown](https://www.markdownguide.org/) is a simple text processing language which can be used to convert into HTML and other text formats. \n",
    "\n",
    "It uses tags and other special characters to generate the text, which looks different from the final output. You can see this by double-clicking in this cell and seeing the source. To render the text to the final (HTML) format, we just press shift + Enter\n",
    "\n"
   ]
  },
  {
   "cell_type": "markdown",
   "metadata": {},
   "source": [
    "## Menus\n",
    "\n",
    "The image below shows the bar you should see at the top of the webpage.\n",
    "\n",
    "![](images/NB1.png)\n",
    "\n",
    "Play around with the menus at the top of the page, there is a lot you can do inside a Notebook. Most of the commands also have keyboard shortcuts. You can get pretty good at controlling Notebooks entirely from the keyboard if you want."
   ]
  },
  {
   "cell_type": "markdown",
   "metadata": {},
   "source": [
    "#### Some Keyboard Shortcuts\n",
    "The most important keyboard shortcut is `Ctrl+Enter` which runs the cell. `Shift+Enter` will run the cell and move onto the next cell. `Alt+Enter` (or `Option+Enter` on a Mac) will run the cell then insert a new cell below.\n"
   ]
  },
  {
   "cell_type": "markdown",
   "metadata": {},
   "source": [
    "## Code Cells\n",
    "\n",
    "All the previous cells are markdown cells, we also have code cells which run python code. The next cell has some python in it."
   ]
  },
  {
   "cell_type": "code",
   "execution_count": 2,
   "metadata": {},
   "outputs": [
    {
     "data": {
      "text/plain": [
       "2"
      ]
     },
     "execution_count": 2,
     "metadata": {},
     "output_type": "execute_result"
    }
   ],
   "source": [
    "1 + 1"
   ]
  },
  {
   "cell_type": "markdown",
   "metadata": {},
   "source": [
    "By running the above cell you can see the python code is executed, and the result printed below. This is basically running python for us. \n"
   ]
  },
  {
   "cell_type": "code",
   "execution_count": 6,
   "metadata": {},
   "outputs": [],
   "source": [
    "a = 1"
   ]
  },
  {
   "cell_type": "markdown",
   "metadata": {},
   "source": [
    "If a code cell has been run it will have a number in square brackets. When you open this Notebook for the first time, the previous three cells have been run. The second one does not have an output – this is normal for some cells. You will learn more later."
   ]
  },
  {
   "cell_type": "markdown",
   "metadata": {},
   "source": [
    "# A Quiz\n",
    "\n",
    "The following cell will run an interactive quiz for you. Try and answer the questions"
   ]
  },
  {
   "cell_type": "code",
   "execution_count": 7,
   "metadata": {},
   "outputs": [
    {
     "name": "stdout",
     "output_type": "stream",
     "text": [
      "Question 0 of 5\n",
      "What is the result of this expression?\n",
      "8 * 9\n"
     ]
    },
    {
     "name": "stdin",
     "output_type": "stream",
     "text": [
      "Enter the result:  2\n"
     ]
    },
    {
     "name": "stdout",
     "output_type": "stream",
     "text": [
      "Incorrect\n",
      "The correct answer is 72\n",
      "Question 1 of 5\n",
      "What is the result of this expression?\n",
      "10 - 3\n"
     ]
    },
    {
     "name": "stdin",
     "output_type": "stream",
     "text": [
      "Enter the result:  3\n"
     ]
    },
    {
     "name": "stdout",
     "output_type": "stream",
     "text": [
      "Incorrect\n",
      "The correct answer is 7\n",
      "Question 2 of 5\n",
      "What is the result of this expression?\n",
      "6 / 10\n"
     ]
    },
    {
     "name": "stdin",
     "output_type": "stream",
     "text": [
      "Enter the result:  4\n"
     ]
    },
    {
     "name": "stdout",
     "output_type": "stream",
     "text": [
      "Incorrect\n",
      "The correct answer is 0.6\n",
      "Question 3 of 5\n",
      "What is the result of this expression?\n",
      "4 / 8\n"
     ]
    },
    {
     "name": "stdin",
     "output_type": "stream",
     "text": [
      "Enter the result:  1\n"
     ]
    },
    {
     "name": "stdout",
     "output_type": "stream",
     "text": [
      "Incorrect\n",
      "The correct answer is 0.5\n",
      "Question 4 of 5\n",
      "What is the result of this expression?\n",
      "9 + 7\n"
     ]
    },
    {
     "name": "stdin",
     "output_type": "stream",
     "text": [
      "Enter the result:  4\n"
     ]
    },
    {
     "name": "stdout",
     "output_type": "stream",
     "text": [
      "Incorrect\n",
      "The correct answer is 16\n",
      "You got 0 correct out of 5\n"
     ]
    },
    {
     "name": "stdin",
     "output_type": "stream",
     "text": [
      "Do you want to play again? (yes/no)  2\n"
     ]
    },
    {
     "name": "stdout",
     "output_type": "stream",
     "text": [
      "Starting again\n",
      "Question 0 of 5\n",
      "What is the result of this expression?\n",
      "5 + 5\n"
     ]
    },
    {
     "name": "stdin",
     "output_type": "stream",
     "text": [
      "Enter the result:  3\n"
     ]
    },
    {
     "name": "stdout",
     "output_type": "stream",
     "text": [
      "Incorrect\n",
      "The correct answer is 10\n",
      "Question 1 of 5\n",
      "What is the result of this expression?\n",
      "5 / 1\n"
     ]
    },
    {
     "name": "stdin",
     "output_type": "stream",
     "text": [
      "Enter the result:  2\n"
     ]
    },
    {
     "name": "stdout",
     "output_type": "stream",
     "text": [
      "Incorrect\n",
      "The correct answer is 5.0\n",
      "Question 2 of 5\n",
      "What is the result of this expression?\n",
      "10 * 5\n"
     ]
    },
    {
     "name": "stdin",
     "output_type": "stream",
     "text": [
      "Enter the result:  4\n"
     ]
    },
    {
     "name": "stdout",
     "output_type": "stream",
     "text": [
      "Incorrect\n",
      "The correct answer is 50\n",
      "Question 3 of 5\n",
      "What is the result of this expression?\n",
      "10 / 7\n"
     ]
    },
    {
     "name": "stdin",
     "output_type": "stream",
     "text": [
      "Enter the result:  1\n"
     ]
    },
    {
     "name": "stdout",
     "output_type": "stream",
     "text": [
      "Incorrect\n",
      "The correct answer is 1.4285714285714286\n",
      "Question 4 of 5\n",
      "What is the result of this expression?\n",
      "10 * 1\n"
     ]
    },
    {
     "name": "stdin",
     "output_type": "stream",
     "text": [
      "Enter the result:  4\n"
     ]
    },
    {
     "name": "stdout",
     "output_type": "stream",
     "text": [
      "Incorrect\n",
      "The correct answer is 10\n",
      "You got 0 correct out of 5\n"
     ]
    },
    {
     "name": "stdin",
     "output_type": "stream",
     "text": [
      "Do you want to play again? (yes/no)  n\n"
     ]
    },
    {
     "name": "stdout",
     "output_type": "stream",
     "text": [
      "Starting again\n",
      "Question 0 of 5\n",
      "What is the result of this expression?\n",
      "10 * 2\n"
     ]
    },
    {
     "name": "stdin",
     "output_type": "stream",
     "text": [
      "Enter the result:  2\n"
     ]
    },
    {
     "name": "stdout",
     "output_type": "stream",
     "text": [
      "Incorrect\n",
      "The correct answer is 20\n",
      "Question 1 of 5\n",
      "What is the result of this expression?\n",
      "4 * 1\n"
     ]
    },
    {
     "name": "stdin",
     "output_type": "stream",
     "text": [
      "Enter the result:  32\n"
     ]
    },
    {
     "name": "stdout",
     "output_type": "stream",
     "text": [
      "Incorrect\n",
      "The correct answer is 4\n",
      "Question 2 of 5\n",
      "What is the result of this expression?\n",
      "4 / 9\n"
     ]
    },
    {
     "name": "stdin",
     "output_type": "stream",
     "text": [
      "Enter the result:  3\n"
     ]
    },
    {
     "name": "stdout",
     "output_type": "stream",
     "text": [
      "Incorrect\n",
      "The correct answer is 0.4444444444444444\n",
      "Question 3 of 5\n",
      "What is the result of this expression?\n",
      "3 / 8\n"
     ]
    },
    {
     "name": "stdin",
     "output_type": "stream",
     "text": [
      "Enter the result:  2\n"
     ]
    },
    {
     "name": "stdout",
     "output_type": "stream",
     "text": [
      "Incorrect\n",
      "The correct answer is 0.375\n",
      "Question 4 of 5\n",
      "What is the result of this expression?\n",
      "2 * 6\n"
     ]
    },
    {
     "name": "stdin",
     "output_type": "stream",
     "text": [
      "Enter the result:  2\n"
     ]
    },
    {
     "name": "stdout",
     "output_type": "stream",
     "text": [
      "Incorrect\n",
      "The correct answer is 12\n",
      "You got 0 correct out of 5\n"
     ]
    },
    {
     "name": "stdin",
     "output_type": "stream",
     "text": [
      "Do you want to play again? (yes/no)  3\n"
     ]
    },
    {
     "name": "stdout",
     "output_type": "stream",
     "text": [
      "Starting again\n",
      "Question 0 of 5\n",
      "What is the result of this expression?\n",
      "6 - 5\n"
     ]
    },
    {
     "name": "stdin",
     "output_type": "stream",
     "text": [
      "Enter the result:  2\n"
     ]
    },
    {
     "name": "stdout",
     "output_type": "stream",
     "text": [
      "Incorrect\n",
      "The correct answer is 1\n",
      "Question 1 of 5\n",
      "What is the result of this expression?\n",
      "1 - 3\n"
     ]
    },
    {
     "name": "stdin",
     "output_type": "stream",
     "text": [
      "Enter the result:  3\n"
     ]
    },
    {
     "name": "stdout",
     "output_type": "stream",
     "text": [
      "Incorrect\n",
      "The correct answer is -2\n",
      "Question 2 of 5\n",
      "What is the result of this expression?\n",
      "3 - 7\n"
     ]
    },
    {
     "name": "stdin",
     "output_type": "stream",
     "text": [
      "Enter the result:  3\n"
     ]
    },
    {
     "name": "stdout",
     "output_type": "stream",
     "text": [
      "Incorrect\n",
      "The correct answer is -4\n",
      "Question 3 of 5\n",
      "What is the result of this expression?\n",
      "5 + 10\n"
     ]
    },
    {
     "name": "stdin",
     "output_type": "stream",
     "text": [
      "Enter the result:  3\n"
     ]
    },
    {
     "name": "stdout",
     "output_type": "stream",
     "text": [
      "Incorrect\n",
      "The correct answer is 15\n",
      "Question 4 of 5\n",
      "What is the result of this expression?\n",
      "5 + 1\n"
     ]
    },
    {
     "name": "stdin",
     "output_type": "stream",
     "text": [
      "Enter the result:  3\n"
     ]
    },
    {
     "name": "stdout",
     "output_type": "stream",
     "text": [
      "Incorrect\n",
      "The correct answer is 6\n",
      "You got 0 correct out of 5\n"
     ]
    },
    {
     "name": "stdin",
     "output_type": "stream",
     "text": [
      "Do you want to play again? (yes/no)  no\n"
     ]
    },
    {
     "name": "stdout",
     "output_type": "stream",
     "text": [
      "Goodbye\n"
     ]
    }
   ],
   "source": [
    "%run questions.py"
   ]
  },
  {
   "cell_type": "code",
   "execution_count": null,
   "metadata": {},
   "outputs": [],
   "source": []
  }
 ],
 "metadata": {
  "kernelspec": {
   "display_name": "Python 3 (ipykernel)",
   "language": "python",
   "name": "python3"
  },
  "language_info": {
   "codemirror_mode": {
    "name": "ipython",
    "version": 3
   },
   "file_extension": ".py",
   "mimetype": "text/x-python",
   "name": "python",
   "nbconvert_exporter": "python",
   "pygments_lexer": "ipython3",
   "version": "3.11.7"
  }
 },
 "nbformat": 4,
 "nbformat_minor": 4
}
