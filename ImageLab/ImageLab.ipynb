{
 "cells": [
  {
   "cell_type": "markdown",
   "metadata": {},
   "source": [
    "# An Image Class\n",
    "\n",
    "In this lab we are going to generate a class to represent an image.  We will use this class to allow us to do simple image generation and write the images to disk.\n",
    "\n",
    "The pixel data will be held in a simple numpy array, and we will use the `PIL` library to write the image to disk.\n",
    "\n",
    "The class will have the following attributes\n",
    "\n",
    "- `width` : the width of the image\n",
    "- `height` : the height of the image\n",
    "- `pixels` : a numpy array of shape `(height, width, 3)` where the last dimension represents the red, green and blue channels.\n",
    "\n",
    "We will have the following methods\n",
    "\n",
    "- `__init__(self, width, height)` : to create a new image\n",
    "- `set_pixel(self, x, y, color)` : to set the pixel at `(x, y)` to the color\n",
    "- `save(self, filename)` : to write the image to disk\n",
    "- `load(self, filename)` : to load an image from disk\n",
    "- `display(self)` : to display the image in the notebook\n",
    "- `clear(self, color)` : to set all the pixels to the color\n",
    "\n",
    "To start with we will import the  python libraries we need, in this case `numpy` and `PIL`.\n"
   ]
  },
  {
   "cell_type": "code",
   "execution_count": 1,
   "metadata": {},
   "outputs": [],
   "source": [
    "# write code here\n",
    "\n"
   ]
  },
  {
   "cell_type": "markdown",
   "metadata": {},
   "source": [
    "The first thing we need to think about is how we typically layout and image. At it's simplest level we can say an image is a collection of pixels with the origin at 0,0 in the top left corner.  The x axis increases as we move to the right and the y axis increases as we move down.  This is the typical way we layout images in computer graphics.\n",
    "\n",
    "We can represent the image as a 3D numpy array, where the first dimension is the y axis, the second dimension is the x axis and the third dimension is the color channel.  We will use the convention that the color channels are in the order red, green, blue.\n",
    "\n",
    "Each of the red,green, and blue channels will be an integer between 0 and 255.  This is a typical and simple way to represent color in computer graphics.  We will use a tuple of three integers to represent the color, `(r, g, b)`.\n",
    "\n",
    "## [numpy.array](https://numpy.org/doc/1.26/reference/generated/numpy.array.html)\n",
    "\n",
    "We will look at numpy in more detail in [this lecture](https://nccastaff.bournemouth.ac.uk/jmacey/SEForMedia/lectures/Lecture5/) for now we are going to just use the np.array class to hold the pixel data. \n",
    "\n",
    "The following code demonstrates how we can create a simple array and access the data"
   ]
  },
  {
   "cell_type": "code",
   "execution_count": 2,
   "metadata": {},
   "outputs": [
    {
     "ename": "NameError",
     "evalue": "name 'np' is not defined",
     "output_type": "error",
     "traceback": [
      "\u001b[31m---------------------------------------------------------------------------\u001b[39m",
      "\u001b[31mNameError\u001b[39m                                 Traceback (most recent call last)",
      "\u001b[36mCell\u001b[39m\u001b[36m \u001b[39m\u001b[32mIn[2]\u001b[39m\u001b[32m, line 3\u001b[39m\n\u001b[32m      1\u001b[39m width = \u001b[32m3\u001b[39m\n\u001b[32m      2\u001b[39m height = \u001b[32m2\u001b[39m\n\u001b[32m----> \u001b[39m\u001b[32m3\u001b[39m pixels = \u001b[43mnp\u001b[49m.zeros((height, width, \u001b[32m3\u001b[39m), dtype=np.uint8)\n\u001b[32m      4\u001b[39m pixels[\u001b[32m0\u001b[39m, \u001b[32m0\u001b[39m] = [\u001b[32m255\u001b[39m, \u001b[32m0\u001b[39m, \u001b[32m0\u001b[39m]  \u001b[38;5;66;03m# red\u001b[39;00m\n\u001b[32m      5\u001b[39m pixels[\u001b[32m0\u001b[39m, \u001b[32m1\u001b[39m] = [\u001b[32m0\u001b[39m, \u001b[32m255\u001b[39m, \u001b[32m0\u001b[39m]  \u001b[38;5;66;03m# green\u001b[39;00m\n",
      "\u001b[31mNameError\u001b[39m: name 'np' is not defined"
     ]
    }
   ],
   "source": [
    "width = 3\n",
    "height = 2\n",
    "pixels = np.zeros((height, width, 3), dtype=np.uint8)\n",
    "pixels[0, 0] = [255, 0, 0]  # red\n",
    "pixels[0, 1] = [0, 255, 0]  # green\n",
    "pixels[0, 2] = [0, 0, 255]  # blue\n",
    "print(pixels)"
   ]
  },
  {
   "cell_type": "markdown",
   "metadata": {},
   "source": [
    "\n",
    "In this example we are creating an image of width 3 and height 2, and setting each element to be a zero of type uint8.  We then set the pixel at 0,0 to be red, 0,1 to be green and 0,2 to be blue.  \n",
    "\n",
    "The 2nd row is defaulted to black as we have not set the pixel values.\n",
    "\n",
    "As you can see we can address each pixel by it's x and y coordinates using the array indexing.  We can also address the color channels using the third dimension.  In this case 0 is red, 1 is green and 2 is blue.\n",
    "\n",
    "Whilst it is typical for us to use x,y coordinates to address pixels, numpy uses the opposite convention.  The first dimension is the y axis and the second dimension is the x axis.  This is a common source of confusion when working with numpy array and we can design around this later in the lab when we implement the `set_pixel` method.\n",
    "\n",
    "We can also set every element in the array to a single value using the `fill` method.  This is useful when we want to clear the image to a single color.\n",
    "\n"
   ]
  },
  {
   "cell_type": "code",
   "execution_count": null,
   "metadata": {},
   "outputs": [],
   "source": [
    "width = 100\n",
    "height = 100\n",
    "\n",
    "pixels = np.full((width, height, 3), (255, 0, 0), dtype=np.uint8)  # red"
   ]
  },
  {
   "cell_type": "markdown",
   "metadata": {},
   "source": [
    "We can save this image to disk using the PIL library.  We can create a PIL image from a numpy array using the `Image.fromarray` method.  We can then save the image to disk using the `save` method.  The following code demonstrates how we can save the image to disk."
   ]
  },
  {
   "cell_type": "code",
   "execution_count": null,
   "metadata": {},
   "outputs": [],
   "source": [
    "img = PILImage.fromarray(pixels)\n",
    "img.save(\"red.png\")"
   ]
  },
  {
   "cell_type": "markdown",
   "metadata": {},
   "source": [
    "There are two methods to display an image in a Jupyter notebook, in markdown we can refer to the file we have saved using the ```![alt text](path)``` tag so the code ```![red](red.png)``` used below will display our image. \n",
    "\n",
    "![alt text](red.png)\n",
    "\n",
    "Alternatively we can use the `IPython.display` module to display the image in the notebook.  The following code demonstrates how we can display the image in the notebook.\n",
    "\n"
   ]
  },
  {
   "cell_type": "code",
   "execution_count": null,
   "metadata": {},
   "outputs": [],
   "source": [
    "# show the image in the notebook\n",
    "from IPython.display import Image as IPImage\n",
    "\n",
    "IPImage(filename=\"red.png\")"
   ]
  },
  {
   "cell_type": "markdown",
   "metadata": {},
   "source": [
    "### Matplotlib\n",
    "\n",
    "There is another library that is often used to display images in Jupyter notebooks called `matplotlib`.  We can use the `imshow` method to display the image.  The following code demonstrates how we can display the image using `matplotlib`. We will investigate matplotlib in a later lab as well. \n",
    "\n"
   ]
  },
  {
   "cell_type": "code",
   "execution_count": null,
   "metadata": {},
   "outputs": [],
   "source": [
    "import matplotlib.pyplot as plt\n",
    "\n",
    "# only show image not axis\n",
    "plt.axis(\"off\")\n",
    "plt.imshow(img)\n",
    "plt.show(img)"
   ]
  },
  {
   "cell_type": "markdown",
   "metadata": {},
   "source": []
  },
  {
   "cell_type": "markdown",
   "metadata": {},
   "source": [
    "# A Simple Image Class\n",
    "\n",
    "We now have enough information to start designing our image class. Typically when designing a class we would develop it in a separate file and then import it into our notebook.  This makes it easier to test and debug the class.  We will develop the class in the notebook for simplicity. However be warned that each time you make changes you will need to re-run the class definition to update the class. This is not ideal but is fine for simple classes like this one.\n",
    "\n",
    "We can also use the run all command to ensure that the class is up to date.\n",
    "\n"
   ]
  },
  {
   "cell_type": "code",
   "execution_count": null,
   "metadata": {},
   "outputs": [],
   "source": [
    "## write a class to create images\n"
   ]
  },
  {
   "cell_type": "code",
   "execution_count": null,
   "metadata": {},
   "outputs": [],
   "source": [
    "image = Image(100, 100)\n",
    "image.set_pixel(50, 50, (0, 0, 255))\n",
    "image.save(\"blue.png\")\n",
    "image.display()"
   ]
  },
  {
   "cell_type": "markdown",
   "metadata": {},
   "source": [
    "This works well, but we could improve it more. For example when constructing an image at present the background is black.  It would be better if we could specify the background color when we create the image.  We can do this by adding a new parameter to the `__init__` method.  We can also add a method to set all the pixels to a single color.  The following code demonstrates how we can do this."
   ]
  },
  {
   "cell_type": "code",
   "execution_count": null,
   "metadata": {},
   "outputs": [],
   "source": [
    "# Copy the image class from previous cell and expand to add the init method\n",
    "\n"
   ]
  },
  {
   "cell_type": "code",
   "execution_count": null,
   "metadata": {},
   "outputs": [],
   "source": [
    "image = Image(100, 100, (128, 128, 128))\n",
    "image.set_pixel(50, 50, (0, 255, 0))\n",
    "image.save(\"green.png\")\n",
    "image.display()"
   ]
  },
  {
   "cell_type": "markdown",
   "metadata": {},
   "source": [
    "In this example we can now set the background colour, however we have not yet implemented the `clear` method.  It makes sense to write this then use it in the ```__init__``` method to set the background color as this reduces code duplications."
   ]
  },
  {
   "cell_type": "code",
   "execution_count": null,
   "metadata": {},
   "outputs": [],
   "source": [
    "# copy the previous class and add the method and expand\n"
   ]
  },
  {
   "cell_type": "code",
   "execution_count": null,
   "metadata": {},
   "outputs": [],
   "source": [
    "image = Image(100, 100, (128, 128, 128))\n",
    "image.set_pixel(50, 50, (0, 0, 255))\n",
    "image.save(\"blue.png\")\n",
    "image.display()"
   ]
  },
  {
   "cell_type": "markdown",
   "metadata": {},
   "source": [
    "## load method\n",
    "Now we have the ability to create an image with a specified background color, and set pixels we can now generate an image, save it and implement the load method. First lets save an image called random.png generate using a random number generator.  We can then load this image back in and display it.  The following code demonstrates how we can do this."
   ]
  },
  {
   "cell_type": "code",
   "execution_count": null,
   "metadata": {},
   "outputs": [],
   "source": [
    "## write code to generate random image of 100x100 pixels\n",
    "\n"
   ]
  },
  {
   "cell_type": "markdown",
   "metadata": {},
   "source": [
    "To load an image and convert it into a numpy array we can use the `Image.open` method.  This will return a PIL image object.  We can then convert this to a numpy array using the `np.array` method.  The following code demonstrates how we can load an image from disk."
   ]
  },
  {
   "cell_type": "code",
   "execution_count": null,
   "metadata": {},
   "outputs": [],
   "source": [
    "image = PILImage.open(\"random.png\")\n",
    "np_image = np.array(image)\n",
    "print(np_image.shape)"
   ]
  },
  {
   "cell_type": "markdown",
   "metadata": {},
   "source": [
    "We can now use this code to implement the `load` method in our image class.  "
   ]
  },
  {
   "cell_type": "code",
   "execution_count": null,
   "metadata": {},
   "outputs": [],
   "source": [
    "## copy the previous class and add the method to load image\n"
   ]
  },
  {
   "cell_type": "code",
   "execution_count": null,
   "metadata": {},
   "outputs": [],
   "source": [
    "image = Image(100, 100)\n",
    "image.load(\"random.png\")\n",
    "image.display()"
   ]
  },
  {
   "cell_type": "markdown",
   "metadata": {},
   "source": [
    "Whilst this works, there is a little design issue with this, we have to create an image with a size, we then call load to replace the image with the one from disk.  It would be better if we could just load the image directly into the class.  We can do this using a class method.  A class method is a method that is called on the class rather than an instance of the class.  We can use the `@classmethod` decorator to define a class method. \n",
    "\n",
    "In this case I will still keep the load method, but add a new class method called `from_file` that will create a new image and load the image from disk.  The following code demonstrates how we can do this."
   ]
  },
  {
   "cell_type": "code",
   "execution_count": null,
   "metadata": {},
   "outputs": [],
   "source": [
    "## copy the previous class and add the method to load image\n"
   ]
  },
  {
   "cell_type": "code",
   "execution_count": null,
   "metadata": {},
   "outputs": [],
   "source": [
    "image = Image.from_file(\"random.png\")\n",
    "image.display()"
   ]
  },
  {
   "cell_type": "markdown",
   "metadata": {},
   "source": [
    "## Final class\n",
    "\n",
    "We now have a completed class for simple image manipulation.  We can create an image, set pixels, save the image to disk, load an image from disk and display the image in the notebook.  \n",
    "\n",
    "It would be good to add some other methods to this class, for example we could add a method to draw a line or set larger pixels in the image to a single colour or to get the pixel value at a given location.\n",
    "\n",
    "## Exercise 1\n",
    "\n",
    "Add a method to the image class called `get_pixel` that will return the color of the pixel at a given location.  The method should take two parameters `x` and `y` and return the color at that location.  \n",
    "\n",
    "## Exercise 2\n",
    "\n",
    "Add a method to the image class called `draw_line` that will draw a line between two points.  The method should take four parameters `x1`, `y1`, `x2`, `y2` and `color`.  The method should draw a line between the two points using the color specified.\n",
    "\n",
    "We can use the [Bresenham line drawing algorithm](https://en.wikipedia.org/wiki/Bresenham%27s_line_algorithm) to draw the line.  The following pseudo code demonstrates how we can draw a line between two points using the Bresenham line drawing algorithm. We can use the Image and the put_pixel function to draw the line.\n",
    "\n",
    "```python\n",
    "function BresenhamLine(x1, y1, x2, y2)\n",
    "    // Calculate differences\n",
    "    dx = abs(x2 - x1)\n",
    "    dy = abs(y2 - y1)\n",
    "    \n",
    "    // Determine the direction of the line\n",
    "    if x2 > x1 then\n",
    "        stepX = 1\n",
    "    else\n",
    "        stepX = -1\n",
    "    \n",
    "    if y2 > y1 then\n",
    "        stepY = 1\n",
    "    else\n",
    "        stepY = -1\n",
    "    \n",
    "    // Initialize error terms\n",
    "    if dx > dy then\n",
    "        // Line is more horizontal than vertical\n",
    "        p = 2*dy - dx\n",
    "        y = y1\n",
    "        \n",
    "        // Loop through x coordinates\n",
    "        for x from x1 to x2 step stepX\n",
    "            plot(x, y)  // Plot the current point\n",
    "            \n",
    "            if p >= 0 then\n",
    "                y = y + stepY  // Move in the y direction\n",
    "                p = p + 2*(dy - dx)  // Adjust the decision parameter\n",
    "            else\n",
    "                p = p + 2*dy  // Adjust the decision parameter\n",
    "    \n",
    "    else\n",
    "        // Line is more vertical than horizontal\n",
    "        p = 2*dx - dy\n",
    "        x = x1\n",
    "        \n",
    "        // Loop through y coordinates\n",
    "        for y from y1 to y2 step stepY\n",
    "            plot(x, y)  // Plot the current point\n",
    "            \n",
    "            if p >= 0 then\n",
    "                x = x + stepX  // Move in the x direction\n",
    "                p = p + 2*(dx - dy)  // Adjust the decision parameter\n",
    "            else\n",
    "                p = p + 2*dx  // Adjust the decision parameter\n",
    "```\n",
    "\n",
    "Explanation:\n",
    "\n",
    "\t1.\tInput: Start point (x1, y1) and end point (x2, y2).\n",
    "\t2.\tDifference Calculation: Compute the horizontal and vertical differences dx and dy.\n",
    "\t3.\tStepping Direction: Based on the relative positions of the two points, determine whether the line should move right, left, up, or down by setting stepX and stepY.\n",
    "\t4.\tInitialize Error Term: Based on the dominant direction (horizontal or vertical), initialize the error term (p).\n",
    "\t5.\tLooping:\n",
    "\t•\tIf the line is more horizontal, iterate through the x-values.\n",
    "\t•\tIf the line is more vertical, iterate through the y-values.\n",
    "\t6.\tDecision Making: At each point, adjust the error term:\n",
    "\t•\tIf the error exceeds a threshold (e.g., p \\geq 0), the line moves diagonally (both x and y change).\n",
    "\t•\tOtherwise, the line moves only in the primary direction (either x or y).\n",
    "\t7.\tPlotting: For each iteration, plot the point on the screen.\n",
    "\n",
    "This algorithm ensures that only integer operations are used, making it efficient for drawing straight lines on raster displays."
   ]
  },
  {
   "cell_type": "markdown",
   "metadata": {},
   "source": []
  },
  {
   "cell_type": "markdown",
   "metadata": {},
   "source": [
    "## Exercise 3\n",
    "\n",
    "Now we have a fully working class, it is possible to generate this in a stand alone python file called Image.py. Copy all of your code into a file called Image.py and write a simple test program that creates an image, sets some pixels, draws a line and saves the image to disk.\n",
    "\n"
   ]
  }
 ],
 "metadata": {
  "kernelspec": {
   "display_name": "Python 3 (ipykernel)",
   "language": "python",
   "name": "python3"
  },
  "language_info": {
   "codemirror_mode": {
    "name": "ipython",
    "version": 3
   },
   "file_extension": ".py",
   "mimetype": "text/x-python",
   "name": "python",
   "nbconvert_exporter": "python",
   "pygments_lexer": "ipython3",
   "version": "3.13.2"
  }
 },
 "nbformat": 4,
 "nbformat_minor": 4
}
