{
 "cells": [
  {
   "cell_type": "markdown",
   "metadata": {},
   "source": [
    "# An Image Class\n",
    "\n",
    "In this lab we are going to generate a class to represent an image.  We will use this class to allow us to do simple image generation and write the images to disk.\n",
    "\n",
    "The pixel data will be held in a simple numpy array, and we will use the `PIL` library to write the image to disk.\n",
    "\n",
    "The class will have the following attributes\n",
    "\n",
    "- `width` : the width of the image\n",
    "- `height` : the height of the image\n",
    "- `pixels` : a numpy array of shape `(height, width, 3)` where the last dimension represents the red, green and blue channels.\n",
    "\n",
    "We will have the following methods\n",
    "\n",
    "- `__init__(self, width, height)` : to create a new image\n",
    "- `set_pixel(self, x, y, color)` : to set the pixel at `(x, y)` to the color\n",
    "- `save(self, filename)` : to write the image to disk\n",
    "- `load(self, filename)` : to load an image from disk\n",
    "- `display(self)` : to display the image in the notebook\n",
    "- `clear(self, color)` : to set all the pixels to the color\n",
    "\n",
    "To start with we will import the  python libraries we need, in this case `numpy` and `PIL`.\n"
   ]
  },
  {
   "cell_type": "code",
   "execution_count": 36,
   "metadata": {},
   "outputs": [],
   "source": [
    "# write code here\n",
    "\n",
    "from PIL import Image as PILImage\n",
    "import numpy as np\n"
   ]
  },
  {
   "cell_type": "markdown",
   "metadata": {},
   "source": [
    "The first thing we need to think about is how we typically layout and image. At it's simplest level we can say an image is a collection of pixels with the origin at 0,0 in the top left corner.  The x axis increases as we move to the right and the y axis increases as we move down.  This is the typical way we layout images in computer graphics.\n",
    "\n",
    "We can represent the image as a 3D numpy array, where the first dimension is the y axis, the second dimension is the x axis and the third dimension is the color channel.  We will use the convention that the color channels are in the order red, green, blue.\n",
    "\n",
    "Each of the red,green, and blue channels will be an integer between 0 and 255.  This is a typical and simple way to represent color in computer graphics.  We will use a tuple of three integers to represent the color, `(r, g, b)`.\n",
    "\n",
    "## [numpy.array](https://numpy.org/doc/1.26/reference/generated/numpy.array.html)\n",
    "\n",
    "We will look at numpy in more detail in [this lecture](https://nccastaff.bournemouth.ac.uk/jmacey/SEForMedia/lectures/Lecture5/) for now we are going to just use the np.array class to hold the pixel data. \n",
    "\n",
    "The following code demonstrates how we can create a simple array and access the data"
   ]
  },
  {
   "cell_type": "code",
   "execution_count": 37,
   "metadata": {},
   "outputs": [
    {
     "name": "stdout",
     "output_type": "stream",
     "text": [
      "[[[255   0   0]\n",
      "  [  0 255   0]\n",
      "  [  0   0 255]]\n",
      "\n",
      " [[  0   0   0]\n",
      "  [  0   0   0]\n",
      "  [  0   0   0]]]\n"
     ]
    }
   ],
   "source": [
    "width = 3\n",
    "height = 2\n",
    "pixels = np.zeros((height, width, 3), dtype=np.uint8)\n",
    "pixels[0, 0] = [255, 0, 0]  # red\n",
    "pixels[0, 1] = [0, 255, 0]  # green\n",
    "pixels[0, 2] = [0, 0, 255]  # blue\n",
    "print(pixels)"
   ]
  },
  {
   "cell_type": "markdown",
   "metadata": {},
   "source": [
    "\n",
    "In this example we are creating an image of width 3 and height 2, and setting each element to be a zero of type uint8.  We then set the pixel at 0,0 to be red, 0,1 to be green and 0,2 to be blue.  \n",
    "\n",
    "The 2nd row is defaulted to black as we have not set the pixel values.\n",
    "\n",
    "As you can see we can address each pixel by it's x and y coordinates using the array indexing.  We can also address the color channels using the third dimension.  In this case 0 is red, 1 is green and 2 is blue.\n",
    "\n",
    "Whilst it is typical for us to use x,y coordinates to address pixels, numpy uses the opposite convention.  The first dimension is the y axis and the second dimension is the x axis.  This is a common source of confusion when working with numpy array and we can design around this later in the lab when we implement the `set_pixel` method.\n",
    "\n",
    "We can also set every element in the array to a single value using the `fill` method.  This is useful when we want to clear the image to a single color.\n",
    "\n"
   ]
  },
  {
   "cell_type": "code",
   "execution_count": 38,
   "metadata": {},
   "outputs": [],
   "source": [
    "width = 100\n",
    "height = 100\n",
    "\n",
    "pixels=np.full((width,height,3),(255,0,0),dtype=np.uint8) # red"
   ]
  },
  {
   "cell_type": "markdown",
   "metadata": {},
   "source": [
    "We can save this image to disk using the PIL library.  We can create a PIL image from a numpy array using the `Image.fromarray` method.  We can then save the image to disk using the `save` method.  The following code demonstrates how we can save the image to disk."
   ]
  },
  {
   "cell_type": "code",
   "execution_count": 39,
   "metadata": {},
   "outputs": [],
   "source": [
    "img = PILImage.fromarray(pixels)\n",
    "img.save('red.png')\n"
   ]
  },
  {
   "cell_type": "markdown",
   "metadata": {},
   "source": [
    "There are two methods to display an image in a Jupyter notebook, in markdown we can refer to the file we have saved using the ```![alt text](path)``` tag so the code ```![red](red.png)``` used below will display our image. \n",
    "\n",
    "![alt text](red.png)\n",
    "\n",
    "Alternatively we can use the `IPython.display` module to display the image in the notebook.  The following code demonstrates how we can display the image in the notebook.\n",
    "\n"
   ]
  },
  {
   "cell_type": "code",
   "execution_count": 40,
   "metadata": {},
   "outputs": [
    {
     "data": {
      "image/png": "[encoded data removed]",
      "text/plain": [
       "<IPython.core.display.Image object>"
      ]
     },
     "execution_count": 40,
     "metadata": {},
     "output_type": "execute_result"
    }
   ],
   "source": [
    "# show the image in the notebook\n",
    "from IPython.display import Image as IPImage\n",
    "IPImage(filename='red.png') "
   ]
  },
  {
   "cell_type": "markdown",
   "metadata": {},
   "source": [
    "### Matplotlib\n",
    "\n",
    "There is another library that is often used to display images in Jupyter notebooks called `matplotlib`.  We can use the `imshow` method to display the image.  The following code demonstrates how we can display the image using `matplotlib`. We will investigate matplotlib in a later lab as well. \n",
    "\n"
   ]
  },
  {
   "cell_type": "code",
   "execution_count": 41,
   "metadata": {},
   "outputs": [
    {
     "data": {
      "image/png": "[encoded data removed]",
      "text/plain": [
       "<Figure size 640x480 with 1 Axes>"
      ]
     },
     "metadata": {},
     "output_type": "display_data"
    }
   ],
   "source": [
    "import matplotlib.pyplot as plt\n",
    "# only show image not axis\n",
    "plt.axis('off')\n",
    "plt.imshow(img)\n",
    "plt.show(img)"
   ]
  },
  {
   "cell_type": "markdown",
   "metadata": {},
   "source": []
  },
  {
   "cell_type": "markdown",
   "metadata": {},
   "source": [
    "# A Simple Image Class\n",
    "\n",
    "We now have enough information to start designing our image class. Typically when designing a class we would develop it in a separate file and then import it into our notebook.  This makes it easier to test and debug the class.  We will develop the class in the notebook for simplicity. However be warned that each time you make changes you will need to re-run the class definition to update the class. This is not ideal but is fine for simple classes like this one.\n",
    "\n",
    "We can also use the run all command to ensure that the class is up to date.\n",
    "\n"
   ]
  },
  {
   "cell_type": "code",
   "execution_count": 60,
   "metadata": {},
   "outputs": [],
   "source": [
    "## write a class to create images\n",
    "class Image:\n",
    "    def __init__(self, width, height):\n",
    "        self.width = width\n",
    "        self.height = height\n",
    "        self.pixels = np.zeros((height, width, 3), dtype=np.uint8)\n",
    "        \n",
    "    def set_pixel(self, x, y, color):\n",
    "        self.pixels[y, x] = color\n",
    "        \n",
    "    def save(self, filename):\n",
    "        img = PILImage.fromarray(self.pixels)\n",
    "        img.save(filename)\n",
    "        \n",
    "    def display(self):\n",
    "        plt.axis('off')\n",
    "        img = PILImage.fromarray(self.pixels)\n",
    "        plt.imshow(img)\n",
    "        plt.show(img)"
   ]
  },
  {
   "cell_type": "code",
   "execution_count": 63,
   "metadata": {},
   "outputs": [
    {
     "data": {
      "image/png": "[encoded data removed]",
      "text/plain": [
       "<Figure size 640x480 with 1 Axes>"
      ]
     },
     "metadata": {},
     "output_type": "display_data"
    }
   ],
   "source": [
    "image=Image(100,100)\n",
    "image.set_pixel(50,50,(0,0,255))\n",
    "image.save('blue.png')\n",
    "image.display()"
   ]
  },
  {
   "cell_type": "markdown",
   "metadata": {},
   "source": [
    "This works well, but we could improve it more. For example when constructing an image at present the background is black.  It would be better if we could specify the background color when we create the image.  We can do this by adding a new parameter to the `__init__` method.  We can also add a method to set all the pixels to a single color.  The following code demonstrates how we can do this."
   ]
  },
  {
   "cell_type": "code",
   "execution_count": 69,
   "metadata": {},
   "outputs": [],
   "source": [
    "# Copy the image class from previous cell and expand to add the init method\n",
    "\n",
    "## write a class to create images\n",
    "class Image:\n",
    "    def __init__(self, width, height, colour=(255,255,255)):\n",
    "        self.width = width\n",
    "        self.height = height\n",
    "        self.pixels = np.full((height, width, 3), colour,dtype=np.uint8)\n",
    "        \n",
    "    def set_pixel(self, x, y, color):\n",
    "        self.pixels[y, x] = color\n",
    "        \n",
    "    def save(self, filename):\n",
    "        img = PILImage.fromarray(self.pixels)\n",
    "        img.save(filename)\n",
    "        \n",
    "    def display(self):\n",
    "        plt.axis('off')\n",
    "        img = PILImage.fromarray(self.pixels)\n",
    "        plt.imshow(img)\n",
    "        plt.show(img)"
   ]
  },
  {
   "cell_type": "code",
   "execution_count": 72,
   "metadata": {},
   "outputs": [
    {
     "data": {
      "image/png": "[encoded data removed]",
      "text/plain": [
       "<Figure size 640x480 with 1 Axes>"
      ]
     },
     "metadata": {},
     "output_type": "display_data"
    }
   ],
   "source": [
    "image=Image(100,100,(128,128,128))\n",
    "image.set_pixel(50,50,(0,255,0))\n",
    "image.save('green.png')\n",
    "image.display()"
   ]
  },
  {
   "cell_type": "markdown",
   "metadata": {},
   "source": [
    "In this example we can now set the background colour, however we have not yet implemented the `clear` method.  It makes sense to write this then use it in the ```__init__``` method to set the background color as this reduces code duplications."
   ]
  },
  {
   "cell_type": "code",
   "execution_count": null,
   "metadata": {},
   "outputs": [],
   "source": [
    "# copy the previous class and add the method and expand \n",
    "\n",
    "# Copy the image class from previous cell and expand to add the init method\n",
    "\n",
    "## write a class to create images\n",
    "class Image:\n",
    "    def __init__(self, width, height, colour=(255,255,255)):\n",
    "        self.width = width\n",
    "        self.height = height\n",
    "        self.clear(colour)\n",
    "\n",
    "    def clear(self,colour) :\n",
    "        self.pixels = np.full((self.height, self.width, 3), colour,dtype=np.uint8)\n",
    "\n",
    "        \n",
    "    def set_pixel(self, x, y, color):\n",
    "        self.pixels[y, x] = color\n",
    "        \n",
    "    def save(self, filename):\n",
    "        img = PILImage.fromarray(self.pixels)\n",
    "        img.save(filename)\n",
    "        \n",
    "    def display(self):\n",
    "        plt.axis('off')\n",
    "        img = PILImage.fromarray(self.pixels)\n",
    "        plt.imshow(img)\n",
    "        plt.show(img)"
   ]
  }
 ],
 "metadata": {
  "kernelspec": {
   "display_name": "base",
   "language": "python",
   "name": "python3"
  },
  "language_info": {
   "codemirror_mode": {
    "name": "ipython",
    "version": 3
   },
   "file_extension": ".py",
   "mimetype": "text/x-python",
   "name": "python",
   "nbconvert_exporter": "python",
   "pygments_lexer": "ipython3",
   "version": "3.11.7"
  }
 },
 "nbformat": 4,
 "nbformat_minor": 2
}
